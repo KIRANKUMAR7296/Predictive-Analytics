{
 "cells": [
  {
   "cell_type": "markdown",
   "metadata": {},
   "source": [
    "### Predictive Analytics\n",
    "\n",
    "Dataset : Insurance ( Kaggle )"
   ]
  },
  {
   "cell_type": "code",
   "execution_count": 1,
   "metadata": {},
   "outputs": [],
   "source": [
    "import pandas as pd\n",
    "import numpy as np\n",
    "import matplotlib.pyplot as plt\n",
    "import seaborn as sns\n",
    "from sklearn.model_selection import train_test_split\n",
    "from sklearn.impute import SimpleImputer\n",
    "from sklearn.preprocessing import LabelEncoder, OneHotEncoder\n",
    "from sklearn.preprocessing import MinMaxScaler, StandardScaler\n",
    "from sklearn.linear_model import LinearRegression\n",
    "from sklearn.preprocessing import PolynomialFeatures\n",
    "from sklearn.svm import SVR\n",
    "from sklearn.tree import DecisionTreeRegressor\n",
    "from sklearn.ensemble import RandomForestRegressor\n",
    "from sklearn.model_selection import GridSearchCV\n",
    "import warnings\n",
    "warnings.simplefilter(action='ignore', category=FutureWarning)"
   ]
  },
  {
   "cell_type": "code",
   "execution_count": 2,
   "metadata": {},
   "outputs": [
    {
     "data": {
      "text/html": [
       "<div>\n",
       "<style scoped>\n",
       "    .dataframe tbody tr th:only-of-type {\n",
       "        vertical-align: middle;\n",
       "    }\n",
       "\n",
       "    .dataframe tbody tr th {\n",
       "        vertical-align: top;\n",
       "    }\n",
       "\n",
       "    .dataframe thead th {\n",
       "        text-align: right;\n",
       "    }\n",
       "</style>\n",
       "<table border=\"1\" class=\"dataframe\">\n",
       "  <thead>\n",
       "    <tr style=\"text-align: right;\">\n",
       "      <th></th>\n",
       "      <th>age</th>\n",
       "      <th>sex</th>\n",
       "      <th>bmi</th>\n",
       "      <th>children</th>\n",
       "      <th>smoker</th>\n",
       "      <th>region</th>\n",
       "      <th>charges</th>\n",
       "    </tr>\n",
       "  </thead>\n",
       "  <tbody>\n",
       "    <tr>\n",
       "      <th>0</th>\n",
       "      <td>19</td>\n",
       "      <td>female</td>\n",
       "      <td>27.900</td>\n",
       "      <td>0</td>\n",
       "      <td>yes</td>\n",
       "      <td>southwest</td>\n",
       "      <td>16884.92400</td>\n",
       "    </tr>\n",
       "    <tr>\n",
       "      <th>1</th>\n",
       "      <td>18</td>\n",
       "      <td>male</td>\n",
       "      <td>33.770</td>\n",
       "      <td>1</td>\n",
       "      <td>no</td>\n",
       "      <td>southeast</td>\n",
       "      <td>1725.55230</td>\n",
       "    </tr>\n",
       "    <tr>\n",
       "      <th>2</th>\n",
       "      <td>28</td>\n",
       "      <td>male</td>\n",
       "      <td>33.000</td>\n",
       "      <td>3</td>\n",
       "      <td>no</td>\n",
       "      <td>southeast</td>\n",
       "      <td>4449.46200</td>\n",
       "    </tr>\n",
       "    <tr>\n",
       "      <th>3</th>\n",
       "      <td>33</td>\n",
       "      <td>male</td>\n",
       "      <td>22.705</td>\n",
       "      <td>0</td>\n",
       "      <td>no</td>\n",
       "      <td>northwest</td>\n",
       "      <td>21984.47061</td>\n",
       "    </tr>\n",
       "    <tr>\n",
       "      <th>4</th>\n",
       "      <td>32</td>\n",
       "      <td>male</td>\n",
       "      <td>28.880</td>\n",
       "      <td>0</td>\n",
       "      <td>no</td>\n",
       "      <td>northwest</td>\n",
       "      <td>3866.85520</td>\n",
       "    </tr>\n",
       "  </tbody>\n",
       "</table>\n",
       "</div>"
      ],
      "text/plain": [
       "   age     sex     bmi  children smoker     region      charges\n",
       "0   19  female  27.900         0    yes  southwest  16884.92400\n",
       "1   18    male  33.770         1     no  southeast   1725.55230\n",
       "2   28    male  33.000         3     no  southeast   4449.46200\n",
       "3   33    male  22.705         0     no  northwest  21984.47061\n",
       "4   32    male  28.880         0     no  northwest   3866.85520"
      ]
     },
     "execution_count": 2,
     "metadata": {},
     "output_type": "execute_result"
    }
   ],
   "source": [
    "data = pd.read_csv('../Data/Insurance.csv')\n",
    "data.head()"
   ]
  },
  {
   "cell_type": "markdown",
   "metadata": {},
   "source": [
    "Handling **Missing** Values"
   ]
  },
  {
   "cell_type": "code",
   "execution_count": 3,
   "metadata": {},
   "outputs": [
    {
     "data": {
      "text/plain": [
       "age         0\n",
       "sex         0\n",
       "bmi         5\n",
       "children    0\n",
       "smoker      0\n",
       "region      0\n",
       "charges     0\n",
       "dtype: int64"
      ]
     },
     "execution_count": 3,
     "metadata": {},
     "output_type": "execute_result"
    }
   ],
   "source": [
    "data.isna().sum()"
   ]
  },
  {
   "cell_type": "code",
   "execution_count": 4,
   "metadata": {},
   "outputs": [
    {
     "data": {
      "text/plain": [
       "bmi    5\n",
       "dtype: int64"
      ]
     },
     "execution_count": 4,
     "metadata": {},
     "output_type": "execute_result"
    }
   ],
   "source": [
    "missing = data.isna().sum()\n",
    "missing[missing > 0]"
   ]
  },
  {
   "cell_type": "markdown",
   "metadata": {},
   "source": [
    "Fill the Missing Value with the **Mean**"
   ]
  },
  {
   "cell_type": "code",
   "execution_count": 5,
   "metadata": {},
   "outputs": [
    {
     "data": {
      "text/plain": [
       "age         0\n",
       "sex         0\n",
       "bmi         0\n",
       "children    0\n",
       "smoker      0\n",
       "region      0\n",
       "charges     0\n",
       "dtype: int64"
      ]
     },
     "execution_count": 5,
     "metadata": {},
     "output_type": "execute_result"
    }
   ],
   "source": [
    "data['bmi'].fillna(data['bmi'].mean(), inplace=True)\n",
    "data.isna().sum()"
   ]
  },
  {
   "cell_type": "markdown",
   "metadata": {},
   "source": [
    "### Data Understanding\n",
    "\n",
    "Visualization"
   ]
  },
  {
   "cell_type": "code",
   "execution_count": 6,
   "metadata": {},
   "outputs": [
    {
     "data": {
      "image/png": "[encoded data removed]",
      "text/plain": [
       "<Figure size 864x1728 with 8 Axes>"
      ]
     },
     "metadata": {
      "needs_background": "light"
     },
     "output_type": "display_data"
    }
   ],
   "source": [
    "figure, ax = plt.subplots(nrows=4, ncols=2, figsize=(12,24))\n",
    "\n",
    "# Distribution of Data `\n",
    "sns.distplot(data['charges'], ax = ax[0,0])\n",
    "sns.distplot(data['age'], ax = ax[0,1])\n",
    "sns.distplot(data['bmi'], ax = ax[1,0])\n",
    "sns.distplot(data['children'], ax = ax[1,1])\n",
    "\n",
    "sns.countplot(data['sex'], ax = ax[2,0])\n",
    "sns.countplot(data['smoker'], ax = ax[2,1])\n",
    "sns.countplot(data['region'], ax = ax[3,0]);"
   ]
  },
  {
   "cell_type": "code",
   "execution_count": 7,
   "metadata": {},
   "outputs": [
    {
     "data": {
      "image/png": "[encoded data removed]",
      "text/plain": [
       "<Figure size 720x720 with 20 Axes>"
      ]
     },
     "metadata": {
      "needs_background": "light"
     },
     "output_type": "display_data"
    }
   ],
   "source": [
    "sns.pairplot(data);"
   ]
  },
  {
   "cell_type": "markdown",
   "metadata": {},
   "source": [
    "Age vs Charges based on Smoker"
   ]
  },
  {
   "cell_type": "code",
   "execution_count": 8,
   "metadata": {},
   "outputs": [
    {
     "data": {
      "image/png": "[encoded data removed]",
      "text/plain": [
       "<Figure size 557.25x504 with 1 Axes>"
      ]
     },
     "metadata": {
      "needs_background": "light"
     },
     "output_type": "display_data"
    }
   ],
   "source": [
    "sns.lmplot(x='age', y='charges', hue='smoker', data=data, palette='muted', height=7);"
   ]
  },
  {
   "cell_type": "markdown",
   "metadata": {},
   "source": [
    "Hearmap (Correlation)"
   ]
  },
  {
   "cell_type": "code",
   "execution_count": 9,
   "metadata": {},
   "outputs": [
    {
     "data": {
      "image/png": "[encoded data removed]",
      "text/plain": [
       "<Figure size 432x288 with 2 Axes>"
      ]
     },
     "metadata": {
      "needs_background": "light"
     },
     "output_type": "display_data"
    }
   ],
   "source": [
    "sns.heatmap(data.corr(), cmap='Wistia', annot=True);"
   ]
  },
  {
   "cell_type": "markdown",
   "metadata": {},
   "source": [
    "### Data Preparation\n",
    "\n",
    "Handling Categorical Variables\n",
    "\n",
    "1. Label Encoding : Ordinal\n",
    "\n",
    "2. One Hot Encoding : Nominal"
   ]
  },
  {
   "cell_type": "code",
   "execution_count": 10,
   "metadata": {},
   "outputs": [
    {
     "name": "stdout",
     "output_type": "stream",
     "text": [
      "<class 'pandas.core.frame.DataFrame'>\n",
      "RangeIndex: 1338 entries, 0 to 1337\n",
      "Data columns (total 7 columns):\n",
      " #   Column    Non-Null Count  Dtype  \n",
      "---  ------    --------------  -----  \n",
      " 0   age       1338 non-null   int64  \n",
      " 1   sex       1338 non-null   object \n",
      " 2   bmi       1338 non-null   float64\n",
      " 3   children  1338 non-null   int64  \n",
      " 4   smoker    1338 non-null   object \n",
      " 5   region    1338 non-null   object \n",
      " 6   charges   1338 non-null   float64\n",
      "dtypes: float64(2), int64(2), object(3)\n",
      "memory usage: 73.3+ KB\n"
     ]
    }
   ],
   "source": [
    "data.info()"
   ]
  },
  {
   "cell_type": "code",
   "execution_count": 11,
   "metadata": {},
   "outputs": [
    {
     "data": {
      "text/plain": [
       "male      676\n",
       "female    662\n",
       "Name: sex, dtype: int64"
      ]
     },
     "execution_count": 11,
     "metadata": {},
     "output_type": "execute_result"
    }
   ],
   "source": [
    "data['sex'].value_counts()"
   ]
  },
  {
   "cell_type": "code",
   "execution_count": 12,
   "metadata": {},
   "outputs": [
    {
     "data": {
      "text/plain": [
       "southeast    364\n",
       "southwest    325\n",
       "northwest    325\n",
       "northeast    324\n",
       "Name: region, dtype: int64"
      ]
     },
     "execution_count": 12,
     "metadata": {},
     "output_type": "execute_result"
    }
   ],
   "source": [
    "data['region'].value_counts()"
   ]
  },
  {
   "cell_type": "code",
   "execution_count": 13,
   "metadata": {},
   "outputs": [
    {
     "data": {
      "text/plain": [
       "no     1064\n",
       "yes     274\n",
       "Name: smoker, dtype: int64"
      ]
     },
     "execution_count": 13,
     "metadata": {},
     "output_type": "execute_result"
    }
   ],
   "source": [
    "data['smoker'].value_counts()"
   ]
  },
  {
   "cell_type": "code",
   "execution_count": 14,
   "metadata": {},
   "outputs": [
    {
     "data": {
      "text/plain": [
       "0    female\n",
       "1      male\n",
       "2      male\n",
       "3      male\n",
       "4      male\n",
       "Name: sex, dtype: object"
      ]
     },
     "execution_count": 14,
     "metadata": {},
     "output_type": "execute_result"
    }
   ],
   "source": [
    "data['sex'].head()"
   ]
  },
  {
   "cell_type": "markdown",
   "metadata": {},
   "source": [
    "Creating ndarray for Label Encoding"
   ]
  },
  {
   "cell_type": "code",
   "execution_count": 15,
   "metadata": {},
   "outputs": [
    {
     "data": {
      "text/plain": [
       "array([0, 1, 1, ..., 0, 0, 0])"
      ]
     },
     "execution_count": 15,
     "metadata": {},
     "output_type": "execute_result"
    }
   ],
   "source": [
    "le = LabelEncoder()\n",
    "sex = le.fit_transform(data['sex'])\n",
    "sex"
   ]
  },
  {
   "cell_type": "code",
   "execution_count": 16,
   "metadata": {},
   "outputs": [
    {
     "data": {
      "text/html": [
       "<div>\n",
       "<style scoped>\n",
       "    .dataframe tbody tr th:only-of-type {\n",
       "        vertical-align: middle;\n",
       "    }\n",
       "\n",
       "    .dataframe tbody tr th {\n",
       "        vertical-align: top;\n",
       "    }\n",
       "\n",
       "    .dataframe thead th {\n",
       "        text-align: right;\n",
       "    }\n",
       "</style>\n",
       "<table border=\"1\" class=\"dataframe\">\n",
       "  <thead>\n",
       "    <tr style=\"text-align: right;\">\n",
       "      <th></th>\n",
       "      <th>sex</th>\n",
       "    </tr>\n",
       "  </thead>\n",
       "  <tbody>\n",
       "    <tr>\n",
       "      <th>0</th>\n",
       "      <td>0</td>\n",
       "    </tr>\n",
       "    <tr>\n",
       "      <th>1</th>\n",
       "      <td>1</td>\n",
       "    </tr>\n",
       "    <tr>\n",
       "      <th>2</th>\n",
       "      <td>1</td>\n",
       "    </tr>\n",
       "    <tr>\n",
       "      <th>3</th>\n",
       "      <td>1</td>\n",
       "    </tr>\n",
       "    <tr>\n",
       "      <th>4</th>\n",
       "      <td>1</td>\n",
       "    </tr>\n",
       "  </tbody>\n",
       "</table>\n",
       "</div>"
      ],
      "text/plain": [
       "   sex\n",
       "0    0\n",
       "1    1\n",
       "2    1\n",
       "3    1\n",
       "4    1"
      ]
     },
     "execution_count": 16,
     "metadata": {},
     "output_type": "execute_result"
    }
   ],
   "source": [
    "sex = pd.DataFrame(sex)\n",
    "sex.columns = ['sex']\n",
    "sex.head()"
   ]
  },
  {
   "cell_type": "code",
   "execution_count": 17,
   "metadata": {},
   "outputs": [
    {
     "name": "stdout",
     "output_type": "stream",
     "text": [
      "Class Labels : ['female' 'male']\n"
     ]
    }
   ],
   "source": [
    "print(f'Class Labels : {le.classes_}')"
   ]
  },
  {
   "cell_type": "code",
   "execution_count": 18,
   "metadata": {},
   "outputs": [
    {
     "name": "stdout",
     "output_type": "stream",
     "text": [
      "Transformed Class Labels : [0 1]\n"
     ]
    }
   ],
   "source": [
    "print(f'Transformed Class Labels : {le.transform(le.classes_)}')"
   ]
  },
  {
   "cell_type": "code",
   "execution_count": 19,
   "metadata": {},
   "outputs": [
    {
     "name": "stdout",
     "output_type": "stream",
     "text": [
      "Class Label Mapping : {'female': 0, 'male': 1}\n"
     ]
    }
   ],
   "source": [
    "print(f'Class Label Mapping : {dict(zip(le.classes_, le.transform(le.classes_)))}')"
   ]
  },
  {
   "cell_type": "code",
   "execution_count": 20,
   "metadata": {},
   "outputs": [
    {
     "data": {
      "text/plain": [
       "array([1, 0, 0, 0, 0])"
      ]
     },
     "execution_count": 20,
     "metadata": {},
     "output_type": "execute_result"
    }
   ],
   "source": [
    "le = LabelEncoder()\n",
    "smoker = le.fit_transform(data['smoker'])\n",
    "smoker[:5]"
   ]
  },
  {
   "cell_type": "code",
   "execution_count": 21,
   "metadata": {},
   "outputs": [
    {
     "data": {
      "text/html": [
       "<div>\n",
       "<style scoped>\n",
       "    .dataframe tbody tr th:only-of-type {\n",
       "        vertical-align: middle;\n",
       "    }\n",
       "\n",
       "    .dataframe tbody tr th {\n",
       "        vertical-align: top;\n",
       "    }\n",
       "\n",
       "    .dataframe thead th {\n",
       "        text-align: right;\n",
       "    }\n",
       "</style>\n",
       "<table border=\"1\" class=\"dataframe\">\n",
       "  <thead>\n",
       "    <tr style=\"text-align: right;\">\n",
       "      <th></th>\n",
       "      <th>smoker</th>\n",
       "    </tr>\n",
       "  </thead>\n",
       "  <tbody>\n",
       "    <tr>\n",
       "      <th>0</th>\n",
       "      <td>1</td>\n",
       "    </tr>\n",
       "    <tr>\n",
       "      <th>1</th>\n",
       "      <td>0</td>\n",
       "    </tr>\n",
       "    <tr>\n",
       "      <th>2</th>\n",
       "      <td>0</td>\n",
       "    </tr>\n",
       "    <tr>\n",
       "      <th>3</th>\n",
       "      <td>0</td>\n",
       "    </tr>\n",
       "    <tr>\n",
       "      <th>4</th>\n",
       "      <td>0</td>\n",
       "    </tr>\n",
       "  </tbody>\n",
       "</table>\n",
       "</div>"
      ],
      "text/plain": [
       "   smoker\n",
       "0       1\n",
       "1       0\n",
       "2       0\n",
       "3       0\n",
       "4       0"
      ]
     },
     "execution_count": 21,
     "metadata": {},
     "output_type": "execute_result"
    }
   ],
   "source": [
    "smoker = pd.DataFrame(smoker)\n",
    "smoker.columns = ['smoker']\n",
    "smoker.head()"
   ]
  },
  {
   "cell_type": "code",
   "execution_count": 22,
   "metadata": {},
   "outputs": [
    {
     "name": "stdout",
     "output_type": "stream",
     "text": [
      "Class Labels : ['no' 'yes']\n"
     ]
    }
   ],
   "source": [
    "print(f'Class Labels : {le.classes_}')"
   ]
  },
  {
   "cell_type": "code",
   "execution_count": 23,
   "metadata": {},
   "outputs": [
    {
     "name": "stdout",
     "output_type": "stream",
     "text": [
      "Transformed Class Labels : [0 1]\n"
     ]
    }
   ],
   "source": [
    "print(f'Transformed Class Labels : {le.transform(le.classes_)}')"
   ]
  },
  {
   "cell_type": "code",
   "execution_count": 24,
   "metadata": {},
   "outputs": [
    {
     "name": "stdout",
     "output_type": "stream",
     "text": [
      "Class Label Mapping : {'no': 0, 'yes': 1}\n"
     ]
    }
   ],
   "source": [
    "print(f'Class Label Mapping : {dict(zip(le.classes_, le.transform(le.classes_)))}')"
   ]
  },
  {
   "cell_type": "markdown",
   "metadata": {},
   "source": [
    "One Hot Encoding"
   ]
  },
  {
   "cell_type": "code",
   "execution_count": 25,
   "metadata": {},
   "outputs": [
    {
     "data": {
      "text/plain": [
       "array([[0., 0., 0., 1.],\n",
       "       [0., 0., 1., 0.],\n",
       "       [0., 0., 1., 0.],\n",
       "       [0., 1., 0., 0.],\n",
       "       [0., 1., 0., 0.]])"
      ]
     },
     "execution_count": 25,
     "metadata": {},
     "output_type": "execute_result"
    }
   ],
   "source": [
    "ohe = OneHotEncoder()\n",
    "region = ohe.fit_transform(data[['region']]).toarray()\n",
    "region[:5]"
   ]
  },
  {
   "cell_type": "code",
   "execution_count": 26,
   "metadata": {},
   "outputs": [
    {
     "data": {
      "text/html": [
       "<div>\n",
       "<style scoped>\n",
       "    .dataframe tbody tr th:only-of-type {\n",
       "        vertical-align: middle;\n",
       "    }\n",
       "\n",
       "    .dataframe tbody tr th {\n",
       "        vertical-align: top;\n",
       "    }\n",
       "\n",
       "    .dataframe thead th {\n",
       "        text-align: right;\n",
       "    }\n",
       "</style>\n",
       "<table border=\"1\" class=\"dataframe\">\n",
       "  <thead>\n",
       "    <tr style=\"text-align: right;\">\n",
       "      <th></th>\n",
       "      <th>0</th>\n",
       "      <th>1</th>\n",
       "      <th>2</th>\n",
       "      <th>3</th>\n",
       "    </tr>\n",
       "  </thead>\n",
       "  <tbody>\n",
       "    <tr>\n",
       "      <th>0</th>\n",
       "      <td>0.0</td>\n",
       "      <td>0.0</td>\n",
       "      <td>0.0</td>\n",
       "      <td>1.0</td>\n",
       "    </tr>\n",
       "    <tr>\n",
       "      <th>1</th>\n",
       "      <td>0.0</td>\n",
       "      <td>0.0</td>\n",
       "      <td>1.0</td>\n",
       "      <td>0.0</td>\n",
       "    </tr>\n",
       "    <tr>\n",
       "      <th>2</th>\n",
       "      <td>0.0</td>\n",
       "      <td>0.0</td>\n",
       "      <td>1.0</td>\n",
       "      <td>0.0</td>\n",
       "    </tr>\n",
       "    <tr>\n",
       "      <th>3</th>\n",
       "      <td>0.0</td>\n",
       "      <td>1.0</td>\n",
       "      <td>0.0</td>\n",
       "      <td>0.0</td>\n",
       "    </tr>\n",
       "    <tr>\n",
       "      <th>4</th>\n",
       "      <td>0.0</td>\n",
       "      <td>1.0</td>\n",
       "      <td>0.0</td>\n",
       "      <td>0.0</td>\n",
       "    </tr>\n",
       "  </tbody>\n",
       "</table>\n",
       "</div>"
      ],
      "text/plain": [
       "     0    1    2    3\n",
       "0  0.0  0.0  0.0  1.0\n",
       "1  0.0  0.0  1.0  0.0\n",
       "2  0.0  0.0  1.0  0.0\n",
       "3  0.0  1.0  0.0  0.0\n",
       "4  0.0  1.0  0.0  0.0"
      ]
     },
     "execution_count": 26,
     "metadata": {},
     "output_type": "execute_result"
    }
   ],
   "source": [
    "region = pd.DataFrame(region)\n",
    "region.head()"
   ]
  },
  {
   "cell_type": "code",
   "execution_count": 27,
   "metadata": {},
   "outputs": [
    {
     "name": "stdout",
     "output_type": "stream",
     "text": [
      "Labels : [array(['northeast', 'northwest', 'southeast', 'southwest'], dtype=object)]\n"
     ]
    }
   ],
   "source": [
    "print(f'Labels : {ohe.categories_}')"
   ]
  },
  {
   "cell_type": "code",
   "execution_count": 28,
   "metadata": {},
   "outputs": [
    {
     "data": {
      "text/html": [
       "<div>\n",
       "<style scoped>\n",
       "    .dataframe tbody tr th:only-of-type {\n",
       "        vertical-align: middle;\n",
       "    }\n",
       "\n",
       "    .dataframe tbody tr th {\n",
       "        vertical-align: top;\n",
       "    }\n",
       "\n",
       "    .dataframe thead th {\n",
       "        text-align: right;\n",
       "    }\n",
       "</style>\n",
       "<table border=\"1\" class=\"dataframe\">\n",
       "  <thead>\n",
       "    <tr style=\"text-align: right;\">\n",
       "      <th></th>\n",
       "      <th>northeast</th>\n",
       "      <th>northwest</th>\n",
       "      <th>southeast</th>\n",
       "      <th>southwest</th>\n",
       "    </tr>\n",
       "  </thead>\n",
       "  <tbody>\n",
       "    <tr>\n",
       "      <th>0</th>\n",
       "      <td>0.0</td>\n",
       "      <td>0.0</td>\n",
       "      <td>0.0</td>\n",
       "      <td>1.0</td>\n",
       "    </tr>\n",
       "    <tr>\n",
       "      <th>1</th>\n",
       "      <td>0.0</td>\n",
       "      <td>0.0</td>\n",
       "      <td>1.0</td>\n",
       "      <td>0.0</td>\n",
       "    </tr>\n",
       "    <tr>\n",
       "      <th>2</th>\n",
       "      <td>0.0</td>\n",
       "      <td>0.0</td>\n",
       "      <td>1.0</td>\n",
       "      <td>0.0</td>\n",
       "    </tr>\n",
       "    <tr>\n",
       "      <th>3</th>\n",
       "      <td>0.0</td>\n",
       "      <td>1.0</td>\n",
       "      <td>0.0</td>\n",
       "      <td>0.0</td>\n",
       "    </tr>\n",
       "    <tr>\n",
       "      <th>4</th>\n",
       "      <td>0.0</td>\n",
       "      <td>1.0</td>\n",
       "      <td>0.0</td>\n",
       "      <td>0.0</td>\n",
       "    </tr>\n",
       "    <tr>\n",
       "      <th>5</th>\n",
       "      <td>0.0</td>\n",
       "      <td>0.0</td>\n",
       "      <td>1.0</td>\n",
       "      <td>0.0</td>\n",
       "    </tr>\n",
       "    <tr>\n",
       "      <th>6</th>\n",
       "      <td>0.0</td>\n",
       "      <td>0.0</td>\n",
       "      <td>1.0</td>\n",
       "      <td>0.0</td>\n",
       "    </tr>\n",
       "    <tr>\n",
       "      <th>7</th>\n",
       "      <td>0.0</td>\n",
       "      <td>1.0</td>\n",
       "      <td>0.0</td>\n",
       "      <td>0.0</td>\n",
       "    </tr>\n",
       "    <tr>\n",
       "      <th>8</th>\n",
       "      <td>1.0</td>\n",
       "      <td>0.0</td>\n",
       "      <td>0.0</td>\n",
       "      <td>0.0</td>\n",
       "    </tr>\n",
       "    <tr>\n",
       "      <th>9</th>\n",
       "      <td>0.0</td>\n",
       "      <td>1.0</td>\n",
       "      <td>0.0</td>\n",
       "      <td>0.0</td>\n",
       "    </tr>\n",
       "  </tbody>\n",
       "</table>\n",
       "</div>"
      ],
      "text/plain": [
       "   northeast  northwest  southeast  southwest\n",
       "0        0.0        0.0        0.0        1.0\n",
       "1        0.0        0.0        1.0        0.0\n",
       "2        0.0        0.0        1.0        0.0\n",
       "3        0.0        1.0        0.0        0.0\n",
       "4        0.0        1.0        0.0        0.0\n",
       "5        0.0        0.0        1.0        0.0\n",
       "6        0.0        0.0        1.0        0.0\n",
       "7        0.0        1.0        0.0        0.0\n",
       "8        1.0        0.0        0.0        0.0\n",
       "9        0.0        1.0        0.0        0.0"
      ]
     },
     "execution_count": 28,
     "metadata": {},
     "output_type": "execute_result"
    }
   ],
   "source": [
    "region.columns = ['northeast', 'northwest', 'southeast', 'southwest']\n",
    "region.head(10)"
   ]
  },
  {
   "cell_type": "code",
   "execution_count": 29,
   "metadata": {},
   "outputs": [
    {
     "data": {
      "text/html": [
       "<div>\n",
       "<style scoped>\n",
       "    .dataframe tbody tr th:only-of-type {\n",
       "        vertical-align: middle;\n",
       "    }\n",
       "\n",
       "    .dataframe tbody tr th {\n",
       "        vertical-align: top;\n",
       "    }\n",
       "\n",
       "    .dataframe thead th {\n",
       "        text-align: right;\n",
       "    }\n",
       "</style>\n",
       "<table border=\"1\" class=\"dataframe\">\n",
       "  <thead>\n",
       "    <tr style=\"text-align: right;\">\n",
       "      <th></th>\n",
       "      <th>age</th>\n",
       "      <th>sex</th>\n",
       "      <th>bmi</th>\n",
       "      <th>children</th>\n",
       "      <th>smoker</th>\n",
       "      <th>region</th>\n",
       "      <th>charges</th>\n",
       "    </tr>\n",
       "  </thead>\n",
       "  <tbody>\n",
       "    <tr>\n",
       "      <th>0</th>\n",
       "      <td>19</td>\n",
       "      <td>female</td>\n",
       "      <td>27.900</td>\n",
       "      <td>0</td>\n",
       "      <td>yes</td>\n",
       "      <td>southwest</td>\n",
       "      <td>16884.92400</td>\n",
       "    </tr>\n",
       "    <tr>\n",
       "      <th>1</th>\n",
       "      <td>18</td>\n",
       "      <td>male</td>\n",
       "      <td>33.770</td>\n",
       "      <td>1</td>\n",
       "      <td>no</td>\n",
       "      <td>southeast</td>\n",
       "      <td>1725.55230</td>\n",
       "    </tr>\n",
       "    <tr>\n",
       "      <th>2</th>\n",
       "      <td>28</td>\n",
       "      <td>male</td>\n",
       "      <td>33.000</td>\n",
       "      <td>3</td>\n",
       "      <td>no</td>\n",
       "      <td>southeast</td>\n",
       "      <td>4449.46200</td>\n",
       "    </tr>\n",
       "    <tr>\n",
       "      <th>3</th>\n",
       "      <td>33</td>\n",
       "      <td>male</td>\n",
       "      <td>22.705</td>\n",
       "      <td>0</td>\n",
       "      <td>no</td>\n",
       "      <td>northwest</td>\n",
       "      <td>21984.47061</td>\n",
       "    </tr>\n",
       "    <tr>\n",
       "      <th>4</th>\n",
       "      <td>32</td>\n",
       "      <td>male</td>\n",
       "      <td>28.880</td>\n",
       "      <td>0</td>\n",
       "      <td>no</td>\n",
       "      <td>northwest</td>\n",
       "      <td>3866.85520</td>\n",
       "    </tr>\n",
       "  </tbody>\n",
       "</table>\n",
       "</div>"
      ],
      "text/plain": [
       "   age     sex     bmi  children smoker     region      charges\n",
       "0   19  female  27.900         0    yes  southwest  16884.92400\n",
       "1   18    male  33.770         1     no  southeast   1725.55230\n",
       "2   28    male  33.000         3     no  southeast   4449.46200\n",
       "3   33    male  22.705         0     no  northwest  21984.47061\n",
       "4   32    male  28.880         0     no  northwest   3866.85520"
      ]
     },
     "execution_count": 29,
     "metadata": {},
     "output_type": "execute_result"
    }
   ],
   "source": [
    "data.head()"
   ]
  },
  {
   "cell_type": "code",
   "execution_count": 30,
   "metadata": {},
   "outputs": [
    {
     "data": {
      "text/html": [
       "<div>\n",
       "<style scoped>\n",
       "    .dataframe tbody tr th:only-of-type {\n",
       "        vertical-align: middle;\n",
       "    }\n",
       "\n",
       "    .dataframe tbody tr th {\n",
       "        vertical-align: top;\n",
       "    }\n",
       "\n",
       "    .dataframe thead th {\n",
       "        text-align: right;\n",
       "    }\n",
       "</style>\n",
       "<table border=\"1\" class=\"dataframe\">\n",
       "  <thead>\n",
       "    <tr style=\"text-align: right;\">\n",
       "      <th></th>\n",
       "      <th>age</th>\n",
       "      <th>bmi</th>\n",
       "      <th>children</th>\n",
       "    </tr>\n",
       "  </thead>\n",
       "  <tbody>\n",
       "    <tr>\n",
       "      <th>0</th>\n",
       "      <td>19</td>\n",
       "      <td>27.900</td>\n",
       "      <td>0</td>\n",
       "    </tr>\n",
       "    <tr>\n",
       "      <th>1</th>\n",
       "      <td>18</td>\n",
       "      <td>33.770</td>\n",
       "      <td>1</td>\n",
       "    </tr>\n",
       "    <tr>\n",
       "      <th>2</th>\n",
       "      <td>28</td>\n",
       "      <td>33.000</td>\n",
       "      <td>3</td>\n",
       "    </tr>\n",
       "    <tr>\n",
       "      <th>3</th>\n",
       "      <td>33</td>\n",
       "      <td>22.705</td>\n",
       "      <td>0</td>\n",
       "    </tr>\n",
       "    <tr>\n",
       "      <th>4</th>\n",
       "      <td>32</td>\n",
       "      <td>28.880</td>\n",
       "      <td>0</td>\n",
       "    </tr>\n",
       "  </tbody>\n",
       "</table>\n",
       "</div>"
      ],
      "text/plain": [
       "   age     bmi  children\n",
       "0   19  27.900         0\n",
       "1   18  33.770         1\n",
       "2   28  33.000         3\n",
       "3   33  22.705         0\n",
       "4   32  28.880         0"
      ]
     },
     "execution_count": 30,
     "metadata": {},
     "output_type": "execute_result"
    }
   ],
   "source": [
    "numeric = data[['age','bmi','children']]\n",
    "numeric.head()"
   ]
  },
  {
   "cell_type": "markdown",
   "metadata": {},
   "source": [
    "Concatenate the Numeric and **Encoded** Categorical Data "
   ]
  },
  {
   "cell_type": "code",
   "execution_count": 31,
   "metadata": {},
   "outputs": [
    {
     "data": {
      "text/html": [
       "<div>\n",
       "<style scoped>\n",
       "    .dataframe tbody tr th:only-of-type {\n",
       "        vertical-align: middle;\n",
       "    }\n",
       "\n",
       "    .dataframe tbody tr th {\n",
       "        vertical-align: top;\n",
       "    }\n",
       "\n",
       "    .dataframe thead th {\n",
       "        text-align: right;\n",
       "    }\n",
       "</style>\n",
       "<table border=\"1\" class=\"dataframe\">\n",
       "  <thead>\n",
       "    <tr style=\"text-align: right;\">\n",
       "      <th></th>\n",
       "      <th>age</th>\n",
       "      <th>bmi</th>\n",
       "      <th>children</th>\n",
       "      <th>sex</th>\n",
       "      <th>smoker</th>\n",
       "      <th>northeast</th>\n",
       "      <th>northwest</th>\n",
       "      <th>southeast</th>\n",
       "      <th>southwest</th>\n",
       "    </tr>\n",
       "  </thead>\n",
       "  <tbody>\n",
       "    <tr>\n",
       "      <th>0</th>\n",
       "      <td>19</td>\n",
       "      <td>27.900</td>\n",
       "      <td>0</td>\n",
       "      <td>0</td>\n",
       "      <td>1</td>\n",
       "      <td>0.0</td>\n",
       "      <td>0.0</td>\n",
       "      <td>0.0</td>\n",
       "      <td>1.0</td>\n",
       "    </tr>\n",
       "    <tr>\n",
       "      <th>1</th>\n",
       "      <td>18</td>\n",
       "      <td>33.770</td>\n",
       "      <td>1</td>\n",
       "      <td>1</td>\n",
       "      <td>0</td>\n",
       "      <td>0.0</td>\n",
       "      <td>0.0</td>\n",
       "      <td>1.0</td>\n",
       "      <td>0.0</td>\n",
       "    </tr>\n",
       "    <tr>\n",
       "      <th>2</th>\n",
       "      <td>28</td>\n",
       "      <td>33.000</td>\n",
       "      <td>3</td>\n",
       "      <td>1</td>\n",
       "      <td>0</td>\n",
       "      <td>0.0</td>\n",
       "      <td>0.0</td>\n",
       "      <td>1.0</td>\n",
       "      <td>0.0</td>\n",
       "    </tr>\n",
       "    <tr>\n",
       "      <th>3</th>\n",
       "      <td>33</td>\n",
       "      <td>22.705</td>\n",
       "      <td>0</td>\n",
       "      <td>1</td>\n",
       "      <td>0</td>\n",
       "      <td>0.0</td>\n",
       "      <td>1.0</td>\n",
       "      <td>0.0</td>\n",
       "      <td>0.0</td>\n",
       "    </tr>\n",
       "    <tr>\n",
       "      <th>4</th>\n",
       "      <td>32</td>\n",
       "      <td>28.880</td>\n",
       "      <td>0</td>\n",
       "      <td>1</td>\n",
       "      <td>0</td>\n",
       "      <td>0.0</td>\n",
       "      <td>1.0</td>\n",
       "      <td>0.0</td>\n",
       "      <td>0.0</td>\n",
       "    </tr>\n",
       "  </tbody>\n",
       "</table>\n",
       "</div>"
      ],
      "text/plain": [
       "   age     bmi  children  sex  smoker  northeast  northwest  southeast  \\\n",
       "0   19  27.900         0    0       1        0.0        0.0        0.0   \n",
       "1   18  33.770         1    1       0        0.0        0.0        1.0   \n",
       "2   28  33.000         3    1       0        0.0        0.0        1.0   \n",
       "3   33  22.705         0    1       0        0.0        1.0        0.0   \n",
       "4   32  28.880         0    1       0        0.0        1.0        0.0   \n",
       "\n",
       "   southwest  \n",
       "0        1.0  \n",
       "1        0.0  \n",
       "2        0.0  \n",
       "3        0.0  \n",
       "4        0.0  "
      ]
     },
     "execution_count": 31,
     "metadata": {},
     "output_type": "execute_result"
    }
   ],
   "source": [
    "X = pd.concat([numeric, sex, smoker, region], axis=1)\n",
    "X.head()"
   ]
  },
  {
   "cell_type": "code",
   "execution_count": 32,
   "metadata": {},
   "outputs": [
    {
     "data": {
      "text/html": [
       "<div>\n",
       "<style scoped>\n",
       "    .dataframe tbody tr th:only-of-type {\n",
       "        vertical-align: middle;\n",
       "    }\n",
       "\n",
       "    .dataframe tbody tr th {\n",
       "        vertical-align: top;\n",
       "    }\n",
       "\n",
       "    .dataframe thead th {\n",
       "        text-align: right;\n",
       "    }\n",
       "</style>\n",
       "<table border=\"1\" class=\"dataframe\">\n",
       "  <thead>\n",
       "    <tr style=\"text-align: right;\">\n",
       "      <th></th>\n",
       "      <th>charges</th>\n",
       "    </tr>\n",
       "  </thead>\n",
       "  <tbody>\n",
       "    <tr>\n",
       "      <th>0</th>\n",
       "      <td>16884.92400</td>\n",
       "    </tr>\n",
       "    <tr>\n",
       "      <th>1</th>\n",
       "      <td>1725.55230</td>\n",
       "    </tr>\n",
       "    <tr>\n",
       "      <th>2</th>\n",
       "      <td>4449.46200</td>\n",
       "    </tr>\n",
       "    <tr>\n",
       "      <th>3</th>\n",
       "      <td>21984.47061</td>\n",
       "    </tr>\n",
       "    <tr>\n",
       "      <th>4</th>\n",
       "      <td>3866.85520</td>\n",
       "    </tr>\n",
       "  </tbody>\n",
       "</table>\n",
       "</div>"
      ],
      "text/plain": [
       "       charges\n",
       "0  16884.92400\n",
       "1   1725.55230\n",
       "2   4449.46200\n",
       "3  21984.47061\n",
       "4   3866.85520"
      ]
     },
     "execution_count": 32,
     "metadata": {},
     "output_type": "execute_result"
    }
   ],
   "source": [
    "y = data[['charges']].copy()\n",
    "y.head()"
   ]
  },
  {
   "cell_type": "markdown",
   "metadata": {},
   "source": [
    "Splitting the Data into Train Set and Test Set"
   ]
  },
  {
   "cell_type": "code",
   "execution_count": 33,
   "metadata": {},
   "outputs": [],
   "source": [
    "X_train, X_test, y_train, y_test = train_test_split(X, y, test_size=0.33, random_state=0)"
   ]
  },
  {
   "cell_type": "markdown",
   "metadata": {},
   "source": [
    "### Feature Scaling\n",
    "\n",
    "**MinMaxScaler** : Range between 0 and 1\n",
    "\n",
    "**StandardScaler** : Range between -n and n ( mean = 0 and std = 1 )\n",
    "\n",
    "**fit_transform(X_train)** : Fit ( Train ) Data so that we Learn the Parameters of Scaling on Train Data + Scale the Train Data\n",
    "\n",
    "**transform(X_test)** : The Scaling Parameters learned on the Train Data to Scale the Test Data.\n",
    "\n",
    "**Benefits** : Reduce the Effect of Features with **Large Scale** which Plays a Dominating Role and **Outliers**"
   ]
  },
  {
   "cell_type": "code",
   "execution_count": 34,
   "metadata": {},
   "outputs": [],
   "source": [
    "scaler = MinMaxScaler()\n",
    "X_train = scaler.fit_transform(X_train.astype(np.float))\n",
    "X_test = scaler.transform(X_test.astype(np.float))"
   ]
  },
  {
   "cell_type": "code",
   "execution_count": 35,
   "metadata": {},
   "outputs": [
    {
     "data": {
      "text/plain": [
       "array([0.15217391, 0.49838579, 0.        , 0.        , 0.        ,\n",
       "       0.        , 1.        , 0.        , 0.        ])"
      ]
     },
     "execution_count": 35,
     "metadata": {},
     "output_type": "execute_result"
    }
   ],
   "source": [
    "X_train[0]"
   ]
  },
  {
   "cell_type": "code",
   "execution_count": 36,
   "metadata": {},
   "outputs": [],
   "source": [
    "X_train, X_test, y_train, y_test = train_test_split(X, y, test_size=0.33, random_state=0)"
   ]
  },
  {
   "cell_type": "code",
   "execution_count": 37,
   "metadata": {},
   "outputs": [],
   "source": [
    "scaler = StandardScaler()\n",
    "X_train = scaler.fit_transform(X_train.astype(np.float))\n",
    "X_test = scaler.transform(X_test.astype(np.float))"
   ]
  },
  {
   "cell_type": "code",
   "execution_count": 38,
   "metadata": {},
   "outputs": [
    {
     "data": {
      "text/plain": [
       "array([-1.03606235,  0.61468414, -0.91008919, -0.98669564, -0.4996512 ,\n",
       "       -0.54811989,  1.77430216, -0.61002347, -0.58766091])"
      ]
     },
     "execution_count": 38,
     "metadata": {},
     "output_type": "execute_result"
    }
   ],
   "source": [
    "X_train[0]"
   ]
  },
  {
   "cell_type": "code",
   "execution_count": 39,
   "metadata": {},
   "outputs": [
    {
     "name": "stdout",
     "output_type": "stream",
     "text": [
      "-2.4671622769447922e-17\n",
      "1.0\n"
     ]
    }
   ],
   "source": [
    "print(X_train.mean())\n",
    "print(X_train.std())"
   ]
  },
  {
   "cell_type": "markdown",
   "metadata": {},
   "source": [
    "### Data Modeling\n",
    "\n",
    "### 1. Linear Regression"
   ]
  },
  {
   "cell_type": "code",
   "execution_count": 40,
   "metadata": {},
   "outputs": [],
   "source": [
    "lr = LinearRegression()\n",
    "model = lr.fit(X_train, y_train)\n",
    "train_pred = model.predict(X_train)\n",
    "text_pred = model.predict(X_test)"
   ]
  },
  {
   "cell_type": "code",
   "execution_count": 41,
   "metadata": {},
   "outputs": [
    {
     "name": "stdout",
     "output_type": "stream",
     "text": [
      "Slope : \n",
      "[[ 3.71358750e+03  1.85247756e+03  4.80554287e+02 -7.65500099e+01\n",
      "   9.21480869e+03  8.67904582e+17  8.80761920e+17  9.15454839e+17\n",
      "   8.99452493e+17]]\n",
      "\n",
      "Intercept : [13175.06673693]\n",
      "\n",
      "Train Score : 72.73% and Test Score : 78.37% using Linear Regression\n"
     ]
    }
   ],
   "source": [
    "print(f'Slope : \\n{model.coef_}\\n')\n",
    "print(f'Intercept : {model.intercept_}\\n')\n",
    "print(f'Train Score : {model.score(X_train, y_train)*100:.2f}% and Test Score : {model.score(X_test, y_test)*100:.2f}% using Linear Regression.')"
   ]
  },
  {
   "cell_type": "markdown",
   "metadata": {},
   "source": [
    "### 2. Polynomial Linear Regression"
   ]
  },
  {
   "cell_type": "code",
   "execution_count": 42,
   "metadata": {},
   "outputs": [
    {
     "data": {
      "text/plain": [
       "array([1.00000000e+00, 2.50000000e+01, 3.44850000e+01, 0.00000000e+00,\n",
       "       0.00000000e+00, 0.00000000e+00, 0.00000000e+00, 1.00000000e+00,\n",
       "       0.00000000e+00, 0.00000000e+00, 6.25000000e+02, 8.62125000e+02,\n",
       "       0.00000000e+00, 0.00000000e+00, 0.00000000e+00, 0.00000000e+00,\n",
       "       2.50000000e+01, 0.00000000e+00, 0.00000000e+00, 1.18921522e+03,\n",
       "       0.00000000e+00, 0.00000000e+00, 0.00000000e+00, 0.00000000e+00,\n",
       "       3.44850000e+01, 0.00000000e+00, 0.00000000e+00, 0.00000000e+00,\n",
       "       0.00000000e+00, 0.00000000e+00, 0.00000000e+00, 0.00000000e+00,\n",
       "       0.00000000e+00, 0.00000000e+00, 0.00000000e+00, 0.00000000e+00,\n",
       "       0.00000000e+00, 0.00000000e+00, 0.00000000e+00, 0.00000000e+00,\n",
       "       0.00000000e+00, 0.00000000e+00, 0.00000000e+00, 0.00000000e+00,\n",
       "       0.00000000e+00, 0.00000000e+00, 0.00000000e+00, 0.00000000e+00,\n",
       "       0.00000000e+00, 1.00000000e+00, 0.00000000e+00, 0.00000000e+00,\n",
       "       0.00000000e+00, 0.00000000e+00, 0.00000000e+00])"
      ]
     },
     "execution_count": 42,
     "metadata": {},
     "output_type": "execute_result"
    }
   ],
   "source": [
    "poly = PolynomialFeatures(degree=2)\n",
    "X_poly = poly.fit_transform(X)\n",
    "\n",
    "X_train, X_test, y_train, y_test = train_test_split(X_poly, y, test_size=0.33, random_state=0)\n",
    "X_train[0]"
   ]
  },
  {
   "cell_type": "code",
   "execution_count": 43,
   "metadata": {},
   "outputs": [
    {
     "data": {
      "text/plain": [
       "array([ 0.        , -1.03606235,  0.61468414, -0.91008919, -0.98669564,\n",
       "       -0.4996512 , -0.54811989,  1.77430216, -0.61002347, -0.58766091,\n",
       "       -1.00782582, -0.68904545, -0.85018583, -0.88107894, -0.46421754,\n",
       "       -0.50755758,  0.82614738, -0.56232132, -0.54333881,  0.53005988,\n",
       "       -0.88174279, -0.94849377, -0.48700346, -0.53386564,  2.15977211,\n",
       "       -0.59527082, -0.57357794, -0.61300381, -0.53860116, -0.32910548,\n",
       "       -0.3334737 , -0.35857559, -0.37458217, -0.36469486, -0.98669564,\n",
       "       -0.35643236, -0.36433963, -0.36237154, -0.40077645, -0.37215673,\n",
       "       -0.4996512 , -0.22725139, -0.21332507, -0.27028484, -0.20161946,\n",
       "       -0.54811989,  0.        ,  0.        ,  0.        ,  1.77430216,\n",
       "        0.        ,  0.        , -0.61002347,  0.        , -0.58766091])"
      ]
     },
     "execution_count": 43,
     "metadata": {},
     "output_type": "execute_result"
    }
   ],
   "source": [
    "scaler = StandardScaler()\n",
    "X_train = scaler.fit_transform(X_train.astype(np.float))\n",
    "X_test = scaler.transform(X_test.astype(np.float))\n",
    "X_train[0]"
   ]
  },
  {
   "cell_type": "code",
   "execution_count": 44,
   "metadata": {},
   "outputs": [],
   "source": [
    "poly_lr = LinearRegression()\n",
    "model = poly_lr.fit(X_train, y_train)\n",
    "train_pred = model.predict(X_train)\n",
    "test_pred = model.predict(X_test)"
   ]
  },
  {
   "cell_type": "code",
   "execution_count": 45,
   "metadata": {},
   "outputs": [
    {
     "name": "stdout",
     "output_type": "stream",
     "text": [
      "Slope : \n",
      "[[ 5.96081652e-14  7.21122662e+11 -4.97619302e+12  1.06328340e+13\n",
      "  -1.59016976e+12  4.79420526e+12 -2.17973224e+13 -1.92633855e+13\n",
      "  -2.13635439e+13 -2.15318609e+13  3.63127840e+03 -4.59549183e+02\n",
      "   2.27310078e+02  2.74895014e+02  1.48388577e+02 -9.32950670e+11\n",
      "  -9.54060040e+11 -9.73217995e+11 -9.46987077e+11 -2.21381152e+03\n",
      "   3.57974903e+02  4.96822263e+02  1.80215976e+04  1.02124283e+13\n",
      "   1.02696056e+13  1.23386925e+13  1.10260388e+13 -2.97928154e+02\n",
      "  -3.73787597e+02 -2.70292040e+02 -6.45508280e+12 -6.47133765e+12\n",
      "  -6.64294033e+12 -7.44577589e+12 -4.43199929e+12 -1.21070801e+02\n",
      "   3.87433146e+12  3.85827467e+12  4.15942573e+12  3.93744496e+12\n",
      "   1.01581960e+13 -8.08110936e+12 -7.63040453e+12 -9.41961177e+12\n",
      "  -7.24536796e+12 -1.51459726e+13  0.00000000e+00  0.00000000e+00\n",
      "   0.00000000e+00 -1.82271960e+13  0.00000000e+00  0.00000000e+00\n",
      "  -1.76037791e+13  0.00000000e+00 -1.67543050e+13]]\n",
      "\n",
      "Intercept : \n",
      "[13141.3489143]\n",
      "\n",
      "Train Score : 82.77% and Test Score 87.01% using Polynomial Linear Regression\n"
     ]
    }
   ],
   "source": [
    "print(f'Slope : \\n{model.coef_}\\n')\n",
    "print(f'Intercept : \\n{model.intercept_}\\n')\n",
    "print(f'Train Score : {model.score(X_train, y_train)*100:.2f}% and Test Score {model.score(X_test, y_test)*100:.2f}% using Polynomial Linear Regression.')"
   ]
  },
  {
   "cell_type": "markdown",
   "metadata": {},
   "source": [
    "### 3. Support Vector Regression"
   ]
  },
  {
   "cell_type": "code",
   "execution_count": 46,
   "metadata": {},
   "outputs": [
    {
     "data": {
      "text/plain": [
       "array([-1.03606235,  0.61468414, -0.91008919, -0.98669564, -0.4996512 ,\n",
       "       -0.54811989,  1.77430216, -0.61002347, -0.58766091])"
      ]
     },
     "execution_count": 46,
     "metadata": {},
     "output_type": "execute_result"
    }
   ],
   "source": [
    "X_train, X_test, y_train, y_test = train_test_split(X, y, test_size=0.33, random_state=0)\n",
    "scaler = StandardScaler()\n",
    "X_train = scaler.fit_transform(X_train.astype(np.float))\n",
    "X_test = scaler.transform(X_test.astype(np.float))\n",
    "X_train[0]"
   ]
  },
  {
   "cell_type": "code",
   "execution_count": 47,
   "metadata": {},
   "outputs": [],
   "source": [
    "svr = SVR(kernel='linear', C=300)\n",
    "model = svr.fit(X_train, y_train.values.ravel())\n",
    "train_pred = model.predict(X_train)\n",
    "test_pred = model.predict(X_test)"
   ]
  },
  {
   "cell_type": "code",
   "execution_count": 48,
   "metadata": {},
   "outputs": [
    {
     "name": "stdout",
     "output_type": "stream",
     "text": [
      "Slopes : \n",
      "[[3652.88084977  202.46754224  475.97904631 -184.83769075 6571.51888242\n",
      "   179.67244105   32.53987879 -126.02330398  -76.96879816]]\n",
      "\n",
      "Intercept : \n",
      "[10370.82641928]\n",
      "\n",
      "Train Score : 59.79% and Test Score : 62.80% using Support Vector Regressor\n"
     ]
    }
   ],
   "source": [
    "print(f'Slopes : \\n{model.coef_}\\n')\n",
    "print(f'Intercept : \\n{model.intercept_}\\n')\n",
    "print(f'Train Score : {model.score(X_train, y_train)*100:.2f}% and Test Score : {model.score(X_test, y_test)*100:.2f}% using Support Vector Regressor.')"
   ]
  },
  {
   "cell_type": "markdown",
   "metadata": {},
   "source": [
    "### 4. Decision Tree Regression"
   ]
  },
  {
   "cell_type": "code",
   "execution_count": 49,
   "metadata": {},
   "outputs": [],
   "source": [
    "dtr = DecisionTreeRegressor(random_state=0)\n",
    "model = dtr.fit(X_train, y_train)\n",
    "train_pred = model.predict(X_train)\n",
    "test_pred = model.predict(X_test)"
   ]
  },
  {
   "cell_type": "code",
   "execution_count": 50,
   "metadata": {},
   "outputs": [
    {
     "name": "stdout",
     "output_type": "stream",
     "text": [
      "Train Score : 99.94% and Test Score : 71.68% using Decision Tree Regressor\n"
     ]
    }
   ],
   "source": [
    "print(f'Train Score : {model.score(X_train, y_train)*100:.2f}% and Test Score : {model.score(X_test, y_test)*100:.2f}% using Decision Tree Regressor.')"
   ]
  },
  {
   "cell_type": "markdown",
   "metadata": {},
   "source": [
    "This Model is Prone to Overfitting : High Accuracy on Train Data and Low Accuracy at Test Data"
   ]
  },
  {
   "cell_type": "markdown",
   "metadata": {},
   "source": [
    "### 5. Random Forest Regression"
   ]
  },
  {
   "cell_type": "code",
   "execution_count": 51,
   "metadata": {},
   "outputs": [],
   "source": [
    "rfr = RandomForestRegressor(n_estimators=100, criterion='mse', random_state=0, n_jobs=-1)\n",
    "model = rfr.fit(X_train, y_train.values.ravel())\n",
    "train_pred = model.predict(X_train)\n",
    "test_pred = model.predict(X_test)"
   ]
  },
  {
   "cell_type": "code",
   "execution_count": 52,
   "metadata": {},
   "outputs": [
    {
     "name": "stdout",
     "output_type": "stream",
     "text": [
      "Train Score : 97.40 and Test Score : 85.92% using Random Forest Regressor\n"
     ]
    }
   ],
   "source": [
    "print(f'Train Score : {model.score(X_train, y_train)*100:.2f} and Test Score : {model.score(X_test, y_test)*100:.2f}% using Random Forest Regressor.')"
   ]
  },
  {
   "cell_type": "markdown",
   "metadata": {},
   "source": [
    "Random Forest Regression gave the Best Accuracy as Compared to other Models."
   ]
  },
  {
   "cell_type": "markdown",
   "metadata": {},
   "source": [
    "### Model Success\n",
    "\n",
    "1. We used R<sup>2</sup> for Measuring the Success of Models\n",
    "\n",
    "2. We should Visualize \n",
    "\n",
    "3. Work with Domain Knowledge\n",
    "\n",
    "### Strength and Weakness\n",
    "\n",
    "1. Linear Regression : When we have Linear Relationship between Variables.\n",
    "\n",
    "2. Polynomial Linear Regression : When we don't have Linear Relationship between the Variables. ( Degree is Important )\n",
    "\n",
    "3. Support Vector Regressor : Kernel Trick works Better for Non Linear Data.\n",
    "\n",
    "4. Decision Tree Regressor : No Need of Scaling and No Effect of Outlier either, Prone to Overfiting.\n",
    "\n",
    "5. Random Forest Regressor : No Need of Scaling and Resilense to Outlier, Solve Overfitting too.\n",
    "\n",
    "Data Modeling and Data Evaluation is Iteractive and Cyclic Process.\n",
    "\n",
    "### Hyperparameter Optimization\n",
    "\n",
    "- Finding Ideal Set of Parameters for a Prediction Algorithm with Optimum Performance\n",
    "\n",
    "How to Identify Ideal Parameters ?\n",
    "\n",
    "### Grid Search\n",
    "\n",
    "1. Make a Grid of Search Space\n",
    "2. Evaluate Each Hyperparameter Selected\n",
    "3. Repeat in as many Dimension as Possible ( Iterative Process )\n",
    "\n",
    "### Data Evaluation\n",
    "\n",
    "Trying to Improve SVR using Grid Search Cross Validation and Hyperparameter Tuning."
   ]
  },
  {
   "cell_type": "code",
   "execution_count": 53,
   "metadata": {},
   "outputs": [
    {
     "name": "stdout",
     "output_type": "stream",
     "text": [
      "Fitting 5 folds for each of 24 candidates, totalling 120 fits\n",
      "[CV] C=600, degree=2, epsilon=0.0001, kernel=linear ..................\n",
      "[CV]  C=600, degree=2, epsilon=0.0001, kernel=linear, score=0.671, total=   0.0s\n",
      "[CV] C=600, degree=2, epsilon=0.0001, kernel=linear ..................\n",
      "[CV]  C=600, degree=2, epsilon=0.0001, kernel=linear, score=0.663, total=   0.0s\n",
      "[CV] C=600, degree=2, epsilon=0.0001, kernel=linear ..................\n",
      "[CV]  C=600, degree=2, epsilon=0.0001, kernel=linear, score=0.571, total=   0.0s\n",
      "[CV] C=600, degree=2, epsilon=0.0001, kernel=linear ..................\n",
      "[CV]  C=600, degree=2, epsilon=0.0001, kernel=linear, score=0.636, total=   0.0s\n",
      "[CV] C=600, degree=2, epsilon=0.0001, kernel=linear ..................\n",
      "[CV]  C=600, degree=2, epsilon=0.0001, kernel=linear, score=0.555, total=   0.0s\n",
      "[CV] C=600, degree=2, epsilon=0.0001, kernel=poly ....................\n",
      "[CV]  C=600, degree=2, epsilon=0.0001, kernel=poly, score=0.485, total=   0.0s\n",
      "[CV] C=600, degree=2, epsilon=0.0001, kernel=poly ....................\n",
      "[CV]  C=600, degree=2, epsilon=0.0001, kernel=poly, score=0.336, total=   0.0s"
     ]
    },
    {
     "name": "stderr",
     "output_type": "stream",
     "text": [
      "[Parallel(n_jobs=1)]: Using backend SequentialBackend with 1 concurrent workers.\n",
      "[Parallel(n_jobs=1)]: Done   1 out of   1 | elapsed:    0.0s remaining:    0.0s\n",
      "[Parallel(n_jobs=1)]: Done   2 out of   2 | elapsed:    0.0s remaining:    0.0s\n"
     ]
    },
    {
     "name": "stdout",
     "output_type": "stream",
     "text": [
      "\n",
      "[CV] C=600, degree=2, epsilon=0.0001, kernel=poly ....................\n",
      "[CV]  C=600, degree=2, epsilon=0.0001, kernel=poly, score=0.278, total=   0.0s\n",
      "[CV] C=600, degree=2, epsilon=0.0001, kernel=poly ....................\n",
      "[CV]  C=600, degree=2, epsilon=0.0001, kernel=poly, score=0.372, total=   0.0s\n",
      "[CV] C=600, degree=2, epsilon=0.0001, kernel=poly ....................\n",
      "[CV]  C=600, degree=2, epsilon=0.0001, kernel=poly, score=0.222, total=   0.0s\n",
      "[CV] C=600, degree=2, epsilon=1e-05, kernel=linear ...................\n",
      "[CV]  C=600, degree=2, epsilon=1e-05, kernel=linear, score=0.671, total=   0.0s\n",
      "[CV] C=600, degree=2, epsilon=1e-05, kernel=linear ...................\n",
      "[CV]  C=600, degree=2, epsilon=1e-05, kernel=linear, score=0.663, total=   0.0s\n",
      "[CV] C=600, degree=2, epsilon=1e-05, kernel=linear ...................\n",
      "[CV]  C=600, degree=2, epsilon=1e-05, kernel=linear, score=0.571, total=   0.0s\n",
      "[CV] C=600, degree=2, epsilon=1e-05, kernel=linear ...................\n",
      "[CV]  C=600, degree=2, epsilon=1e-05, kernel=linear, score=0.636, total=   0.0s\n",
      "[CV] C=600, degree=2, epsilon=1e-05, kernel=linear ...................\n",
      "[CV]  C=600, degree=2, epsilon=1e-05, kernel=linear, score=0.555, total=   0.0s\n",
      "[CV] C=600, degree=2, epsilon=1e-05, kernel=poly .....................\n",
      "[CV]  C=600, degree=2, epsilon=1e-05, kernel=poly, score=0.485, total=   0.0s\n",
      "[CV] C=600, degree=2, epsilon=1e-05, kernel=poly .....................\n",
      "[CV]  C=600, degree=2, epsilon=1e-05, kernel=poly, score=0.336, total=   0.0s\n",
      "[CV] C=600, degree=2, epsilon=1e-05, kernel=poly .....................\n",
      "[CV]  C=600, degree=2, epsilon=1e-05, kernel=poly, score=0.278, total=   0.0s\n",
      "[CV] C=600, degree=2, epsilon=1e-05, kernel=poly .....................\n",
      "[CV]  C=600, degree=2, epsilon=1e-05, kernel=poly, score=0.372, total=   0.0s\n",
      "[CV] C=600, degree=2, epsilon=1e-05, kernel=poly .....................\n",
      "[CV]  C=600, degree=2, epsilon=1e-05, kernel=poly, score=0.222, total=   0.0s\n",
      "[CV] C=600, degree=2, epsilon=1e-06, kernel=linear ...................\n",
      "[CV]  C=600, degree=2, epsilon=1e-06, kernel=linear, score=0.671, total=   0.0s\n",
      "[CV] C=600, degree=2, epsilon=1e-06, kernel=linear ...................\n",
      "[CV]  C=600, degree=2, epsilon=1e-06, kernel=linear, score=0.663, total=   0.0s\n",
      "[CV] C=600, degree=2, epsilon=1e-06, kernel=linear ...................\n",
      "[CV]  C=600, degree=2, epsilon=1e-06, kernel=linear, score=0.571, total=   0.0s\n",
      "[CV] C=600, degree=2, epsilon=1e-06, kernel=linear ...................\n",
      "[CV]  C=600, degree=2, epsilon=1e-06, kernel=linear, score=0.636, total=   0.0s\n",
      "[CV] C=600, degree=2, epsilon=1e-06, kernel=linear ...................\n",
      "[CV]  C=600, degree=2, epsilon=1e-06, kernel=linear, score=0.555, total=   0.0s\n",
      "[CV] C=600, degree=2, epsilon=1e-06, kernel=poly .....................\n",
      "[CV]  C=600, degree=2, epsilon=1e-06, kernel=poly, score=0.485, total=   0.0s\n",
      "[CV] C=600, degree=2, epsilon=1e-06, kernel=poly .....................\n",
      "[CV]  C=600, degree=2, epsilon=1e-06, kernel=poly, score=0.336, total=   0.0s\n",
      "[CV] C=600, degree=2, epsilon=1e-06, kernel=poly .....................\n",
      "[CV]  C=600, degree=2, epsilon=1e-06, kernel=poly, score=0.278, total=   0.0s\n",
      "[CV] C=600, degree=2, epsilon=1e-06, kernel=poly .....................\n",
      "[CV]  C=600, degree=2, epsilon=1e-06, kernel=poly, score=0.372, total=   0.0s\n",
      "[CV] C=600, degree=2, epsilon=1e-06, kernel=poly .....................\n",
      "[CV]  C=600, degree=2, epsilon=1e-06, kernel=poly, score=0.222, total=   0.0s\n",
      "[CV] C=700, degree=2, epsilon=0.0001, kernel=linear ..................\n",
      "[CV]  C=700, degree=2, epsilon=0.0001, kernel=linear, score=0.671, total=   0.0s\n",
      "[CV] C=700, degree=2, epsilon=0.0001, kernel=linear ..................\n",
      "[CV]  C=700, degree=2, epsilon=0.0001, kernel=linear, score=0.662, total=   0.0s\n",
      "[CV] C=700, degree=2, epsilon=0.0001, kernel=linear ..................\n",
      "[CV]  C=700, degree=2, epsilon=0.0001, kernel=linear, score=0.572, total=   0.0s\n",
      "[CV] C=700, degree=2, epsilon=0.0001, kernel=linear ..................\n",
      "[CV]  C=700, degree=2, epsilon=0.0001, kernel=linear, score=0.636, total=   0.0s\n",
      "[CV] C=700, degree=2, epsilon=0.0001, kernel=linear ..................\n",
      "[CV]  C=700, degree=2, epsilon=0.0001, kernel=linear, score=0.555, total=   0.0s\n",
      "[CV] C=700, degree=2, epsilon=0.0001, kernel=poly ....................\n",
      "[CV]  C=700, degree=2, epsilon=0.0001, kernel=poly, score=0.530, total=   0.0s\n",
      "[CV] C=700, degree=2, epsilon=0.0001, kernel=poly ....................\n",
      "[CV]  C=700, degree=2, epsilon=0.0001, kernel=poly, score=0.361, total=   0.0s\n",
      "[CV] C=700, degree=2, epsilon=0.0001, kernel=poly ....................\n",
      "[CV]  C=700, degree=2, epsilon=0.0001, kernel=poly, score=0.311, total=   0.0s\n",
      "[CV] C=700, degree=2, epsilon=0.0001, kernel=poly ....................\n",
      "[CV]  C=700, degree=2, epsilon=0.0001, kernel=poly, score=0.405, total=   0.0s\n",
      "[CV] C=700, degree=2, epsilon=0.0001, kernel=poly ....................\n",
      "[CV]  C=700, degree=2, epsilon=0.0001, kernel=poly, score=0.249, total=   0.0s\n",
      "[CV] C=700, degree=2, epsilon=1e-05, kernel=linear ...................\n",
      "[CV]  C=700, degree=2, epsilon=1e-05, kernel=linear, score=0.671, total=   0.0s\n",
      "[CV] C=700, degree=2, epsilon=1e-05, kernel=linear ...................\n",
      "[CV]  C=700, degree=2, epsilon=1e-05, kernel=linear, score=0.662, total=   0.0s\n",
      "[CV] C=700, degree=2, epsilon=1e-05, kernel=linear ...................\n",
      "[CV]  C=700, degree=2, epsilon=1e-05, kernel=linear, score=0.572, total=   0.0s\n",
      "[CV] C=700, degree=2, epsilon=1e-05, kernel=linear ...................\n",
      "[CV]  C=700, degree=2, epsilon=1e-05, kernel=linear, score=0.636, total=   0.0s\n",
      "[CV] C=700, degree=2, epsilon=1e-05, kernel=linear ...................\n",
      "[CV]  C=700, degree=2, epsilon=1e-05, kernel=linear, score=0.555, total=   0.0s\n",
      "[CV] C=700, degree=2, epsilon=1e-05, kernel=poly .....................\n",
      "[CV]  C=700, degree=2, epsilon=1e-05, kernel=poly, score=0.530, total=   0.0s\n",
      "[CV] C=700, degree=2, epsilon=1e-05, kernel=poly .....................\n",
      "[CV]  C=700, degree=2, epsilon=1e-05, kernel=poly, score=0.361, total=   0.0s\n",
      "[CV] C=700, degree=2, epsilon=1e-05, kernel=poly .....................\n",
      "[CV]  C=700, degree=2, epsilon=1e-05, kernel=poly, score=0.311, total=   0.0s\n",
      "[CV] C=700, degree=2, epsilon=1e-05, kernel=poly .....................\n",
      "[CV]  C=700, degree=2, epsilon=1e-05, kernel=poly, score=0.405, total=   0.0s\n",
      "[CV] C=700, degree=2, epsilon=1e-05, kernel=poly .....................\n",
      "[CV]  C=700, degree=2, epsilon=1e-05, kernel=poly, score=0.249, total=   0.0s\n",
      "[CV] C=700, degree=2, epsilon=1e-06, kernel=linear ...................\n",
      "[CV]  C=700, degree=2, epsilon=1e-06, kernel=linear, score=0.671, total=   0.0s\n",
      "[CV] C=700, degree=2, epsilon=1e-06, kernel=linear ...................\n",
      "[CV]  C=700, degree=2, epsilon=1e-06, kernel=linear, score=0.662, total=   0.0s\n",
      "[CV] C=700, degree=2, epsilon=1e-06, kernel=linear ...................\n",
      "[CV]  C=700, degree=2, epsilon=1e-06, kernel=linear, score=0.572, total=   0.0s\n",
      "[CV] C=700, degree=2, epsilon=1e-06, kernel=linear ...................\n",
      "[CV]  C=700, degree=2, epsilon=1e-06, kernel=linear, score=0.636, total=   0.0s\n",
      "[CV] C=700, degree=2, epsilon=1e-06, kernel=linear ...................\n",
      "[CV]  C=700, degree=2, epsilon=1e-06, kernel=linear, score=0.555, total=   0.0s\n",
      "[CV] C=700, degree=2, epsilon=1e-06, kernel=poly .....................\n",
      "[CV]  C=700, degree=2, epsilon=1e-06, kernel=poly, score=0.530, total=   0.0s\n",
      "[CV] C=700, degree=2, epsilon=1e-06, kernel=poly .....................\n",
      "[CV]  C=700, degree=2, epsilon=1e-06, kernel=poly, score=0.361, total=   0.0s\n",
      "[CV] C=700, degree=2, epsilon=1e-06, kernel=poly .....................\n",
      "[CV]  C=700, degree=2, epsilon=1e-06, kernel=poly, score=0.311, total=   0.0s\n",
      "[CV] C=700, degree=2, epsilon=1e-06, kernel=poly .....................\n",
      "[CV]  C=700, degree=2, epsilon=1e-06, kernel=poly, score=0.405, total=   0.0s\n",
      "[CV] C=700, degree=2, epsilon=1e-06, kernel=poly .....................\n",
      "[CV]  C=700, degree=2, epsilon=1e-06, kernel=poly, score=0.249, total=   0.0s\n",
      "[CV] C=800, degree=2, epsilon=0.0001, kernel=linear ..................\n",
      "[CV]  C=800, degree=2, epsilon=0.0001, kernel=linear, score=0.686, total=   0.0s\n",
      "[CV] C=800, degree=2, epsilon=0.0001, kernel=linear ..................\n",
      "[CV]  C=800, degree=2, epsilon=0.0001, kernel=linear, score=0.621, total=   0.0s\n",
      "[CV] C=800, degree=2, epsilon=0.0001, kernel=linear ..................\n",
      "[CV]  C=800, degree=2, epsilon=0.0001, kernel=linear, score=0.572, total=   0.0s\n",
      "[CV] C=800, degree=2, epsilon=0.0001, kernel=linear ..................\n",
      "[CV]  C=800, degree=2, epsilon=0.0001, kernel=linear, score=0.588, total=   0.0s\n",
      "[CV] C=800, degree=2, epsilon=0.0001, kernel=linear ..................\n",
      "[CV]  C=800, degree=2, epsilon=0.0001, kernel=linear, score=0.555, total=   0.0s\n",
      "[CV] C=800, degree=2, epsilon=0.0001, kernel=poly ....................\n",
      "[CV]  C=800, degree=2, epsilon=0.0001, kernel=poly, score=0.569, total=   0.0s\n",
      "[CV] C=800, degree=2, epsilon=0.0001, kernel=poly ....................\n",
      "[CV]  C=800, degree=2, epsilon=0.0001, kernel=poly, score=0.378, total=   0.0s\n",
      "[CV] C=800, degree=2, epsilon=0.0001, kernel=poly ....................\n"
     ]
    },
    {
     "name": "stdout",
     "output_type": "stream",
     "text": [
      "[CV]  C=800, degree=2, epsilon=0.0001, kernel=poly, score=0.345, total=   0.0s\n",
      "[CV] C=800, degree=2, epsilon=0.0001, kernel=poly ....................\n",
      "[CV]  C=800, degree=2, epsilon=0.0001, kernel=poly, score=0.442, total=   0.0s\n",
      "[CV] C=800, degree=2, epsilon=0.0001, kernel=poly ....................\n",
      "[CV]  C=800, degree=2, epsilon=0.0001, kernel=poly, score=0.268, total=   0.0s\n",
      "[CV] C=800, degree=2, epsilon=1e-05, kernel=linear ...................\n",
      "[CV]  C=800, degree=2, epsilon=1e-05, kernel=linear, score=0.686, total=   0.0s\n",
      "[CV] C=800, degree=2, epsilon=1e-05, kernel=linear ...................\n",
      "[CV]  C=800, degree=2, epsilon=1e-05, kernel=linear, score=0.621, total=   0.0s\n",
      "[CV] C=800, degree=2, epsilon=1e-05, kernel=linear ...................\n",
      "[CV]  C=800, degree=2, epsilon=1e-05, kernel=linear, score=0.572, total=   0.0s\n",
      "[CV] C=800, degree=2, epsilon=1e-05, kernel=linear ...................\n",
      "[CV]  C=800, degree=2, epsilon=1e-05, kernel=linear, score=0.588, total=   0.0s\n",
      "[CV] C=800, degree=2, epsilon=1e-05, kernel=linear ...................\n",
      "[CV]  C=800, degree=2, epsilon=1e-05, kernel=linear, score=0.555, total=   0.0s\n",
      "[CV] C=800, degree=2, epsilon=1e-05, kernel=poly .....................\n",
      "[CV]  C=800, degree=2, epsilon=1e-05, kernel=poly, score=0.569, total=   0.0s\n",
      "[CV] C=800, degree=2, epsilon=1e-05, kernel=poly .....................\n",
      "[CV]  C=800, degree=2, epsilon=1e-05, kernel=poly, score=0.378, total=   0.0s\n",
      "[CV] C=800, degree=2, epsilon=1e-05, kernel=poly .....................\n",
      "[CV]  C=800, degree=2, epsilon=1e-05, kernel=poly, score=0.345, total=   0.0s\n",
      "[CV] C=800, degree=2, epsilon=1e-05, kernel=poly .....................\n",
      "[CV]  C=800, degree=2, epsilon=1e-05, kernel=poly, score=0.442, total=   0.0s\n",
      "[CV] C=800, degree=2, epsilon=1e-05, kernel=poly .....................\n",
      "[CV]  C=800, degree=2, epsilon=1e-05, kernel=poly, score=0.268, total=   0.0s\n",
      "[CV] C=800, degree=2, epsilon=1e-06, kernel=linear ...................\n",
      "[CV]  C=800, degree=2, epsilon=1e-06, kernel=linear, score=0.686, total=   0.0s\n",
      "[CV] C=800, degree=2, epsilon=1e-06, kernel=linear ...................\n",
      "[CV]  C=800, degree=2, epsilon=1e-06, kernel=linear, score=0.621, total=   0.0s\n",
      "[CV] C=800, degree=2, epsilon=1e-06, kernel=linear ...................\n",
      "[CV]  C=800, degree=2, epsilon=1e-06, kernel=linear, score=0.572, total=   0.0s\n",
      "[CV] C=800, degree=2, epsilon=1e-06, kernel=linear ...................\n",
      "[CV]  C=800, degree=2, epsilon=1e-06, kernel=linear, score=0.588, total=   0.0s\n",
      "[CV] C=800, degree=2, epsilon=1e-06, kernel=linear ...................\n",
      "[CV]  C=800, degree=2, epsilon=1e-06, kernel=linear, score=0.555, total=   0.0s\n",
      "[CV] C=800, degree=2, epsilon=1e-06, kernel=poly .....................\n",
      "[CV]  C=800, degree=2, epsilon=1e-06, kernel=poly, score=0.569, total=   0.0s\n",
      "[CV] C=800, degree=2, epsilon=1e-06, kernel=poly .....................\n",
      "[CV]  C=800, degree=2, epsilon=1e-06, kernel=poly, score=0.378, total=   0.0s\n",
      "[CV] C=800, degree=2, epsilon=1e-06, kernel=poly .....................\n",
      "[CV]  C=800, degree=2, epsilon=1e-06, kernel=poly, score=0.345, total=   0.0s\n",
      "[CV] C=800, degree=2, epsilon=1e-06, kernel=poly .....................\n",
      "[CV]  C=800, degree=2, epsilon=1e-06, kernel=poly, score=0.442, total=   0.0s\n",
      "[CV] C=800, degree=2, epsilon=1e-06, kernel=poly .....................\n",
      "[CV]  C=800, degree=2, epsilon=1e-06, kernel=poly, score=0.268, total=   0.0s\n",
      "[CV] C=900, degree=2, epsilon=0.0001, kernel=linear ..................\n",
      "[CV]  C=900, degree=2, epsilon=0.0001, kernel=linear, score=0.709, total=   0.0s\n",
      "[CV] C=900, degree=2, epsilon=0.0001, kernel=linear ..................\n",
      "[CV]  C=900, degree=2, epsilon=0.0001, kernel=linear, score=0.610, total=   0.0s\n",
      "[CV] C=900, degree=2, epsilon=0.0001, kernel=linear ..................\n",
      "[CV]  C=900, degree=2, epsilon=0.0001, kernel=linear, score=0.573, total=   0.0s\n",
      "[CV] C=900, degree=2, epsilon=0.0001, kernel=linear ..................\n",
      "[CV]  C=900, degree=2, epsilon=0.0001, kernel=linear, score=0.571, total=   0.0s\n",
      "[CV] C=900, degree=2, epsilon=0.0001, kernel=linear ..................\n",
      "[CV]  C=900, degree=2, epsilon=0.0001, kernel=linear, score=0.555, total=   0.0s\n",
      "[CV] C=900, degree=2, epsilon=0.0001, kernel=poly ....................\n",
      "[CV]  C=900, degree=2, epsilon=0.0001, kernel=poly, score=0.583, total=   0.0s\n",
      "[CV] C=900, degree=2, epsilon=0.0001, kernel=poly ....................\n",
      "[CV]  C=900, degree=2, epsilon=0.0001, kernel=poly, score=0.386, total=   0.0s\n",
      "[CV] C=900, degree=2, epsilon=0.0001, kernel=poly ....................\n",
      "[CV]  C=900, degree=2, epsilon=0.0001, kernel=poly, score=0.374, total=   0.0s\n",
      "[CV] C=900, degree=2, epsilon=0.0001, kernel=poly ....................\n",
      "[CV]  C=900, degree=2, epsilon=0.0001, kernel=poly, score=0.461, total=   0.0s\n",
      "[CV] C=900, degree=2, epsilon=0.0001, kernel=poly ....................\n",
      "[CV]  C=900, degree=2, epsilon=0.0001, kernel=poly, score=0.295, total=   0.0s\n",
      "[CV] C=900, degree=2, epsilon=1e-05, kernel=linear ...................\n",
      "[CV]  C=900, degree=2, epsilon=1e-05, kernel=linear, score=0.709, total=   0.0s\n",
      "[CV] C=900, degree=2, epsilon=1e-05, kernel=linear ...................\n",
      "[CV]  C=900, degree=2, epsilon=1e-05, kernel=linear, score=0.610, total=   0.0s\n",
      "[CV] C=900, degree=2, epsilon=1e-05, kernel=linear ...................\n",
      "[CV]  C=900, degree=2, epsilon=1e-05, kernel=linear, score=0.573, total=   0.0s\n",
      "[CV] C=900, degree=2, epsilon=1e-05, kernel=linear ...................\n",
      "[CV]  C=900, degree=2, epsilon=1e-05, kernel=linear, score=0.571, total=   0.0s\n",
      "[CV] C=900, degree=2, epsilon=1e-05, kernel=linear ...................\n",
      "[CV]  C=900, degree=2, epsilon=1e-05, kernel=linear, score=0.555, total=   0.0s\n",
      "[CV] C=900, degree=2, epsilon=1e-05, kernel=poly .....................\n",
      "[CV]  C=900, degree=2, epsilon=1e-05, kernel=poly, score=0.583, total=   0.0s\n",
      "[CV] C=900, degree=2, epsilon=1e-05, kernel=poly .....................\n",
      "[CV]  C=900, degree=2, epsilon=1e-05, kernel=poly, score=0.386, total=   0.0s\n",
      "[CV] C=900, degree=2, epsilon=1e-05, kernel=poly .....................\n",
      "[CV]  C=900, degree=2, epsilon=1e-05, kernel=poly, score=0.374, total=   0.0s\n",
      "[CV] C=900, degree=2, epsilon=1e-05, kernel=poly .....................\n",
      "[CV]  C=900, degree=2, epsilon=1e-05, kernel=poly, score=0.461, total=   0.0s\n",
      "[CV] C=900, degree=2, epsilon=1e-05, kernel=poly .....................\n",
      "[CV]  C=900, degree=2, epsilon=1e-05, kernel=poly, score=0.295, total=   0.0s\n",
      "[CV] C=900, degree=2, epsilon=1e-06, kernel=linear ...................\n",
      "[CV]  C=900, degree=2, epsilon=1e-06, kernel=linear, score=0.709, total=   0.0s\n",
      "[CV] C=900, degree=2, epsilon=1e-06, kernel=linear ...................\n",
      "[CV]  C=900, degree=2, epsilon=1e-06, kernel=linear, score=0.610, total=   0.0s\n",
      "[CV] C=900, degree=2, epsilon=1e-06, kernel=linear ...................\n",
      "[CV]  C=900, degree=2, epsilon=1e-06, kernel=linear, score=0.573, total=   0.0s\n",
      "[CV] C=900, degree=2, epsilon=1e-06, kernel=linear ...................\n",
      "[CV]  C=900, degree=2, epsilon=1e-06, kernel=linear, score=0.571, total=   0.0s\n",
      "[CV] C=900, degree=2, epsilon=1e-06, kernel=linear ...................\n",
      "[CV]  C=900, degree=2, epsilon=1e-06, kernel=linear, score=0.555, total=   0.0s\n",
      "[CV] C=900, degree=2, epsilon=1e-06, kernel=poly .....................\n",
      "[CV]  C=900, degree=2, epsilon=1e-06, kernel=poly, score=0.583, total=   0.0s\n",
      "[CV] C=900, degree=2, epsilon=1e-06, kernel=poly .....................\n",
      "[CV]  C=900, degree=2, epsilon=1e-06, kernel=poly, score=0.386, total=   0.0s\n",
      "[CV] C=900, degree=2, epsilon=1e-06, kernel=poly .....................\n",
      "[CV]  C=900, degree=2, epsilon=1e-06, kernel=poly, score=0.374, total=   0.0s\n",
      "[CV] C=900, degree=2, epsilon=1e-06, kernel=poly .....................\n",
      "[CV]  C=900, degree=2, epsilon=1e-06, kernel=poly, score=0.461, total=   0.0s\n",
      "[CV] C=900, degree=2, epsilon=1e-06, kernel=poly .....................\n",
      "[CV]  C=900, degree=2, epsilon=1e-06, kernel=poly, score=0.295, total=   0.0s\n"
     ]
    },
    {
     "name": "stderr",
     "output_type": "stream",
     "text": [
      "[Parallel(n_jobs=1)]: Done 120 out of 120 | elapsed:    2.4s finished\n"
     ]
    }
   ],
   "source": [
    "parameter_grid_svr = {\n",
    "    'kernel' : ['linear','poly'],\n",
    "    'degree' : [2],\n",
    "    'C' : [600,700,800,900], # Penalty of Error\n",
    "    'epsilon' : [0.0001, 0.00001, 0.000001] # Margin of Tolerence\n",
    "}\n",
    "\n",
    "gscv = GridSearchCV(SVR(), \n",
    "                   param_grid = parameter_grid_svr, \n",
    "                   cv = 5, # Cross Validation\n",
    "                   verbose=3)\n",
    "\n",
    "model = gscv.fit(X_train, y_train.values.ravel())"
   ]
  },
  {
   "cell_type": "code",
   "execution_count": 54,
   "metadata": {},
   "outputs": [
    {
     "name": "stdout",
     "output_type": "stream",
     "text": [
      "Best Estimator : SVR(C=700, degree=2, epsilon=0.0001, kernel='linear')\n"
     ]
    }
   ],
   "source": [
    "print(f'Best Estimator : {model.best_estimator_}')"
   ]
  },
  {
   "cell_type": "code",
   "execution_count": 55,
   "metadata": {},
   "outputs": [
    {
     "name": "stdout",
     "output_type": "stream",
     "text": [
      "Train Score : 68.32% and Test Score : 73.43% using SVR with Best Parameters.\n"
     ]
    }
   ],
   "source": [
    "print(f'Train Score : {model.score(X_train, y_train)*100:.2f}% and Test Score : {model.score(X_test, y_test)*100:.2f}% using SVR with Best Parameters.')"
   ]
  },
  {
   "cell_type": "markdown",
   "metadata": {},
   "source": [
    "Trying to Improve Decision Tree Regression using Grid Search Cross Validation and Hyperparameter Tuning."
   ]
  },
  {
   "cell_type": "code",
   "execution_count": 57,
   "metadata": {},
   "outputs": [
    {
     "name": "stdout",
     "output_type": "stream",
     "text": [
      "Fitting 5 folds for each of 36 candidates, totalling 180 fits\n",
      "[CV] max_depth=4, min_impurity_decrease=0, min_samples_leaf=9 ........\n",
      "[CV]  max_depth=4, min_impurity_decrease=0, min_samples_leaf=9, score=0.817, total=   0.0s\n",
      "[CV] max_depth=4, min_impurity_decrease=0, min_samples_leaf=9 ........\n",
      "[CV]  max_depth=4, min_impurity_decrease=0, min_samples_leaf=9, score=0.819, total=   0.0s\n",
      "[CV] max_depth=4, min_impurity_decrease=0, min_samples_leaf=9 ........\n",
      "[CV]  max_depth=4, min_impurity_decrease=0, min_samples_leaf=9, score=0.846, total=   0.0s\n",
      "[CV] max_depth=4, min_impurity_decrease=0, min_samples_leaf=9 ........\n",
      "[CV]  max_depth=4, min_impurity_decrease=0, min_samples_leaf=9, score=0.812, total=   0.0s\n",
      "[CV] max_depth=4, min_impurity_decrease=0, min_samples_leaf=9 ........\n",
      "[CV]  max_depth=4, min_impurity_decrease=0, min_samples_leaf=9, score=0.796, total=   0.0s\n",
      "[CV] max_depth=4, min_impurity_decrease=0, min_samples_leaf=10 .......\n",
      "[CV]  max_depth=4, min_impurity_decrease=0, min_samples_leaf=10, score=0.818, total=   0.0s\n",
      "[CV] max_depth=4, min_impurity_decrease=0, min_samples_leaf=10 .......\n",
      "[CV]  max_depth=4, min_impurity_decrease=0, min_samples_leaf=10, score=0.819, total=   0.0s\n",
      "[CV] max_depth=4, min_impurity_decrease=0, min_samples_leaf=10 .......\n",
      "[CV]  max_depth=4, min_impurity_decrease=0, min_samples_leaf=10, score=0.846, total=   0.0s\n",
      "[CV] max_depth=4, min_impurity_decrease=0, min_samples_leaf=10 .......\n",
      "[CV]  max_depth=4, min_impurity_decrease=0, min_samples_leaf=10, score=0.815, total=   0.0s\n",
      "[CV] max_depth=4, min_impurity_decrease=0, min_samples_leaf=10 .......\n",
      "[CV]  max_depth=4, min_impurity_decrease=0, min_samples_leaf=10, score=0.796, total=   0.0s\n",
      "[CV] max_depth=4, min_impurity_decrease=0, min_samples_leaf=11 .......\n",
      "[CV]  max_depth=4, min_impurity_decrease=0, min_samples_leaf=11, score=0.818, total=   0.0s\n",
      "[CV] max_depth=4, min_impurity_decrease=0, min_samples_leaf=11 .......\n",
      "[CV]  max_depth=4, min_impurity_decrease=0, min_samples_leaf=11, score=0.820, total=   0.0s\n",
      "[CV] max_depth=4, min_impurity_decrease=0, min_samples_leaf=11 .......\n",
      "[CV]  max_depth=4, min_impurity_decrease=0, min_samples_leaf=11, score=0.845, total=   0.0s\n",
      "[CV] max_depth=4, min_impurity_decrease=0, min_samples_leaf=11 .......\n",
      "[CV]  max_depth=4, min_impurity_decrease=0, min_samples_leaf=11, score=0.815, total=   0.0s\n",
      "[CV] max_depth=4, min_impurity_decrease=0, min_samples_leaf=11 .......\n",
      "[CV]  max_depth=4, min_impurity_decrease=0, min_samples_leaf=11, score=0.796, total=   0.0s\n",
      "[CV] max_depth=4, min_impurity_decrease=0, min_samples_leaf=12 .......\n",
      "[CV]  max_depth=4, min_impurity_decrease=0, min_samples_leaf=12, score=0.818, total=   0.0s\n",
      "[CV] max_depth=4, min_impurity_decrease=0, min_samples_leaf=12 .......\n"
     ]
    },
    {
     "name": "stderr",
     "output_type": "stream",
     "text": [
      "[Parallel(n_jobs=1)]: Using backend SequentialBackend with 1 concurrent workers.\n",
      "[Parallel(n_jobs=1)]: Done   1 out of   1 | elapsed:    0.0s remaining:    0.0s\n",
      "[Parallel(n_jobs=1)]: Done   2 out of   2 | elapsed:    0.0s remaining:    0.0s\n"
     ]
    },
    {
     "name": "stdout",
     "output_type": "stream",
     "text": [
      "[CV]  max_depth=4, min_impurity_decrease=0, min_samples_leaf=12, score=0.820, total=   0.0s\n",
      "[CV] max_depth=4, min_impurity_decrease=0, min_samples_leaf=12 .......\n",
      "[CV]  max_depth=4, min_impurity_decrease=0, min_samples_leaf=12, score=0.845, total=   0.0s\n",
      "[CV] max_depth=4, min_impurity_decrease=0, min_samples_leaf=12 .......\n",
      "[CV]  max_depth=4, min_impurity_decrease=0, min_samples_leaf=12, score=0.815, total=   0.0s\n",
      "[CV] max_depth=4, min_impurity_decrease=0, min_samples_leaf=12 .......\n",
      "[CV]  max_depth=4, min_impurity_decrease=0, min_samples_leaf=12, score=0.796, total=   0.0s\n",
      "[CV] max_depth=4, min_impurity_decrease=1, min_samples_leaf=9 ........\n",
      "[CV]  max_depth=4, min_impurity_decrease=1, min_samples_leaf=9, score=0.817, total=   0.0s\n",
      "[CV] max_depth=4, min_impurity_decrease=1, min_samples_leaf=9 ........\n",
      "[CV]  max_depth=4, min_impurity_decrease=1, min_samples_leaf=9, score=0.819, total=   0.0s\n",
      "[CV] max_depth=4, min_impurity_decrease=1, min_samples_leaf=9 ........\n",
      "[CV]  max_depth=4, min_impurity_decrease=1, min_samples_leaf=9, score=0.846, total=   0.0s\n",
      "[CV] max_depth=4, min_impurity_decrease=1, min_samples_leaf=9 ........\n",
      "[CV]  max_depth=4, min_impurity_decrease=1, min_samples_leaf=9, score=0.812, total=   0.0s\n",
      "[CV] max_depth=4, min_impurity_decrease=1, min_samples_leaf=9 ........\n",
      "[CV]  max_depth=4, min_impurity_decrease=1, min_samples_leaf=9, score=0.796, total=   0.0s\n",
      "[CV] max_depth=4, min_impurity_decrease=1, min_samples_leaf=10 .......\n",
      "[CV]  max_depth=4, min_impurity_decrease=1, min_samples_leaf=10, score=0.818, total=   0.0s\n",
      "[CV] max_depth=4, min_impurity_decrease=1, min_samples_leaf=10 .......\n",
      "[CV]  max_depth=4, min_impurity_decrease=1, min_samples_leaf=10, score=0.819, total=   0.0s\n",
      "[CV] max_depth=4, min_impurity_decrease=1, min_samples_leaf=10 .......\n",
      "[CV]  max_depth=4, min_impurity_decrease=1, min_samples_leaf=10, score=0.846, total=   0.0s\n",
      "[CV] max_depth=4, min_impurity_decrease=1, min_samples_leaf=10 .......\n",
      "[CV]  max_depth=4, min_impurity_decrease=1, min_samples_leaf=10, score=0.815, total=   0.0s\n",
      "[CV] max_depth=4, min_impurity_decrease=1, min_samples_leaf=10 .......\n",
      "[CV]  max_depth=4, min_impurity_decrease=1, min_samples_leaf=10, score=0.796, total=   0.0s\n",
      "[CV] max_depth=4, min_impurity_decrease=1, min_samples_leaf=11 .......\n",
      "[CV]  max_depth=4, min_impurity_decrease=1, min_samples_leaf=11, score=0.818, total=   0.0s\n",
      "[CV] max_depth=4, min_impurity_decrease=1, min_samples_leaf=11 .......\n",
      "[CV]  max_depth=4, min_impurity_decrease=1, min_samples_leaf=11, score=0.820, total=   0.0s\n",
      "[CV] max_depth=4, min_impurity_decrease=1, min_samples_leaf=11 .......\n",
      "[CV]  max_depth=4, min_impurity_decrease=1, min_samples_leaf=11, score=0.845, total=   0.0s\n",
      "[CV] max_depth=4, min_impurity_decrease=1, min_samples_leaf=11 .......\n",
      "[CV]  max_depth=4, min_impurity_decrease=1, min_samples_leaf=11, score=0.815, total=   0.0s\n",
      "[CV] max_depth=4, min_impurity_decrease=1, min_samples_leaf=11 .......\n",
      "[CV]  max_depth=4, min_impurity_decrease=1, min_samples_leaf=11, score=0.796, total=   0.0s\n",
      "[CV] max_depth=4, min_impurity_decrease=1, min_samples_leaf=12 .......\n",
      "[CV]  max_depth=4, min_impurity_decrease=1, min_samples_leaf=12, score=0.818, total=   0.0s\n",
      "[CV] max_depth=4, min_impurity_decrease=1, min_samples_leaf=12 .......\n",
      "[CV]  max_depth=4, min_impurity_decrease=1, min_samples_leaf=12, score=0.820, total=   0.0s\n",
      "[CV] max_depth=4, min_impurity_decrease=1, min_samples_leaf=12 .......\n",
      "[CV]  max_depth=4, min_impurity_decrease=1, min_samples_leaf=12, score=0.845, total=   0.0s\n",
      "[CV] max_depth=4, min_impurity_decrease=1, min_samples_leaf=12 .......\n",
      "[CV]  max_depth=4, min_impurity_decrease=1, min_samples_leaf=12, score=0.815, total=   0.0s\n",
      "[CV] max_depth=4, min_impurity_decrease=1, min_samples_leaf=12 .......\n",
      "[CV]  max_depth=4, min_impurity_decrease=1, min_samples_leaf=12, score=0.796, total=   0.0s\n",
      "[CV] max_depth=4, min_impurity_decrease=2, min_samples_leaf=9 ........\n",
      "[CV]  max_depth=4, min_impurity_decrease=2, min_samples_leaf=9, score=0.817, total=   0.0s\n",
      "[CV] max_depth=4, min_impurity_decrease=2, min_samples_leaf=9 ........\n",
      "[CV]  max_depth=4, min_impurity_decrease=2, min_samples_leaf=9, score=0.819, total=   0.0s\n",
      "[CV] max_depth=4, min_impurity_decrease=2, min_samples_leaf=9 ........\n",
      "[CV]  max_depth=4, min_impurity_decrease=2, min_samples_leaf=9, score=0.846, total=   0.0s\n",
      "[CV] max_depth=4, min_impurity_decrease=2, min_samples_leaf=9 ........\n",
      "[CV]  max_depth=4, min_impurity_decrease=2, min_samples_leaf=9, score=0.812, total=   0.0s\n",
      "[CV] max_depth=4, min_impurity_decrease=2, min_samples_leaf=9 ........\n",
      "[CV]  max_depth=4, min_impurity_decrease=2, min_samples_leaf=9, score=0.796, total=   0.0s\n",
      "[CV] max_depth=4, min_impurity_decrease=2, min_samples_leaf=10 .......\n",
      "[CV]  max_depth=4, min_impurity_decrease=2, min_samples_leaf=10, score=0.818, total=   0.0s\n",
      "[CV] max_depth=4, min_impurity_decrease=2, min_samples_leaf=10 .......\n",
      "[CV]  max_depth=4, min_impurity_decrease=2, min_samples_leaf=10, score=0.819, total=   0.0s\n",
      "[CV] max_depth=4, min_impurity_decrease=2, min_samples_leaf=10 .......\n",
      "[CV]  max_depth=4, min_impurity_decrease=2, min_samples_leaf=10, score=0.846, total=   0.0s\n",
      "[CV] max_depth=4, min_impurity_decrease=2, min_samples_leaf=10 .......\n",
      "[CV]  max_depth=4, min_impurity_decrease=2, min_samples_leaf=10, score=0.815, total=   0.0s\n",
      "[CV] max_depth=4, min_impurity_decrease=2, min_samples_leaf=10 .......\n",
      "[CV]  max_depth=4, min_impurity_decrease=2, min_samples_leaf=10, score=0.796, total=   0.0s\n",
      "[CV] max_depth=4, min_impurity_decrease=2, min_samples_leaf=11 .......\n",
      "[CV]  max_depth=4, min_impurity_decrease=2, min_samples_leaf=11, score=0.818, total=   0.0s\n",
      "[CV] max_depth=4, min_impurity_decrease=2, min_samples_leaf=11 .......\n",
      "[CV]  max_depth=4, min_impurity_decrease=2, min_samples_leaf=11, score=0.820, total=   0.0s\n",
      "[CV] max_depth=4, min_impurity_decrease=2, min_samples_leaf=11 .......\n",
      "[CV]  max_depth=4, min_impurity_decrease=2, min_samples_leaf=11, score=0.845, total=   0.0s\n",
      "[CV] max_depth=4, min_impurity_decrease=2, min_samples_leaf=11 .......\n",
      "[CV]  max_depth=4, min_impurity_decrease=2, min_samples_leaf=11, score=0.815, total=   0.0s\n",
      "[CV] max_depth=4, min_impurity_decrease=2, min_samples_leaf=11 .......\n",
      "[CV]  max_depth=4, min_impurity_decrease=2, min_samples_leaf=11, score=0.796, total=   0.0s\n",
      "[CV] max_depth=4, min_impurity_decrease=2, min_samples_leaf=12 .......\n",
      "[CV]  max_depth=4, min_impurity_decrease=2, min_samples_leaf=12, score=0.818, total=   0.0s\n",
      "[CV] max_depth=4, min_impurity_decrease=2, min_samples_leaf=12 .......\n",
      "[CV]  max_depth=4, min_impurity_decrease=2, min_samples_leaf=12, score=0.820, total=   0.0s\n",
      "[CV] max_depth=4, min_impurity_decrease=2, min_samples_leaf=12 .......\n",
      "[CV]  max_depth=4, min_impurity_decrease=2, min_samples_leaf=12, score=0.845, total=   0.0s\n",
      "[CV] max_depth=4, min_impurity_decrease=2, min_samples_leaf=12 .......\n",
      "[CV]  max_depth=4, min_impurity_decrease=2, min_samples_leaf=12, score=0.815, total=   0.0s\n",
      "[CV] max_depth=4, min_impurity_decrease=2, min_samples_leaf=12 .......\n",
      "[CV]  max_depth=4, min_impurity_decrease=2, min_samples_leaf=12, score=0.796, total=   0.0s\n",
      "[CV] max_depth=5, min_impurity_decrease=0, min_samples_leaf=9 ........\n",
      "[CV]  max_depth=5, min_impurity_decrease=0, min_samples_leaf=9, score=0.827, total=   0.0s\n",
      "[CV] max_depth=5, min_impurity_decrease=0, min_samples_leaf=9 ........\n",
      "[CV]  max_depth=5, min_impurity_decrease=0, min_samples_leaf=9, score=0.807, total=   0.0s\n",
      "[CV] max_depth=5, min_impurity_decrease=0, min_samples_leaf=9 ........\n",
      "[CV]  max_depth=5, min_impurity_decrease=0, min_samples_leaf=9, score=0.853, total=   0.0s\n",
      "[CV] max_depth=5, min_impurity_decrease=0, min_samples_leaf=9 ........\n",
      "[CV]  max_depth=5, min_impurity_decrease=0, min_samples_leaf=9, score=0.821, total=   0.0s\n",
      "[CV] max_depth=5, min_impurity_decrease=0, min_samples_leaf=9 ........\n",
      "[CV]  max_depth=5, min_impurity_decrease=0, min_samples_leaf=9, score=0.787, total=   0.0s\n",
      "[CV] max_depth=5, min_impurity_decrease=0, min_samples_leaf=10 .......\n",
      "[CV]  max_depth=5, min_impurity_decrease=0, min_samples_leaf=10, score=0.825, total=   0.0s\n",
      "[CV] max_depth=5, min_impurity_decrease=0, min_samples_leaf=10 .......\n",
      "[CV]  max_depth=5, min_impurity_decrease=0, min_samples_leaf=10, score=0.810, total=   0.0s\n",
      "[CV] max_depth=5, min_impurity_decrease=0, min_samples_leaf=10 .......\n",
      "[CV]  max_depth=5, min_impurity_decrease=0, min_samples_leaf=10, score=0.852, total=   0.0s\n",
      "[CV] max_depth=5, min_impurity_decrease=0, min_samples_leaf=10 .......\n",
      "[CV]  max_depth=5, min_impurity_decrease=0, min_samples_leaf=10, score=0.816, total=   0.0s\n",
      "[CV] max_depth=5, min_impurity_decrease=0, min_samples_leaf=10 .......\n",
      "[CV]  max_depth=5, min_impurity_decrease=0, min_samples_leaf=10, score=0.787, total=   0.0s\n",
      "[CV] max_depth=5, min_impurity_decrease=0, min_samples_leaf=11 .......\n",
      "[CV]  max_depth=5, min_impurity_decrease=0, min_samples_leaf=11, score=0.826, total=   0.0s\n",
      "[CV] max_depth=5, min_impurity_decrease=0, min_samples_leaf=11 .......\n",
      "[CV]  max_depth=5, min_impurity_decrease=0, min_samples_leaf=11, score=0.819, total=   0.0s\n",
      "[CV] max_depth=5, min_impurity_decrease=0, min_samples_leaf=11 .......\n",
      "[CV]  max_depth=5, min_impurity_decrease=0, min_samples_leaf=11, score=0.851, total=   0.0s\n",
      "[CV] max_depth=5, min_impurity_decrease=0, min_samples_leaf=11 .......\n",
      "[CV]  max_depth=5, min_impurity_decrease=0, min_samples_leaf=11, score=0.816, total=   0.0s\n",
      "[CV] max_depth=5, min_impurity_decrease=0, min_samples_leaf=11 .......\n",
      "[CV]  max_depth=5, min_impurity_decrease=0, min_samples_leaf=11, score=0.787, total=   0.0s\n",
      "[CV] max_depth=5, min_impurity_decrease=0, min_samples_leaf=12 .......\n",
      "[CV]  max_depth=5, min_impurity_decrease=0, min_samples_leaf=12, score=0.826, total=   0.0s\n",
      "[CV] max_depth=5, min_impurity_decrease=0, min_samples_leaf=12 .......\n",
      "[CV]  max_depth=5, min_impurity_decrease=0, min_samples_leaf=12, score=0.820, total=   0.0s\n",
      "[CV] max_depth=5, min_impurity_decrease=0, min_samples_leaf=12 .......\n",
      "[CV]  max_depth=5, min_impurity_decrease=0, min_samples_leaf=12, score=0.851, total=   0.0s\n",
      "[CV] max_depth=5, min_impurity_decrease=0, min_samples_leaf=12 .......\n",
      "[CV]  max_depth=5, min_impurity_decrease=0, min_samples_leaf=12, score=0.816, total=   0.0s\n",
      "[CV] max_depth=5, min_impurity_decrease=0, min_samples_leaf=12 .......\n",
      "[CV]  max_depth=5, min_impurity_decrease=0, min_samples_leaf=12, score=0.787, total=   0.0s\n",
      "[CV] max_depth=5, min_impurity_decrease=1, min_samples_leaf=9 ........\n",
      "[CV]  max_depth=5, min_impurity_decrease=1, min_samples_leaf=9, score=0.827, total=   0.0s\n",
      "[CV] max_depth=5, min_impurity_decrease=1, min_samples_leaf=9 ........\n",
      "[CV]  max_depth=5, min_impurity_decrease=1, min_samples_leaf=9, score=0.807, total=   0.0s\n",
      "[CV] max_depth=5, min_impurity_decrease=1, min_samples_leaf=9 ........\n",
      "[CV]  max_depth=5, min_impurity_decrease=1, min_samples_leaf=9, score=0.853, total=   0.0s\n",
      "[CV] max_depth=5, min_impurity_decrease=1, min_samples_leaf=9 ........\n",
      "[CV]  max_depth=5, min_impurity_decrease=1, min_samples_leaf=9, score=0.821, total=   0.0s\n",
      "[CV] max_depth=5, min_impurity_decrease=1, min_samples_leaf=9 ........\n",
      "[CV]  max_depth=5, min_impurity_decrease=1, min_samples_leaf=9, score=0.787, total=   0.0s\n",
      "[CV] max_depth=5, min_impurity_decrease=1, min_samples_leaf=10 .......\n",
      "[CV]  max_depth=5, min_impurity_decrease=1, min_samples_leaf=10, score=0.825, total=   0.0s\n",
      "[CV] max_depth=5, min_impurity_decrease=1, min_samples_leaf=10 .......\n",
      "[CV]  max_depth=5, min_impurity_decrease=1, min_samples_leaf=10, score=0.810, total=   0.0s\n",
      "[CV] max_depth=5, min_impurity_decrease=1, min_samples_leaf=10 .......\n",
      "[CV]  max_depth=5, min_impurity_decrease=1, min_samples_leaf=10, score=0.852, total=   0.0s\n",
      "[CV] max_depth=5, min_impurity_decrease=1, min_samples_leaf=10 .......\n",
      "[CV]  max_depth=5, min_impurity_decrease=1, min_samples_leaf=10, score=0.816, total=   0.0s\n",
      "[CV] max_depth=5, min_impurity_decrease=1, min_samples_leaf=10 .......\n",
      "[CV]  max_depth=5, min_impurity_decrease=1, min_samples_leaf=10, score=0.787, total=   0.0s\n",
      "[CV] max_depth=5, min_impurity_decrease=1, min_samples_leaf=11 .......\n",
      "[CV]  max_depth=5, min_impurity_decrease=1, min_samples_leaf=11, score=0.826, total=   0.0s\n",
      "[CV] max_depth=5, min_impurity_decrease=1, min_samples_leaf=11 .......\n"
     ]
    },
    {
     "name": "stdout",
     "output_type": "stream",
     "text": [
      "[CV]  max_depth=5, min_impurity_decrease=1, min_samples_leaf=11, score=0.819, total=   0.0s\n",
      "[CV] max_depth=5, min_impurity_decrease=1, min_samples_leaf=11 .......\n",
      "[CV]  max_depth=5, min_impurity_decrease=1, min_samples_leaf=11, score=0.851, total=   0.0s\n",
      "[CV] max_depth=5, min_impurity_decrease=1, min_samples_leaf=11 .......\n",
      "[CV]  max_depth=5, min_impurity_decrease=1, min_samples_leaf=11, score=0.816, total=   0.0s\n",
      "[CV] max_depth=5, min_impurity_decrease=1, min_samples_leaf=11 .......\n",
      "[CV]  max_depth=5, min_impurity_decrease=1, min_samples_leaf=11, score=0.787, total=   0.0s\n",
      "[CV] max_depth=5, min_impurity_decrease=1, min_samples_leaf=12 .......\n",
      "[CV]  max_depth=5, min_impurity_decrease=1, min_samples_leaf=12, score=0.826, total=   0.0s\n",
      "[CV] max_depth=5, min_impurity_decrease=1, min_samples_leaf=12 .......\n",
      "[CV]  max_depth=5, min_impurity_decrease=1, min_samples_leaf=12, score=0.820, total=   0.0s\n",
      "[CV] max_depth=5, min_impurity_decrease=1, min_samples_leaf=12 .......\n",
      "[CV]  max_depth=5, min_impurity_decrease=1, min_samples_leaf=12, score=0.851, total=   0.0s\n",
      "[CV] max_depth=5, min_impurity_decrease=1, min_samples_leaf=12 .......\n",
      "[CV]  max_depth=5, min_impurity_decrease=1, min_samples_leaf=12, score=0.816, total=   0.0s\n",
      "[CV] max_depth=5, min_impurity_decrease=1, min_samples_leaf=12 .......\n",
      "[CV]  max_depth=5, min_impurity_decrease=1, min_samples_leaf=12, score=0.787, total=   0.0s\n",
      "[CV] max_depth=5, min_impurity_decrease=2, min_samples_leaf=9 ........\n",
      "[CV]  max_depth=5, min_impurity_decrease=2, min_samples_leaf=9, score=0.827, total=   0.0s\n",
      "[CV] max_depth=5, min_impurity_decrease=2, min_samples_leaf=9 ........\n",
      "[CV]  max_depth=5, min_impurity_decrease=2, min_samples_leaf=9, score=0.807, total=   0.0s\n",
      "[CV] max_depth=5, min_impurity_decrease=2, min_samples_leaf=9 ........\n",
      "[CV]  max_depth=5, min_impurity_decrease=2, min_samples_leaf=9, score=0.853, total=   0.0s\n",
      "[CV] max_depth=5, min_impurity_decrease=2, min_samples_leaf=9 ........\n",
      "[CV]  max_depth=5, min_impurity_decrease=2, min_samples_leaf=9, score=0.821, total=   0.0s\n",
      "[CV] max_depth=5, min_impurity_decrease=2, min_samples_leaf=9 ........\n",
      "[CV]  max_depth=5, min_impurity_decrease=2, min_samples_leaf=9, score=0.787, total=   0.0s\n",
      "[CV] max_depth=5, min_impurity_decrease=2, min_samples_leaf=10 .......\n",
      "[CV]  max_depth=5, min_impurity_decrease=2, min_samples_leaf=10, score=0.825, total=   0.0s\n",
      "[CV] max_depth=5, min_impurity_decrease=2, min_samples_leaf=10 .......\n",
      "[CV]  max_depth=5, min_impurity_decrease=2, min_samples_leaf=10, score=0.810, total=   0.0s\n",
      "[CV] max_depth=5, min_impurity_decrease=2, min_samples_leaf=10 .......\n",
      "[CV]  max_depth=5, min_impurity_decrease=2, min_samples_leaf=10, score=0.852, total=   0.0s\n",
      "[CV] max_depth=5, min_impurity_decrease=2, min_samples_leaf=10 .......\n",
      "[CV]  max_depth=5, min_impurity_decrease=2, min_samples_leaf=10, score=0.816, total=   0.0s\n",
      "[CV] max_depth=5, min_impurity_decrease=2, min_samples_leaf=10 .......\n",
      "[CV]  max_depth=5, min_impurity_decrease=2, min_samples_leaf=10, score=0.787, total=   0.0s\n",
      "[CV] max_depth=5, min_impurity_decrease=2, min_samples_leaf=11 .......\n",
      "[CV]  max_depth=5, min_impurity_decrease=2, min_samples_leaf=11, score=0.826, total=   0.0s\n",
      "[CV] max_depth=5, min_impurity_decrease=2, min_samples_leaf=11 .......\n",
      "[CV]  max_depth=5, min_impurity_decrease=2, min_samples_leaf=11, score=0.819, total=   0.0s\n",
      "[CV] max_depth=5, min_impurity_decrease=2, min_samples_leaf=11 .......\n",
      "[CV]  max_depth=5, min_impurity_decrease=2, min_samples_leaf=11, score=0.851, total=   0.0s\n",
      "[CV] max_depth=5, min_impurity_decrease=2, min_samples_leaf=11 .......\n",
      "[CV]  max_depth=5, min_impurity_decrease=2, min_samples_leaf=11, score=0.816, total=   0.0s\n",
      "[CV] max_depth=5, min_impurity_decrease=2, min_samples_leaf=11 .......\n",
      "[CV]  max_depth=5, min_impurity_decrease=2, min_samples_leaf=11, score=0.787, total=   0.0s\n",
      "[CV] max_depth=5, min_impurity_decrease=2, min_samples_leaf=12 .......\n",
      "[CV]  max_depth=5, min_impurity_decrease=2, min_samples_leaf=12, score=0.826, total=   0.0s\n",
      "[CV] max_depth=5, min_impurity_decrease=2, min_samples_leaf=12 .......\n",
      "[CV]  max_depth=5, min_impurity_decrease=2, min_samples_leaf=12, score=0.820, total=   0.0s\n",
      "[CV] max_depth=5, min_impurity_decrease=2, min_samples_leaf=12 .......\n",
      "[CV]  max_depth=5, min_impurity_decrease=2, min_samples_leaf=12, score=0.851, total=   0.0s\n",
      "[CV] max_depth=5, min_impurity_decrease=2, min_samples_leaf=12 .......\n",
      "[CV]  max_depth=5, min_impurity_decrease=2, min_samples_leaf=12, score=0.816, total=   0.0s\n",
      "[CV] max_depth=5, min_impurity_decrease=2, min_samples_leaf=12 .......\n",
      "[CV]  max_depth=5, min_impurity_decrease=2, min_samples_leaf=12, score=0.787, total=   0.0s\n",
      "[CV] max_depth=6, min_impurity_decrease=0, min_samples_leaf=9 ........\n",
      "[CV]  max_depth=6, min_impurity_decrease=0, min_samples_leaf=9, score=0.813, total=   0.0s\n",
      "[CV] max_depth=6, min_impurity_decrease=0, min_samples_leaf=9 ........\n",
      "[CV]  max_depth=6, min_impurity_decrease=0, min_samples_leaf=9, score=0.795, total=   0.0s\n",
      "[CV] max_depth=6, min_impurity_decrease=0, min_samples_leaf=9 ........\n",
      "[CV]  max_depth=6, min_impurity_decrease=0, min_samples_leaf=9, score=0.854, total=   0.0s\n",
      "[CV] max_depth=6, min_impurity_decrease=0, min_samples_leaf=9 ........\n",
      "[CV]  max_depth=6, min_impurity_decrease=0, min_samples_leaf=9, score=0.814, total=   0.0s\n",
      "[CV] max_depth=6, min_impurity_decrease=0, min_samples_leaf=9 ........\n",
      "[CV]  max_depth=6, min_impurity_decrease=0, min_samples_leaf=9, score=0.788, total=   0.0s\n",
      "[CV] max_depth=6, min_impurity_decrease=0, min_samples_leaf=10 .......\n",
      "[CV]  max_depth=6, min_impurity_decrease=0, min_samples_leaf=10, score=0.818, total=   0.0s\n",
      "[CV] max_depth=6, min_impurity_decrease=0, min_samples_leaf=10 .......\n",
      "[CV]  max_depth=6, min_impurity_decrease=0, min_samples_leaf=10, score=0.801, total=   0.0s\n",
      "[CV] max_depth=6, min_impurity_decrease=0, min_samples_leaf=10 .......\n",
      "[CV]  max_depth=6, min_impurity_decrease=0, min_samples_leaf=10, score=0.852, total=   0.0s\n",
      "[CV] max_depth=6, min_impurity_decrease=0, min_samples_leaf=10 .......\n",
      "[CV]  max_depth=6, min_impurity_decrease=0, min_samples_leaf=10, score=0.808, total=   0.0s\n",
      "[CV] max_depth=6, min_impurity_decrease=0, min_samples_leaf=10 .......\n",
      "[CV]  max_depth=6, min_impurity_decrease=0, min_samples_leaf=10, score=0.788, total=   0.0s\n",
      "[CV] max_depth=6, min_impurity_decrease=0, min_samples_leaf=11 .......\n",
      "[CV]  max_depth=6, min_impurity_decrease=0, min_samples_leaf=11, score=0.820, total=   0.0s\n",
      "[CV] max_depth=6, min_impurity_decrease=0, min_samples_leaf=11 .......\n",
      "[CV]  max_depth=6, min_impurity_decrease=0, min_samples_leaf=11, score=0.809, total=   0.0s\n",
      "[CV] max_depth=6, min_impurity_decrease=0, min_samples_leaf=11 .......\n",
      "[CV]  max_depth=6, min_impurity_decrease=0, min_samples_leaf=11, score=0.849, total=   0.0s\n",
      "[CV] max_depth=6, min_impurity_decrease=0, min_samples_leaf=11 .......\n",
      "[CV]  max_depth=6, min_impurity_decrease=0, min_samples_leaf=11, score=0.807, total=   0.0s\n",
      "[CV] max_depth=6, min_impurity_decrease=0, min_samples_leaf=11 .......\n",
      "[CV]  max_depth=6, min_impurity_decrease=0, min_samples_leaf=11, score=0.788, total=   0.0s\n",
      "[CV] max_depth=6, min_impurity_decrease=0, min_samples_leaf=12 .......\n",
      "[CV]  max_depth=6, min_impurity_decrease=0, min_samples_leaf=12, score=0.821, total=   0.0s\n",
      "[CV] max_depth=6, min_impurity_decrease=0, min_samples_leaf=12 .......\n",
      "[CV]  max_depth=6, min_impurity_decrease=0, min_samples_leaf=12, score=0.814, total=   0.0s\n",
      "[CV] max_depth=6, min_impurity_decrease=0, min_samples_leaf=12 .......\n",
      "[CV]  max_depth=6, min_impurity_decrease=0, min_samples_leaf=12, score=0.849, total=   0.0s\n",
      "[CV] max_depth=6, min_impurity_decrease=0, min_samples_leaf=12 .......\n",
      "[CV]  max_depth=6, min_impurity_decrease=0, min_samples_leaf=12, score=0.808, total=   0.0s\n",
      "[CV] max_depth=6, min_impurity_decrease=0, min_samples_leaf=12 .......\n",
      "[CV]  max_depth=6, min_impurity_decrease=0, min_samples_leaf=12, score=0.788, total=   0.0s\n",
      "[CV] max_depth=6, min_impurity_decrease=1, min_samples_leaf=9 ........\n",
      "[CV]  max_depth=6, min_impurity_decrease=1, min_samples_leaf=9, score=0.813, total=   0.0s\n",
      "[CV] max_depth=6, min_impurity_decrease=1, min_samples_leaf=9 ........\n",
      "[CV]  max_depth=6, min_impurity_decrease=1, min_samples_leaf=9, score=0.795, total=   0.0s\n",
      "[CV] max_depth=6, min_impurity_decrease=1, min_samples_leaf=9 ........\n",
      "[CV]  max_depth=6, min_impurity_decrease=1, min_samples_leaf=9, score=0.854, total=   0.0s\n",
      "[CV] max_depth=6, min_impurity_decrease=1, min_samples_leaf=9 ........\n",
      "[CV]  max_depth=6, min_impurity_decrease=1, min_samples_leaf=9, score=0.814, total=   0.0s\n",
      "[CV] max_depth=6, min_impurity_decrease=1, min_samples_leaf=9 ........\n",
      "[CV]  max_depth=6, min_impurity_decrease=1, min_samples_leaf=9, score=0.788, total=   0.0s\n",
      "[CV] max_depth=6, min_impurity_decrease=1, min_samples_leaf=10 .......\n",
      "[CV]  max_depth=6, min_impurity_decrease=1, min_samples_leaf=10, score=0.818, total=   0.0s\n",
      "[CV] max_depth=6, min_impurity_decrease=1, min_samples_leaf=10 .......\n",
      "[CV]  max_depth=6, min_impurity_decrease=1, min_samples_leaf=10, score=0.801, total=   0.0s\n",
      "[CV] max_depth=6, min_impurity_decrease=1, min_samples_leaf=10 .......\n",
      "[CV]  max_depth=6, min_impurity_decrease=1, min_samples_leaf=10, score=0.852, total=   0.0s\n",
      "[CV] max_depth=6, min_impurity_decrease=1, min_samples_leaf=10 .......\n",
      "[CV]  max_depth=6, min_impurity_decrease=1, min_samples_leaf=10, score=0.808, total=   0.0s\n",
      "[CV] max_depth=6, min_impurity_decrease=1, min_samples_leaf=10 .......\n",
      "[CV]  max_depth=6, min_impurity_decrease=1, min_samples_leaf=10, score=0.788, total=   0.0s\n",
      "[CV] max_depth=6, min_impurity_decrease=1, min_samples_leaf=11 .......\n",
      "[CV]  max_depth=6, min_impurity_decrease=1, min_samples_leaf=11, score=0.820, total=   0.0s\n",
      "[CV] max_depth=6, min_impurity_decrease=1, min_samples_leaf=11 .......\n",
      "[CV]  max_depth=6, min_impurity_decrease=1, min_samples_leaf=11, score=0.809, total=   0.0s\n",
      "[CV] max_depth=6, min_impurity_decrease=1, min_samples_leaf=11 .......\n",
      "[CV]  max_depth=6, min_impurity_decrease=1, min_samples_leaf=11, score=0.849, total=   0.0s\n",
      "[CV] max_depth=6, min_impurity_decrease=1, min_samples_leaf=11 .......\n",
      "[CV]  max_depth=6, min_impurity_decrease=1, min_samples_leaf=11, score=0.807, total=   0.0s\n",
      "[CV] max_depth=6, min_impurity_decrease=1, min_samples_leaf=11 .......\n",
      "[CV]  max_depth=6, min_impurity_decrease=1, min_samples_leaf=11, score=0.788, total=   0.0s\n",
      "[CV] max_depth=6, min_impurity_decrease=1, min_samples_leaf=12 .......\n",
      "[CV]  max_depth=6, min_impurity_decrease=1, min_samples_leaf=12, score=0.821, total=   0.0s\n",
      "[CV] max_depth=6, min_impurity_decrease=1, min_samples_leaf=12 .......\n",
      "[CV]  max_depth=6, min_impurity_decrease=1, min_samples_leaf=12, score=0.814, total=   0.0s\n",
      "[CV] max_depth=6, min_impurity_decrease=1, min_samples_leaf=12 .......\n",
      "[CV]  max_depth=6, min_impurity_decrease=1, min_samples_leaf=12, score=0.849, total=   0.0s\n",
      "[CV] max_depth=6, min_impurity_decrease=1, min_samples_leaf=12 .......\n",
      "[CV]  max_depth=6, min_impurity_decrease=1, min_samples_leaf=12, score=0.808, total=   0.0s\n",
      "[CV] max_depth=6, min_impurity_decrease=1, min_samples_leaf=12 .......\n",
      "[CV]  max_depth=6, min_impurity_decrease=1, min_samples_leaf=12, score=0.788, total=   0.0s\n",
      "[CV] max_depth=6, min_impurity_decrease=2, min_samples_leaf=9 ........\n",
      "[CV]  max_depth=6, min_impurity_decrease=2, min_samples_leaf=9, score=0.813, total=   0.0s\n",
      "[CV] max_depth=6, min_impurity_decrease=2, min_samples_leaf=9 ........\n",
      "[CV]  max_depth=6, min_impurity_decrease=2, min_samples_leaf=9, score=0.795, total=   0.0s\n",
      "[CV] max_depth=6, min_impurity_decrease=2, min_samples_leaf=9 ........\n"
     ]
    },
    {
     "name": "stdout",
     "output_type": "stream",
     "text": [
      "[CV]  max_depth=6, min_impurity_decrease=2, min_samples_leaf=9, score=0.854, total=   0.0s\n",
      "[CV] max_depth=6, min_impurity_decrease=2, min_samples_leaf=9 ........\n",
      "[CV]  max_depth=6, min_impurity_decrease=2, min_samples_leaf=9, score=0.814, total=   0.0s\n",
      "[CV] max_depth=6, min_impurity_decrease=2, min_samples_leaf=9 ........\n",
      "[CV]  max_depth=6, min_impurity_decrease=2, min_samples_leaf=9, score=0.788, total=   0.0s\n",
      "[CV] max_depth=6, min_impurity_decrease=2, min_samples_leaf=10 .......\n",
      "[CV]  max_depth=6, min_impurity_decrease=2, min_samples_leaf=10, score=0.818, total=   0.0s\n",
      "[CV] max_depth=6, min_impurity_decrease=2, min_samples_leaf=10 .......\n",
      "[CV]  max_depth=6, min_impurity_decrease=2, min_samples_leaf=10, score=0.801, total=   0.0s\n",
      "[CV] max_depth=6, min_impurity_decrease=2, min_samples_leaf=10 .......\n",
      "[CV]  max_depth=6, min_impurity_decrease=2, min_samples_leaf=10, score=0.852, total=   0.0s\n",
      "[CV] max_depth=6, min_impurity_decrease=2, min_samples_leaf=10 .......\n",
      "[CV]  max_depth=6, min_impurity_decrease=2, min_samples_leaf=10, score=0.808, total=   0.0s\n",
      "[CV] max_depth=6, min_impurity_decrease=2, min_samples_leaf=10 .......\n",
      "[CV]  max_depth=6, min_impurity_decrease=2, min_samples_leaf=10, score=0.788, total=   0.0s\n",
      "[CV] max_depth=6, min_impurity_decrease=2, min_samples_leaf=11 .......\n",
      "[CV]  max_depth=6, min_impurity_decrease=2, min_samples_leaf=11, score=0.820, total=   0.0s\n",
      "[CV] max_depth=6, min_impurity_decrease=2, min_samples_leaf=11 .......\n",
      "[CV]  max_depth=6, min_impurity_decrease=2, min_samples_leaf=11, score=0.809, total=   0.0s\n",
      "[CV] max_depth=6, min_impurity_decrease=2, min_samples_leaf=11 .......\n",
      "[CV]  max_depth=6, min_impurity_decrease=2, min_samples_leaf=11, score=0.849, total=   0.0s\n",
      "[CV] max_depth=6, min_impurity_decrease=2, min_samples_leaf=11 .......\n",
      "[CV]  max_depth=6, min_impurity_decrease=2, min_samples_leaf=11, score=0.807, total=   0.0s\n",
      "[CV] max_depth=6, min_impurity_decrease=2, min_samples_leaf=11 .......\n",
      "[CV]  max_depth=6, min_impurity_decrease=2, min_samples_leaf=11, score=0.788, total=   0.0s\n",
      "[CV] max_depth=6, min_impurity_decrease=2, min_samples_leaf=12 .......\n",
      "[CV]  max_depth=6, min_impurity_decrease=2, min_samples_leaf=12, score=0.821, total=   0.0s\n",
      "[CV] max_depth=6, min_impurity_decrease=2, min_samples_leaf=12 .......\n",
      "[CV]  max_depth=6, min_impurity_decrease=2, min_samples_leaf=12, score=0.814, total=   0.0s\n",
      "[CV] max_depth=6, min_impurity_decrease=2, min_samples_leaf=12 .......\n",
      "[CV]  max_depth=6, min_impurity_decrease=2, min_samples_leaf=12, score=0.849, total=   0.0s\n",
      "[CV] max_depth=6, min_impurity_decrease=2, min_samples_leaf=12 .......\n",
      "[CV]  max_depth=6, min_impurity_decrease=2, min_samples_leaf=12, score=0.808, total=   0.0s\n",
      "[CV] max_depth=6, min_impurity_decrease=2, min_samples_leaf=12 .......\n",
      "[CV]  max_depth=6, min_impurity_decrease=2, min_samples_leaf=12, score=0.788, total=   0.0s\n"
     ]
    },
    {
     "name": "stderr",
     "output_type": "stream",
     "text": [
      "[Parallel(n_jobs=1)]: Done 180 out of 180 | elapsed:    0.4s finished\n"
     ]
    }
   ],
   "source": [
    "parameter_grid_dt = {\n",
    "    'min_samples_leaf' : np.arange(9,13,1, dtype = int),\n",
    "    'max_depth' : np.arange(4,7,1, dtype = int),\n",
    "    'min_impurity_decrease' : [0,1,2]\n",
    "}\n",
    "\n",
    "gscv = GridSearchCV(DecisionTreeRegressor(random_state=0), \n",
    "                    param_grid = parameter_grid_dt, \n",
    "                    cv = 5, \n",
    "                    verbose = 3)\n",
    "\n",
    "model = gscv.fit(X_train, y_train.values.ravel())"
   ]
  },
  {
   "cell_type": "code",
   "execution_count": 58,
   "metadata": {},
   "outputs": [
    {
     "name": "stdout",
     "output_type": "stream",
     "text": [
      "Best Estimators : \n",
      "DecisionTreeRegressor(max_depth=5, min_impurity_decrease=0, min_samples_leaf=12,\n",
      "                      random_state=0)\n"
     ]
    }
   ],
   "source": [
    "print(f'Best Estimators : \\n{model.best_estimator_}')"
   ]
  },
  {
   "cell_type": "code",
   "execution_count": 59,
   "metadata": {},
   "outputs": [
    {
     "name": "stdout",
     "output_type": "stream",
     "text": [
      "Best Parameters : {'max_depth': 5, 'min_impurity_decrease': 0, 'min_samples_leaf': 12}\n"
     ]
    }
   ],
   "source": [
    "print(f'Best Parameters : {model.best_params_}')"
   ]
  },
  {
   "cell_type": "code",
   "execution_count": 60,
   "metadata": {},
   "outputs": [
    {
     "name": "stdout",
     "output_type": "stream",
     "text": [
      "Train Score : 85.64% and Test Score : 88.04% using Decision Tree with Best Parameters.\n"
     ]
    }
   ],
   "source": [
    "print(f'Train Score : {model.score(X_train, y_train)*100:.2f}% and Test Score : {model.score(X_test, y_test)*100:.2f}% using Decision Tree with Best Parameters.')"
   ]
  },
  {
   "cell_type": "markdown",
   "metadata": {},
   "source": [
    "Overfitting of Decision Tree is Reduced by using Hyperparameter Optimization.\n",
    "\n",
    "Trying to Improve Random Forest Regression using Grid Search Cross Validation and Hyperparameter Tuning."
   ]
  },
  {
   "cell_type": "code",
   "execution_count": 61,
   "metadata": {},
   "outputs": [
    {
     "name": "stdout",
     "output_type": "stream",
     "text": [
      "Fitting 5 folds for each of 84 candidates, totalling 420 fits\n",
      "[CV] bootstrap=True, max_depth=1, min_samples_leaf=1, min_samples_split=2, n_estimators=20 \n",
      "[CV]  bootstrap=True, max_depth=1, min_samples_leaf=1, min_samples_split=2, n_estimators=20, score=0.616, total=   0.0s\n",
      "[CV] bootstrap=True, max_depth=1, min_samples_leaf=1, min_samples_split=2, n_estimators=20 \n",
      "[CV]  bootstrap=True, max_depth=1, min_samples_leaf=1, min_samples_split=2, n_estimators=20, score=0.454, total=   0.0s\n",
      "[CV] bootstrap=True, max_depth=1, min_samples_leaf=1, min_samples_split=2, n_estimators=20 \n"
     ]
    },
    {
     "name": "stderr",
     "output_type": "stream",
     "text": [
      "[Parallel(n_jobs=1)]: Using backend SequentialBackend with 1 concurrent workers.\n",
      "[Parallel(n_jobs=1)]: Done   1 out of   1 | elapsed:    0.0s remaining:    0.0s\n",
      "[Parallel(n_jobs=1)]: Done   2 out of   2 | elapsed:    0.0s remaining:    0.0s\n"
     ]
    },
    {
     "name": "stdout",
     "output_type": "stream",
     "text": [
      "[CV]  bootstrap=True, max_depth=1, min_samples_leaf=1, min_samples_split=2, n_estimators=20, score=0.646, total=   0.0s\n",
      "[CV] bootstrap=True, max_depth=1, min_samples_leaf=1, min_samples_split=2, n_estimators=20 \n",
      "[CV]  bootstrap=True, max_depth=1, min_samples_leaf=1, min_samples_split=2, n_estimators=20, score=0.595, total=   0.0s\n",
      "[CV] bootstrap=True, max_depth=1, min_samples_leaf=1, min_samples_split=2, n_estimators=20 \n",
      "[CV]  bootstrap=True, max_depth=1, min_samples_leaf=1, min_samples_split=2, n_estimators=20, score=0.582, total=   0.0s\n",
      "[CV] bootstrap=True, max_depth=1, min_samples_leaf=3, min_samples_split=2, n_estimators=20 \n",
      "[CV]  bootstrap=True, max_depth=1, min_samples_leaf=3, min_samples_split=2, n_estimators=20, score=0.616, total=   0.0s\n",
      "[CV] bootstrap=True, max_depth=1, min_samples_leaf=3, min_samples_split=2, n_estimators=20 \n",
      "[CV]  bootstrap=True, max_depth=1, min_samples_leaf=3, min_samples_split=2, n_estimators=20, score=0.454, total=   0.0s\n",
      "[CV] bootstrap=True, max_depth=1, min_samples_leaf=3, min_samples_split=2, n_estimators=20 \n",
      "[CV]  bootstrap=True, max_depth=1, min_samples_leaf=3, min_samples_split=2, n_estimators=20, score=0.646, total=   0.0s\n",
      "[CV] bootstrap=True, max_depth=1, min_samples_leaf=3, min_samples_split=2, n_estimators=20 \n",
      "[CV]  bootstrap=True, max_depth=1, min_samples_leaf=3, min_samples_split=2, n_estimators=20, score=0.595, total=   0.0s\n",
      "[CV] bootstrap=True, max_depth=1, min_samples_leaf=3, min_samples_split=2, n_estimators=20 \n",
      "[CV]  bootstrap=True, max_depth=1, min_samples_leaf=3, min_samples_split=2, n_estimators=20, score=0.582, total=   0.0s\n",
      "[CV] bootstrap=True, max_depth=1, min_samples_leaf=5, min_samples_split=2, n_estimators=20 \n",
      "[CV]  bootstrap=True, max_depth=1, min_samples_leaf=5, min_samples_split=2, n_estimators=20, score=0.616, total=   0.0s\n",
      "[CV] bootstrap=True, max_depth=1, min_samples_leaf=5, min_samples_split=2, n_estimators=20 \n",
      "[CV]  bootstrap=True, max_depth=1, min_samples_leaf=5, min_samples_split=2, n_estimators=20, score=0.454, total=   0.0s\n",
      "[CV] bootstrap=True, max_depth=1, min_samples_leaf=5, min_samples_split=2, n_estimators=20 \n",
      "[CV]  bootstrap=True, max_depth=1, min_samples_leaf=5, min_samples_split=2, n_estimators=20, score=0.646, total=   0.0s\n",
      "[CV] bootstrap=True, max_depth=1, min_samples_leaf=5, min_samples_split=2, n_estimators=20 \n",
      "[CV]  bootstrap=True, max_depth=1, min_samples_leaf=5, min_samples_split=2, n_estimators=20, score=0.595, total=   0.0s\n",
      "[CV] bootstrap=True, max_depth=1, min_samples_leaf=5, min_samples_split=2, n_estimators=20 \n",
      "[CV]  bootstrap=True, max_depth=1, min_samples_leaf=5, min_samples_split=2, n_estimators=20, score=0.582, total=   0.0s\n",
      "[CV] bootstrap=True, max_depth=1, min_samples_leaf=7, min_samples_split=2, n_estimators=20 \n",
      "[CV]  bootstrap=True, max_depth=1, min_samples_leaf=7, min_samples_split=2, n_estimators=20, score=0.616, total=   0.0s\n",
      "[CV] bootstrap=True, max_depth=1, min_samples_leaf=7, min_samples_split=2, n_estimators=20 \n",
      "[CV]  bootstrap=True, max_depth=1, min_samples_leaf=7, min_samples_split=2, n_estimators=20, score=0.454, total=   0.0s\n",
      "[CV] bootstrap=True, max_depth=1, min_samples_leaf=7, min_samples_split=2, n_estimators=20 \n",
      "[CV]  bootstrap=True, max_depth=1, min_samples_leaf=7, min_samples_split=2, n_estimators=20, score=0.646, total=   0.0s\n",
      "[CV] bootstrap=True, max_depth=1, min_samples_leaf=7, min_samples_split=2, n_estimators=20 \n",
      "[CV]  bootstrap=True, max_depth=1, min_samples_leaf=7, min_samples_split=2, n_estimators=20, score=0.595, total=   0.0s\n",
      "[CV] bootstrap=True, max_depth=1, min_samples_leaf=7, min_samples_split=2, n_estimators=20 \n",
      "[CV]  bootstrap=True, max_depth=1, min_samples_leaf=7, min_samples_split=2, n_estimators=20, score=0.582, total=   0.0s\n",
      "[CV] bootstrap=True, max_depth=1, min_samples_leaf=9, min_samples_split=2, n_estimators=20 \n",
      "[CV]  bootstrap=True, max_depth=1, min_samples_leaf=9, min_samples_split=2, n_estimators=20, score=0.616, total=   0.0s\n",
      "[CV] bootstrap=True, max_depth=1, min_samples_leaf=9, min_samples_split=2, n_estimators=20 \n",
      "[CV]  bootstrap=True, max_depth=1, min_samples_leaf=9, min_samples_split=2, n_estimators=20, score=0.454, total=   0.0s\n",
      "[CV] bootstrap=True, max_depth=1, min_samples_leaf=9, min_samples_split=2, n_estimators=20 \n",
      "[CV]  bootstrap=True, max_depth=1, min_samples_leaf=9, min_samples_split=2, n_estimators=20, score=0.646, total=   0.0s\n",
      "[CV] bootstrap=True, max_depth=1, min_samples_leaf=9, min_samples_split=2, n_estimators=20 \n",
      "[CV]  bootstrap=True, max_depth=1, min_samples_leaf=9, min_samples_split=2, n_estimators=20, score=0.595, total=   0.0s\n",
      "[CV] bootstrap=True, max_depth=1, min_samples_leaf=9, min_samples_split=2, n_estimators=20 \n",
      "[CV]  bootstrap=True, max_depth=1, min_samples_leaf=9, min_samples_split=2, n_estimators=20, score=0.582, total=   0.0s\n",
      "[CV] bootstrap=True, max_depth=1, min_samples_leaf=11, min_samples_split=2, n_estimators=20 \n",
      "[CV]  bootstrap=True, max_depth=1, min_samples_leaf=11, min_samples_split=2, n_estimators=20, score=0.616, total=   0.0s\n",
      "[CV] bootstrap=True, max_depth=1, min_samples_leaf=11, min_samples_split=2, n_estimators=20 \n",
      "[CV]  bootstrap=True, max_depth=1, min_samples_leaf=11, min_samples_split=2, n_estimators=20, score=0.454, total=   0.0s\n",
      "[CV] bootstrap=True, max_depth=1, min_samples_leaf=11, min_samples_split=2, n_estimators=20 \n",
      "[CV]  bootstrap=True, max_depth=1, min_samples_leaf=11, min_samples_split=2, n_estimators=20, score=0.646, total=   0.0s\n",
      "[CV] bootstrap=True, max_depth=1, min_samples_leaf=11, min_samples_split=2, n_estimators=20 \n",
      "[CV]  bootstrap=True, max_depth=1, min_samples_leaf=11, min_samples_split=2, n_estimators=20, score=0.595, total=   0.0s\n",
      "[CV] bootstrap=True, max_depth=1, min_samples_leaf=11, min_samples_split=2, n_estimators=20 \n",
      "[CV]  bootstrap=True, max_depth=1, min_samples_leaf=11, min_samples_split=2, n_estimators=20, score=0.582, total=   0.0s\n",
      "[CV] bootstrap=True, max_depth=1, min_samples_leaf=13, min_samples_split=2, n_estimators=20 \n",
      "[CV]  bootstrap=True, max_depth=1, min_samples_leaf=13, min_samples_split=2, n_estimators=20, score=0.616, total=   0.0s\n",
      "[CV] bootstrap=True, max_depth=1, min_samples_leaf=13, min_samples_split=2, n_estimators=20 \n",
      "[CV]  bootstrap=True, max_depth=1, min_samples_leaf=13, min_samples_split=2, n_estimators=20, score=0.454, total=   0.0s\n",
      "[CV] bootstrap=True, max_depth=1, min_samples_leaf=13, min_samples_split=2, n_estimators=20 \n",
      "[CV]  bootstrap=True, max_depth=1, min_samples_leaf=13, min_samples_split=2, n_estimators=20, score=0.646, total=   0.0s\n",
      "[CV] bootstrap=True, max_depth=1, min_samples_leaf=13, min_samples_split=2, n_estimators=20 \n",
      "[CV]  bootstrap=True, max_depth=1, min_samples_leaf=13, min_samples_split=2, n_estimators=20, score=0.595, total=   0.0s\n",
      "[CV] bootstrap=True, max_depth=1, min_samples_leaf=13, min_samples_split=2, n_estimators=20 \n",
      "[CV]  bootstrap=True, max_depth=1, min_samples_leaf=13, min_samples_split=2, n_estimators=20, score=0.582, total=   0.0s\n",
      "[CV] bootstrap=True, max_depth=3, min_samples_leaf=1, min_samples_split=2, n_estimators=20 \n",
      "[CV]  bootstrap=True, max_depth=3, min_samples_leaf=1, min_samples_split=2, n_estimators=20, score=0.835, total=   0.0s\n",
      "[CV] bootstrap=True, max_depth=3, min_samples_leaf=1, min_samples_split=2, n_estimators=20 \n",
      "[CV]  bootstrap=True, max_depth=3, min_samples_leaf=1, min_samples_split=2, n_estimators=20, score=0.814, total=   0.0s\n",
      "[CV] bootstrap=True, max_depth=3, min_samples_leaf=1, min_samples_split=2, n_estimators=20 \n",
      "[CV]  bootstrap=True, max_depth=3, min_samples_leaf=1, min_samples_split=2, n_estimators=20, score=0.858, total=   0.0s\n",
      "[CV] bootstrap=True, max_depth=3, min_samples_leaf=1, min_samples_split=2, n_estimators=20 \n",
      "[CV]  bootstrap=True, max_depth=3, min_samples_leaf=1, min_samples_split=2, n_estimators=20, score=0.827, total=   0.0s\n",
      "[CV] bootstrap=True, max_depth=3, min_samples_leaf=1, min_samples_split=2, n_estimators=20 \n",
      "[CV]  bootstrap=True, max_depth=3, min_samples_leaf=1, min_samples_split=2, n_estimators=20, score=0.793, total=   0.0s\n",
      "[CV] bootstrap=True, max_depth=3, min_samples_leaf=3, min_samples_split=2, n_estimators=20 \n",
      "[CV]  bootstrap=True, max_depth=3, min_samples_leaf=3, min_samples_split=2, n_estimators=20, score=0.835, total=   0.0s\n",
      "[CV] bootstrap=True, max_depth=3, min_samples_leaf=3, min_samples_split=2, n_estimators=20 \n",
      "[CV]  bootstrap=True, max_depth=3, min_samples_leaf=3, min_samples_split=2, n_estimators=20, score=0.814, total=   0.0s\n",
      "[CV] bootstrap=True, max_depth=3, min_samples_leaf=3, min_samples_split=2, n_estimators=20 \n",
      "[CV]  bootstrap=True, max_depth=3, min_samples_leaf=3, min_samples_split=2, n_estimators=20, score=0.858, total=   0.0s\n",
      "[CV] bootstrap=True, max_depth=3, min_samples_leaf=3, min_samples_split=2, n_estimators=20 \n"
     ]
    },
    {
     "name": "stdout",
     "output_type": "stream",
     "text": [
      "[CV]  bootstrap=True, max_depth=3, min_samples_leaf=3, min_samples_split=2, n_estimators=20, score=0.827, total=   0.0s\n",
      "[CV] bootstrap=True, max_depth=3, min_samples_leaf=3, min_samples_split=2, n_estimators=20 \n",
      "[CV]  bootstrap=True, max_depth=3, min_samples_leaf=3, min_samples_split=2, n_estimators=20, score=0.793, total=   0.0s\n",
      "[CV] bootstrap=True, max_depth=3, min_samples_leaf=5, min_samples_split=2, n_estimators=20 \n",
      "[CV]  bootstrap=True, max_depth=3, min_samples_leaf=5, min_samples_split=2, n_estimators=20, score=0.835, total=   0.0s\n",
      "[CV] bootstrap=True, max_depth=3, min_samples_leaf=5, min_samples_split=2, n_estimators=20 \n",
      "[CV]  bootstrap=True, max_depth=3, min_samples_leaf=5, min_samples_split=2, n_estimators=20, score=0.814, total=   0.0s\n",
      "[CV] bootstrap=True, max_depth=3, min_samples_leaf=5, min_samples_split=2, n_estimators=20 \n",
      "[CV]  bootstrap=True, max_depth=3, min_samples_leaf=5, min_samples_split=2, n_estimators=20, score=0.858, total=   0.0s\n",
      "[CV] bootstrap=True, max_depth=3, min_samples_leaf=5, min_samples_split=2, n_estimators=20 \n",
      "[CV]  bootstrap=True, max_depth=3, min_samples_leaf=5, min_samples_split=2, n_estimators=20, score=0.827, total=   0.0s\n",
      "[CV] bootstrap=True, max_depth=3, min_samples_leaf=5, min_samples_split=2, n_estimators=20 \n",
      "[CV]  bootstrap=True, max_depth=3, min_samples_leaf=5, min_samples_split=2, n_estimators=20, score=0.793, total=   0.1s\n",
      "[CV] bootstrap=True, max_depth=3, min_samples_leaf=7, min_samples_split=2, n_estimators=20 \n",
      "[CV]  bootstrap=True, max_depth=3, min_samples_leaf=7, min_samples_split=2, n_estimators=20, score=0.835, total=   0.1s\n",
      "[CV] bootstrap=True, max_depth=3, min_samples_leaf=7, min_samples_split=2, n_estimators=20 \n",
      "[CV]  bootstrap=True, max_depth=3, min_samples_leaf=7, min_samples_split=2, n_estimators=20, score=0.814, total=   0.0s\n",
      "[CV] bootstrap=True, max_depth=3, min_samples_leaf=7, min_samples_split=2, n_estimators=20 \n",
      "[CV]  bootstrap=True, max_depth=3, min_samples_leaf=7, min_samples_split=2, n_estimators=20, score=0.858, total=   0.0s\n",
      "[CV] bootstrap=True, max_depth=3, min_samples_leaf=7, min_samples_split=2, n_estimators=20 \n",
      "[CV]  bootstrap=True, max_depth=3, min_samples_leaf=7, min_samples_split=2, n_estimators=20, score=0.827, total=   0.0s\n",
      "[CV] bootstrap=True, max_depth=3, min_samples_leaf=7, min_samples_split=2, n_estimators=20 \n",
      "[CV]  bootstrap=True, max_depth=3, min_samples_leaf=7, min_samples_split=2, n_estimators=20, score=0.793, total=   0.0s\n",
      "[CV] bootstrap=True, max_depth=3, min_samples_leaf=9, min_samples_split=2, n_estimators=20 \n",
      "[CV]  bootstrap=True, max_depth=3, min_samples_leaf=9, min_samples_split=2, n_estimators=20, score=0.835, total=   0.0s\n",
      "[CV] bootstrap=True, max_depth=3, min_samples_leaf=9, min_samples_split=2, n_estimators=20 \n",
      "[CV]  bootstrap=True, max_depth=3, min_samples_leaf=9, min_samples_split=2, n_estimators=20, score=0.813, total=   0.0s\n",
      "[CV] bootstrap=True, max_depth=3, min_samples_leaf=9, min_samples_split=2, n_estimators=20 \n",
      "[CV]  bootstrap=True, max_depth=3, min_samples_leaf=9, min_samples_split=2, n_estimators=20, score=0.858, total=   0.0s\n",
      "[CV] bootstrap=True, max_depth=3, min_samples_leaf=9, min_samples_split=2, n_estimators=20 \n",
      "[CV]  bootstrap=True, max_depth=3, min_samples_leaf=9, min_samples_split=2, n_estimators=20, score=0.827, total=   0.0s\n",
      "[CV] bootstrap=True, max_depth=3, min_samples_leaf=9, min_samples_split=2, n_estimators=20 \n",
      "[CV]  bootstrap=True, max_depth=3, min_samples_leaf=9, min_samples_split=2, n_estimators=20, score=0.793, total=   0.0s\n",
      "[CV] bootstrap=True, max_depth=3, min_samples_leaf=11, min_samples_split=2, n_estimators=20 \n",
      "[CV]  bootstrap=True, max_depth=3, min_samples_leaf=11, min_samples_split=2, n_estimators=20, score=0.836, total=   0.0s\n",
      "[CV] bootstrap=True, max_depth=3, min_samples_leaf=11, min_samples_split=2, n_estimators=20 \n",
      "[CV]  bootstrap=True, max_depth=3, min_samples_leaf=11, min_samples_split=2, n_estimators=20, score=0.812, total=   0.0s\n",
      "[CV] bootstrap=True, max_depth=3, min_samples_leaf=11, min_samples_split=2, n_estimators=20 \n",
      "[CV]  bootstrap=True, max_depth=3, min_samples_leaf=11, min_samples_split=2, n_estimators=20, score=0.858, total=   0.0s\n",
      "[CV] bootstrap=True, max_depth=3, min_samples_leaf=11, min_samples_split=2, n_estimators=20 \n",
      "[CV]  bootstrap=True, max_depth=3, min_samples_leaf=11, min_samples_split=2, n_estimators=20, score=0.827, total=   0.0s\n",
      "[CV] bootstrap=True, max_depth=3, min_samples_leaf=11, min_samples_split=2, n_estimators=20 \n",
      "[CV]  bootstrap=True, max_depth=3, min_samples_leaf=11, min_samples_split=2, n_estimators=20, score=0.793, total=   0.0s\n",
      "[CV] bootstrap=True, max_depth=3, min_samples_leaf=13, min_samples_split=2, n_estimators=20 \n",
      "[CV]  bootstrap=True, max_depth=3, min_samples_leaf=13, min_samples_split=2, n_estimators=20, score=0.836, total=   0.0s\n",
      "[CV] bootstrap=True, max_depth=3, min_samples_leaf=13, min_samples_split=2, n_estimators=20 \n",
      "[CV]  bootstrap=True, max_depth=3, min_samples_leaf=13, min_samples_split=2, n_estimators=20, score=0.811, total=   0.0s\n",
      "[CV] bootstrap=True, max_depth=3, min_samples_leaf=13, min_samples_split=2, n_estimators=20 \n",
      "[CV]  bootstrap=True, max_depth=3, min_samples_leaf=13, min_samples_split=2, n_estimators=20, score=0.856, total=   0.0s\n",
      "[CV] bootstrap=True, max_depth=3, min_samples_leaf=13, min_samples_split=2, n_estimators=20 \n",
      "[CV]  bootstrap=True, max_depth=3, min_samples_leaf=13, min_samples_split=2, n_estimators=20, score=0.829, total=   0.0s\n",
      "[CV] bootstrap=True, max_depth=3, min_samples_leaf=13, min_samples_split=2, n_estimators=20 \n",
      "[CV]  bootstrap=True, max_depth=3, min_samples_leaf=13, min_samples_split=2, n_estimators=20, score=0.794, total=   0.0s\n",
      "[CV] bootstrap=True, max_depth=5, min_samples_leaf=1, min_samples_split=2, n_estimators=20 \n",
      "[CV]  bootstrap=True, max_depth=5, min_samples_leaf=1, min_samples_split=2, n_estimators=20, score=0.841, total=   0.0s\n",
      "[CV] bootstrap=True, max_depth=5, min_samples_leaf=1, min_samples_split=2, n_estimators=20 \n",
      "[CV]  bootstrap=True, max_depth=5, min_samples_leaf=1, min_samples_split=2, n_estimators=20, score=0.798, total=   0.0s\n",
      "[CV] bootstrap=True, max_depth=5, min_samples_leaf=1, min_samples_split=2, n_estimators=20 \n",
      "[CV]  bootstrap=True, max_depth=5, min_samples_leaf=1, min_samples_split=2, n_estimators=20, score=0.853, total=   0.0s\n",
      "[CV] bootstrap=True, max_depth=5, min_samples_leaf=1, min_samples_split=2, n_estimators=20 \n",
      "[CV]  bootstrap=True, max_depth=5, min_samples_leaf=1, min_samples_split=2, n_estimators=20, score=0.821, total=   0.0s\n",
      "[CV] bootstrap=True, max_depth=5, min_samples_leaf=1, min_samples_split=2, n_estimators=20 \n",
      "[CV]  bootstrap=True, max_depth=5, min_samples_leaf=1, min_samples_split=2, n_estimators=20, score=0.790, total=   0.0s\n",
      "[CV] bootstrap=True, max_depth=5, min_samples_leaf=3, min_samples_split=2, n_estimators=20 \n",
      "[CV]  bootstrap=True, max_depth=5, min_samples_leaf=3, min_samples_split=2, n_estimators=20, score=0.838, total=   0.0s\n",
      "[CV] bootstrap=True, max_depth=5, min_samples_leaf=3, min_samples_split=2, n_estimators=20 \n",
      "[CV]  bootstrap=True, max_depth=5, min_samples_leaf=3, min_samples_split=2, n_estimators=20, score=0.814, total=   0.0s\n",
      "[CV] bootstrap=True, max_depth=5, min_samples_leaf=3, min_samples_split=2, n_estimators=20 \n",
      "[CV]  bootstrap=True, max_depth=5, min_samples_leaf=3, min_samples_split=2, n_estimators=20, score=0.853, total=   0.0s\n",
      "[CV] bootstrap=True, max_depth=5, min_samples_leaf=3, min_samples_split=2, n_estimators=20 \n",
      "[CV]  bootstrap=True, max_depth=5, min_samples_leaf=3, min_samples_split=2, n_estimators=20, score=0.834, total=   0.0s\n",
      "[CV] bootstrap=True, max_depth=5, min_samples_leaf=3, min_samples_split=2, n_estimators=20 \n",
      "[CV]  bootstrap=True, max_depth=5, min_samples_leaf=3, min_samples_split=2, n_estimators=20, score=0.791, total=   0.0s\n",
      "[CV] bootstrap=True, max_depth=5, min_samples_leaf=5, min_samples_split=2, n_estimators=20 \n",
      "[CV]  bootstrap=True, max_depth=5, min_samples_leaf=5, min_samples_split=2, n_estimators=20, score=0.838, total=   0.1s\n",
      "[CV] bootstrap=True, max_depth=5, min_samples_leaf=5, min_samples_split=2, n_estimators=20 \n",
      "[CV]  bootstrap=True, max_depth=5, min_samples_leaf=5, min_samples_split=2, n_estimators=20, score=0.817, total=   0.0s\n",
      "[CV] bootstrap=True, max_depth=5, min_samples_leaf=5, min_samples_split=2, n_estimators=20 \n",
      "[CV]  bootstrap=True, max_depth=5, min_samples_leaf=5, min_samples_split=2, n_estimators=20, score=0.855, total=   0.0s\n",
      "[CV] bootstrap=True, max_depth=5, min_samples_leaf=5, min_samples_split=2, n_estimators=20 \n",
      "[CV]  bootstrap=True, max_depth=5, min_samples_leaf=5, min_samples_split=2, n_estimators=20, score=0.836, total=   0.0s\n",
      "[CV] bootstrap=True, max_depth=5, min_samples_leaf=5, min_samples_split=2, n_estimators=20 \n",
      "[CV]  bootstrap=True, max_depth=5, min_samples_leaf=5, min_samples_split=2, n_estimators=20, score=0.795, total=   0.0s\n",
      "[CV] bootstrap=True, max_depth=5, min_samples_leaf=7, min_samples_split=2, n_estimators=20 \n",
      "[CV]  bootstrap=True, max_depth=5, min_samples_leaf=7, min_samples_split=2, n_estimators=20, score=0.842, total=   0.0s\n",
      "[CV] bootstrap=True, max_depth=5, min_samples_leaf=7, min_samples_split=2, n_estimators=20 \n",
      "[CV]  bootstrap=True, max_depth=5, min_samples_leaf=7, min_samples_split=2, n_estimators=20, score=0.821, total=   0.0s\n",
      "[CV] bootstrap=True, max_depth=5, min_samples_leaf=7, min_samples_split=2, n_estimators=20 \n"
     ]
    },
    {
     "name": "stdout",
     "output_type": "stream",
     "text": [
      "[CV]  bootstrap=True, max_depth=5, min_samples_leaf=7, min_samples_split=2, n_estimators=20, score=0.858, total=   0.0s\n",
      "[CV] bootstrap=True, max_depth=5, min_samples_leaf=7, min_samples_split=2, n_estimators=20 \n",
      "[CV]  bootstrap=True, max_depth=5, min_samples_leaf=7, min_samples_split=2, n_estimators=20, score=0.837, total=   0.0s\n",
      "[CV] bootstrap=True, max_depth=5, min_samples_leaf=7, min_samples_split=2, n_estimators=20 \n",
      "[CV]  bootstrap=True, max_depth=5, min_samples_leaf=7, min_samples_split=2, n_estimators=20, score=0.796, total=   0.0s\n",
      "[CV] bootstrap=True, max_depth=5, min_samples_leaf=9, min_samples_split=2, n_estimators=20 \n",
      "[CV]  bootstrap=True, max_depth=5, min_samples_leaf=9, min_samples_split=2, n_estimators=20, score=0.844, total=   0.0s\n",
      "[CV] bootstrap=True, max_depth=5, min_samples_leaf=9, min_samples_split=2, n_estimators=20 \n",
      "[CV]  bootstrap=True, max_depth=5, min_samples_leaf=9, min_samples_split=2, n_estimators=20, score=0.819, total=   0.0s\n",
      "[CV] bootstrap=True, max_depth=5, min_samples_leaf=9, min_samples_split=2, n_estimators=20 \n",
      "[CV]  bootstrap=True, max_depth=5, min_samples_leaf=9, min_samples_split=2, n_estimators=20, score=0.857, total=   0.0s\n",
      "[CV] bootstrap=True, max_depth=5, min_samples_leaf=9, min_samples_split=2, n_estimators=20 \n",
      "[CV]  bootstrap=True, max_depth=5, min_samples_leaf=9, min_samples_split=2, n_estimators=20, score=0.836, total=   0.0s\n",
      "[CV] bootstrap=True, max_depth=5, min_samples_leaf=9, min_samples_split=2, n_estimators=20 \n",
      "[CV]  bootstrap=True, max_depth=5, min_samples_leaf=9, min_samples_split=2, n_estimators=20, score=0.796, total=   0.0s\n",
      "[CV] bootstrap=True, max_depth=5, min_samples_leaf=11, min_samples_split=2, n_estimators=20 \n",
      "[CV]  bootstrap=True, max_depth=5, min_samples_leaf=11, min_samples_split=2, n_estimators=20, score=0.845, total=   0.0s\n",
      "[CV] bootstrap=True, max_depth=5, min_samples_leaf=11, min_samples_split=2, n_estimators=20 \n",
      "[CV]  bootstrap=True, max_depth=5, min_samples_leaf=11, min_samples_split=2, n_estimators=20, score=0.815, total=   0.0s\n",
      "[CV] bootstrap=True, max_depth=5, min_samples_leaf=11, min_samples_split=2, n_estimators=20 \n",
      "[CV]  bootstrap=True, max_depth=5, min_samples_leaf=11, min_samples_split=2, n_estimators=20, score=0.857, total=   0.0s\n",
      "[CV] bootstrap=True, max_depth=5, min_samples_leaf=11, min_samples_split=2, n_estimators=20 \n",
      "[CV]  bootstrap=True, max_depth=5, min_samples_leaf=11, min_samples_split=2, n_estimators=20, score=0.834, total=   0.0s\n",
      "[CV] bootstrap=True, max_depth=5, min_samples_leaf=11, min_samples_split=2, n_estimators=20 \n",
      "[CV]  bootstrap=True, max_depth=5, min_samples_leaf=11, min_samples_split=2, n_estimators=20, score=0.796, total=   0.0s\n",
      "[CV] bootstrap=True, max_depth=5, min_samples_leaf=13, min_samples_split=2, n_estimators=20 \n",
      "[CV]  bootstrap=True, max_depth=5, min_samples_leaf=13, min_samples_split=2, n_estimators=20, score=0.842, total=   0.0s\n",
      "[CV] bootstrap=True, max_depth=5, min_samples_leaf=13, min_samples_split=2, n_estimators=20 \n",
      "[CV]  bootstrap=True, max_depth=5, min_samples_leaf=13, min_samples_split=2, n_estimators=20, score=0.811, total=   0.0s\n",
      "[CV] bootstrap=True, max_depth=5, min_samples_leaf=13, min_samples_split=2, n_estimators=20 \n",
      "[CV]  bootstrap=True, max_depth=5, min_samples_leaf=13, min_samples_split=2, n_estimators=20, score=0.853, total=   0.0s\n",
      "[CV] bootstrap=True, max_depth=5, min_samples_leaf=13, min_samples_split=2, n_estimators=20 \n",
      "[CV]  bootstrap=True, max_depth=5, min_samples_leaf=13, min_samples_split=2, n_estimators=20, score=0.836, total=   0.0s\n",
      "[CV] bootstrap=True, max_depth=5, min_samples_leaf=13, min_samples_split=2, n_estimators=20 \n",
      "[CV]  bootstrap=True, max_depth=5, min_samples_leaf=13, min_samples_split=2, n_estimators=20, score=0.794, total=   0.0s\n",
      "[CV] bootstrap=True, max_depth=7, min_samples_leaf=1, min_samples_split=2, n_estimators=20 \n",
      "[CV]  bootstrap=True, max_depth=7, min_samples_leaf=1, min_samples_split=2, n_estimators=20, score=0.827, total=   0.0s\n",
      "[CV] bootstrap=True, max_depth=7, min_samples_leaf=1, min_samples_split=2, n_estimators=20 \n",
      "[CV]  bootstrap=True, max_depth=7, min_samples_leaf=1, min_samples_split=2, n_estimators=20, score=0.779, total=   0.0s\n",
      "[CV] bootstrap=True, max_depth=7, min_samples_leaf=1, min_samples_split=2, n_estimators=20 \n",
      "[CV]  bootstrap=True, max_depth=7, min_samples_leaf=1, min_samples_split=2, n_estimators=20, score=0.837, total=   0.0s\n",
      "[CV] bootstrap=True, max_depth=7, min_samples_leaf=1, min_samples_split=2, n_estimators=20 \n",
      "[CV]  bootstrap=True, max_depth=7, min_samples_leaf=1, min_samples_split=2, n_estimators=20, score=0.811, total=   0.1s\n",
      "[CV] bootstrap=True, max_depth=7, min_samples_leaf=1, min_samples_split=2, n_estimators=20 \n",
      "[CV]  bootstrap=True, max_depth=7, min_samples_leaf=1, min_samples_split=2, n_estimators=20, score=0.779, total=   0.0s\n",
      "[CV] bootstrap=True, max_depth=7, min_samples_leaf=3, min_samples_split=2, n_estimators=20 \n",
      "[CV]  bootstrap=True, max_depth=7, min_samples_leaf=3, min_samples_split=2, n_estimators=20, score=0.832, total=   0.0s\n",
      "[CV] bootstrap=True, max_depth=7, min_samples_leaf=3, min_samples_split=2, n_estimators=20 \n",
      "[CV]  bootstrap=True, max_depth=7, min_samples_leaf=3, min_samples_split=2, n_estimators=20, score=0.810, total=   0.0s\n",
      "[CV] bootstrap=True, max_depth=7, min_samples_leaf=3, min_samples_split=2, n_estimators=20 \n",
      "[CV]  bootstrap=True, max_depth=7, min_samples_leaf=3, min_samples_split=2, n_estimators=20, score=0.842, total=   0.0s\n",
      "[CV] bootstrap=True, max_depth=7, min_samples_leaf=3, min_samples_split=2, n_estimators=20 \n",
      "[CV]  bootstrap=True, max_depth=7, min_samples_leaf=3, min_samples_split=2, n_estimators=20, score=0.827, total=   0.0s\n",
      "[CV] bootstrap=True, max_depth=7, min_samples_leaf=3, min_samples_split=2, n_estimators=20 \n",
      "[CV]  bootstrap=True, max_depth=7, min_samples_leaf=3, min_samples_split=2, n_estimators=20, score=0.786, total=   0.0s\n",
      "[CV] bootstrap=True, max_depth=7, min_samples_leaf=5, min_samples_split=2, n_estimators=20 \n",
      "[CV]  bootstrap=True, max_depth=7, min_samples_leaf=5, min_samples_split=2, n_estimators=20, score=0.833, total=   0.0s\n",
      "[CV] bootstrap=True, max_depth=7, min_samples_leaf=5, min_samples_split=2, n_estimators=20 \n",
      "[CV]  bootstrap=True, max_depth=7, min_samples_leaf=5, min_samples_split=2, n_estimators=20, score=0.815, total=   0.0s\n",
      "[CV] bootstrap=True, max_depth=7, min_samples_leaf=5, min_samples_split=2, n_estimators=20 \n",
      "[CV]  bootstrap=True, max_depth=7, min_samples_leaf=5, min_samples_split=2, n_estimators=20, score=0.850, total=   0.0s\n",
      "[CV] bootstrap=True, max_depth=7, min_samples_leaf=5, min_samples_split=2, n_estimators=20 \n",
      "[CV]  bootstrap=True, max_depth=7, min_samples_leaf=5, min_samples_split=2, n_estimators=20, score=0.833, total=   0.0s\n",
      "[CV] bootstrap=True, max_depth=7, min_samples_leaf=5, min_samples_split=2, n_estimators=20 \n",
      "[CV]  bootstrap=True, max_depth=7, min_samples_leaf=5, min_samples_split=2, n_estimators=20, score=0.794, total=   0.0s\n",
      "[CV] bootstrap=True, max_depth=7, min_samples_leaf=7, min_samples_split=2, n_estimators=20 \n",
      "[CV]  bootstrap=True, max_depth=7, min_samples_leaf=7, min_samples_split=2, n_estimators=20, score=0.839, total=   0.0s\n",
      "[CV] bootstrap=True, max_depth=7, min_samples_leaf=7, min_samples_split=2, n_estimators=20 \n",
      "[CV]  bootstrap=True, max_depth=7, min_samples_leaf=7, min_samples_split=2, n_estimators=20, score=0.819, total=   0.0s\n",
      "[CV] bootstrap=True, max_depth=7, min_samples_leaf=7, min_samples_split=2, n_estimators=20 \n",
      "[CV]  bootstrap=True, max_depth=7, min_samples_leaf=7, min_samples_split=2, n_estimators=20, score=0.854, total=   0.0s\n",
      "[CV] bootstrap=True, max_depth=7, min_samples_leaf=7, min_samples_split=2, n_estimators=20 \n",
      "[CV]  bootstrap=True, max_depth=7, min_samples_leaf=7, min_samples_split=2, n_estimators=20, score=0.835, total=   0.0s\n",
      "[CV] bootstrap=True, max_depth=7, min_samples_leaf=7, min_samples_split=2, n_estimators=20 \n",
      "[CV]  bootstrap=True, max_depth=7, min_samples_leaf=7, min_samples_split=2, n_estimators=20, score=0.796, total=   0.0s\n",
      "[CV] bootstrap=True, max_depth=7, min_samples_leaf=9, min_samples_split=2, n_estimators=20 \n",
      "[CV]  bootstrap=True, max_depth=7, min_samples_leaf=9, min_samples_split=2, n_estimators=20, score=0.842, total=   0.0s\n",
      "[CV] bootstrap=True, max_depth=7, min_samples_leaf=9, min_samples_split=2, n_estimators=20 \n",
      "[CV]  bootstrap=True, max_depth=7, min_samples_leaf=9, min_samples_split=2, n_estimators=20, score=0.816, total=   0.0s\n",
      "[CV] bootstrap=True, max_depth=7, min_samples_leaf=9, min_samples_split=2, n_estimators=20 \n",
      "[CV]  bootstrap=True, max_depth=7, min_samples_leaf=9, min_samples_split=2, n_estimators=20, score=0.855, total=   0.0s\n",
      "[CV] bootstrap=True, max_depth=7, min_samples_leaf=9, min_samples_split=2, n_estimators=20 \n",
      "[CV]  bootstrap=True, max_depth=7, min_samples_leaf=9, min_samples_split=2, n_estimators=20, score=0.833, total=   0.0s\n",
      "[CV] bootstrap=True, max_depth=7, min_samples_leaf=9, min_samples_split=2, n_estimators=20 \n",
      "[CV]  bootstrap=True, max_depth=7, min_samples_leaf=9, min_samples_split=2, n_estimators=20, score=0.797, total=   0.0s\n",
      "[CV] bootstrap=True, max_depth=7, min_samples_leaf=11, min_samples_split=2, n_estimators=20 \n",
      "[CV]  bootstrap=True, max_depth=7, min_samples_leaf=11, min_samples_split=2, n_estimators=20, score=0.844, total=   0.0s\n",
      "[CV] bootstrap=True, max_depth=7, min_samples_leaf=11, min_samples_split=2, n_estimators=20 \n"
     ]
    },
    {
     "name": "stdout",
     "output_type": "stream",
     "text": [
      "[CV]  bootstrap=True, max_depth=7, min_samples_leaf=11, min_samples_split=2, n_estimators=20, score=0.814, total=   0.0s\n",
      "[CV] bootstrap=True, max_depth=7, min_samples_leaf=11, min_samples_split=2, n_estimators=20 \n",
      "[CV]  bootstrap=True, max_depth=7, min_samples_leaf=11, min_samples_split=2, n_estimators=20, score=0.855, total=   0.0s\n",
      "[CV] bootstrap=True, max_depth=7, min_samples_leaf=11, min_samples_split=2, n_estimators=20 \n",
      "[CV]  bootstrap=True, max_depth=7, min_samples_leaf=11, min_samples_split=2, n_estimators=20, score=0.834, total=   0.0s\n",
      "[CV] bootstrap=True, max_depth=7, min_samples_leaf=11, min_samples_split=2, n_estimators=20 \n",
      "[CV]  bootstrap=True, max_depth=7, min_samples_leaf=11, min_samples_split=2, n_estimators=20, score=0.796, total=   0.0s\n",
      "[CV] bootstrap=True, max_depth=7, min_samples_leaf=13, min_samples_split=2, n_estimators=20 \n",
      "[CV]  bootstrap=True, max_depth=7, min_samples_leaf=13, min_samples_split=2, n_estimators=20, score=0.842, total=   0.0s\n",
      "[CV] bootstrap=True, max_depth=7, min_samples_leaf=13, min_samples_split=2, n_estimators=20 \n",
      "[CV]  bootstrap=True, max_depth=7, min_samples_leaf=13, min_samples_split=2, n_estimators=20, score=0.809, total=   0.0s\n",
      "[CV] bootstrap=True, max_depth=7, min_samples_leaf=13, min_samples_split=2, n_estimators=20 \n",
      "[CV]  bootstrap=True, max_depth=7, min_samples_leaf=13, min_samples_split=2, n_estimators=20, score=0.852, total=   0.0s\n",
      "[CV] bootstrap=True, max_depth=7, min_samples_leaf=13, min_samples_split=2, n_estimators=20 \n",
      "[CV]  bootstrap=True, max_depth=7, min_samples_leaf=13, min_samples_split=2, n_estimators=20, score=0.835, total=   0.0s\n",
      "[CV] bootstrap=True, max_depth=7, min_samples_leaf=13, min_samples_split=2, n_estimators=20 \n",
      "[CV]  bootstrap=True, max_depth=7, min_samples_leaf=13, min_samples_split=2, n_estimators=20, score=0.793, total=   0.0s\n",
      "[CV] bootstrap=True, max_depth=9, min_samples_leaf=1, min_samples_split=2, n_estimators=20 \n",
      "[CV]  bootstrap=True, max_depth=9, min_samples_leaf=1, min_samples_split=2, n_estimators=20, score=0.815, total=   0.0s\n",
      "[CV] bootstrap=True, max_depth=9, min_samples_leaf=1, min_samples_split=2, n_estimators=20 \n",
      "[CV]  bootstrap=True, max_depth=9, min_samples_leaf=1, min_samples_split=2, n_estimators=20, score=0.764, total=   0.0s\n",
      "[CV] bootstrap=True, max_depth=9, min_samples_leaf=1, min_samples_split=2, n_estimators=20 \n",
      "[CV]  bootstrap=True, max_depth=9, min_samples_leaf=1, min_samples_split=2, n_estimators=20, score=0.828, total=   0.0s\n",
      "[CV] bootstrap=True, max_depth=9, min_samples_leaf=1, min_samples_split=2, n_estimators=20 \n",
      "[CV]  bootstrap=True, max_depth=9, min_samples_leaf=1, min_samples_split=2, n_estimators=20, score=0.799, total=   0.1s\n",
      "[CV] bootstrap=True, max_depth=9, min_samples_leaf=1, min_samples_split=2, n_estimators=20 \n",
      "[CV]  bootstrap=True, max_depth=9, min_samples_leaf=1, min_samples_split=2, n_estimators=20, score=0.767, total=   0.0s\n",
      "[CV] bootstrap=True, max_depth=9, min_samples_leaf=3, min_samples_split=2, n_estimators=20 \n",
      "[CV]  bootstrap=True, max_depth=9, min_samples_leaf=3, min_samples_split=2, n_estimators=20, score=0.831, total=   0.0s\n",
      "[CV] bootstrap=True, max_depth=9, min_samples_leaf=3, min_samples_split=2, n_estimators=20 \n",
      "[CV]  bootstrap=True, max_depth=9, min_samples_leaf=3, min_samples_split=2, n_estimators=20, score=0.807, total=   0.0s\n",
      "[CV] bootstrap=True, max_depth=9, min_samples_leaf=3, min_samples_split=2, n_estimators=20 \n",
      "[CV]  bootstrap=True, max_depth=9, min_samples_leaf=3, min_samples_split=2, n_estimators=20, score=0.838, total=   0.0s\n",
      "[CV] bootstrap=True, max_depth=9, min_samples_leaf=3, min_samples_split=2, n_estimators=20 \n",
      "[CV]  bootstrap=True, max_depth=9, min_samples_leaf=3, min_samples_split=2, n_estimators=20, score=0.826, total=   0.0s\n",
      "[CV] bootstrap=True, max_depth=9, min_samples_leaf=3, min_samples_split=2, n_estimators=20 \n",
      "[CV]  bootstrap=True, max_depth=9, min_samples_leaf=3, min_samples_split=2, n_estimators=20, score=0.783, total=   0.0s\n",
      "[CV] bootstrap=True, max_depth=9, min_samples_leaf=5, min_samples_split=2, n_estimators=20 \n",
      "[CV]  bootstrap=True, max_depth=9, min_samples_leaf=5, min_samples_split=2, n_estimators=20, score=0.833, total=   0.0s\n",
      "[CV] bootstrap=True, max_depth=9, min_samples_leaf=5, min_samples_split=2, n_estimators=20 \n",
      "[CV]  bootstrap=True, max_depth=9, min_samples_leaf=5, min_samples_split=2, n_estimators=20, score=0.816, total=   0.0s\n",
      "[CV] bootstrap=True, max_depth=9, min_samples_leaf=5, min_samples_split=2, n_estimators=20 \n",
      "[CV]  bootstrap=True, max_depth=9, min_samples_leaf=5, min_samples_split=2, n_estimators=20, score=0.850, total=   0.0s\n",
      "[CV] bootstrap=True, max_depth=9, min_samples_leaf=5, min_samples_split=2, n_estimators=20 \n",
      "[CV]  bootstrap=True, max_depth=9, min_samples_leaf=5, min_samples_split=2, n_estimators=20, score=0.834, total=   0.0s\n",
      "[CV] bootstrap=True, max_depth=9, min_samples_leaf=5, min_samples_split=2, n_estimators=20 \n",
      "[CV]  bootstrap=True, max_depth=9, min_samples_leaf=5, min_samples_split=2, n_estimators=20, score=0.794, total=   0.0s\n",
      "[CV] bootstrap=True, max_depth=9, min_samples_leaf=7, min_samples_split=2, n_estimators=20 \n",
      "[CV]  bootstrap=True, max_depth=9, min_samples_leaf=7, min_samples_split=2, n_estimators=20, score=0.838, total=   0.0s\n",
      "[CV] bootstrap=True, max_depth=9, min_samples_leaf=7, min_samples_split=2, n_estimators=20 \n",
      "[CV]  bootstrap=True, max_depth=9, min_samples_leaf=7, min_samples_split=2, n_estimators=20, score=0.819, total=   0.0s\n",
      "[CV] bootstrap=True, max_depth=9, min_samples_leaf=7, min_samples_split=2, n_estimators=20 \n",
      "[CV]  bootstrap=True, max_depth=9, min_samples_leaf=7, min_samples_split=2, n_estimators=20, score=0.854, total=   0.0s\n",
      "[CV] bootstrap=True, max_depth=9, min_samples_leaf=7, min_samples_split=2, n_estimators=20 \n",
      "[CV]  bootstrap=True, max_depth=9, min_samples_leaf=7, min_samples_split=2, n_estimators=20, score=0.835, total=   0.0s\n",
      "[CV] bootstrap=True, max_depth=9, min_samples_leaf=7, min_samples_split=2, n_estimators=20 \n",
      "[CV]  bootstrap=True, max_depth=9, min_samples_leaf=7, min_samples_split=2, n_estimators=20, score=0.796, total=   0.0s\n",
      "[CV] bootstrap=True, max_depth=9, min_samples_leaf=9, min_samples_split=2, n_estimators=20 \n",
      "[CV]  bootstrap=True, max_depth=9, min_samples_leaf=9, min_samples_split=2, n_estimators=20, score=0.842, total=   0.0s\n",
      "[CV] bootstrap=True, max_depth=9, min_samples_leaf=9, min_samples_split=2, n_estimators=20 \n",
      "[CV]  bootstrap=True, max_depth=9, min_samples_leaf=9, min_samples_split=2, n_estimators=20, score=0.815, total=   0.0s\n",
      "[CV] bootstrap=True, max_depth=9, min_samples_leaf=9, min_samples_split=2, n_estimators=20 \n",
      "[CV]  bootstrap=True, max_depth=9, min_samples_leaf=9, min_samples_split=2, n_estimators=20, score=0.855, total=   0.0s\n",
      "[CV] bootstrap=True, max_depth=9, min_samples_leaf=9, min_samples_split=2, n_estimators=20 \n",
      "[CV]  bootstrap=True, max_depth=9, min_samples_leaf=9, min_samples_split=2, n_estimators=20, score=0.833, total=   0.0s\n",
      "[CV] bootstrap=True, max_depth=9, min_samples_leaf=9, min_samples_split=2, n_estimators=20 \n",
      "[CV]  bootstrap=True, max_depth=9, min_samples_leaf=9, min_samples_split=2, n_estimators=20, score=0.797, total=   0.0s\n",
      "[CV] bootstrap=True, max_depth=9, min_samples_leaf=11, min_samples_split=2, n_estimators=20 \n",
      "[CV]  bootstrap=True, max_depth=9, min_samples_leaf=11, min_samples_split=2, n_estimators=20, score=0.844, total=   0.0s\n",
      "[CV] bootstrap=True, max_depth=9, min_samples_leaf=11, min_samples_split=2, n_estimators=20 \n",
      "[CV]  bootstrap=True, max_depth=9, min_samples_leaf=11, min_samples_split=2, n_estimators=20, score=0.814, total=   0.0s\n",
      "[CV] bootstrap=True, max_depth=9, min_samples_leaf=11, min_samples_split=2, n_estimators=20 \n",
      "[CV]  bootstrap=True, max_depth=9, min_samples_leaf=11, min_samples_split=2, n_estimators=20, score=0.855, total=   0.0s\n",
      "[CV] bootstrap=True, max_depth=9, min_samples_leaf=11, min_samples_split=2, n_estimators=20 \n",
      "[CV]  bootstrap=True, max_depth=9, min_samples_leaf=11, min_samples_split=2, n_estimators=20, score=0.834, total=   0.0s\n",
      "[CV] bootstrap=True, max_depth=9, min_samples_leaf=11, min_samples_split=2, n_estimators=20 \n",
      "[CV]  bootstrap=True, max_depth=9, min_samples_leaf=11, min_samples_split=2, n_estimators=20, score=0.796, total=   0.0s\n",
      "[CV] bootstrap=True, max_depth=9, min_samples_leaf=13, min_samples_split=2, n_estimators=20 \n",
      "[CV]  bootstrap=True, max_depth=9, min_samples_leaf=13, min_samples_split=2, n_estimators=20, score=0.842, total=   0.0s\n",
      "[CV] bootstrap=True, max_depth=9, min_samples_leaf=13, min_samples_split=2, n_estimators=20 \n"
     ]
    },
    {
     "name": "stdout",
     "output_type": "stream",
     "text": [
      "[CV]  bootstrap=True, max_depth=9, min_samples_leaf=13, min_samples_split=2, n_estimators=20, score=0.810, total=   0.0s\n",
      "[CV] bootstrap=True, max_depth=9, min_samples_leaf=13, min_samples_split=2, n_estimators=20 \n",
      "[CV]  bootstrap=True, max_depth=9, min_samples_leaf=13, min_samples_split=2, n_estimators=20, score=0.852, total=   0.0s\n",
      "[CV] bootstrap=True, max_depth=9, min_samples_leaf=13, min_samples_split=2, n_estimators=20 \n",
      "[CV]  bootstrap=True, max_depth=9, min_samples_leaf=13, min_samples_split=2, n_estimators=20, score=0.835, total=   0.0s\n",
      "[CV] bootstrap=True, max_depth=9, min_samples_leaf=13, min_samples_split=2, n_estimators=20 \n",
      "[CV]  bootstrap=True, max_depth=9, min_samples_leaf=13, min_samples_split=2, n_estimators=20, score=0.793, total=   0.0s\n",
      "[CV] bootstrap=True, max_depth=11, min_samples_leaf=1, min_samples_split=2, n_estimators=20 \n",
      "[CV]  bootstrap=True, max_depth=11, min_samples_leaf=1, min_samples_split=2, n_estimators=20, score=0.810, total=   0.0s\n",
      "[CV] bootstrap=True, max_depth=11, min_samples_leaf=1, min_samples_split=2, n_estimators=20 \n",
      "[CV]  bootstrap=True, max_depth=11, min_samples_leaf=1, min_samples_split=2, n_estimators=20, score=0.761, total=   0.0s\n",
      "[CV] bootstrap=True, max_depth=11, min_samples_leaf=1, min_samples_split=2, n_estimators=20 \n",
      "[CV]  bootstrap=True, max_depth=11, min_samples_leaf=1, min_samples_split=2, n_estimators=20, score=0.824, total=   0.1s\n",
      "[CV] bootstrap=True, max_depth=11, min_samples_leaf=1, min_samples_split=2, n_estimators=20 \n",
      "[CV]  bootstrap=True, max_depth=11, min_samples_leaf=1, min_samples_split=2, n_estimators=20, score=0.795, total=   0.0s\n",
      "[CV] bootstrap=True, max_depth=11, min_samples_leaf=1, min_samples_split=2, n_estimators=20 \n",
      "[CV]  bootstrap=True, max_depth=11, min_samples_leaf=1, min_samples_split=2, n_estimators=20, score=0.762, total=   0.0s\n",
      "[CV] bootstrap=True, max_depth=11, min_samples_leaf=3, min_samples_split=2, n_estimators=20 \n",
      "[CV]  bootstrap=True, max_depth=11, min_samples_leaf=3, min_samples_split=2, n_estimators=20, score=0.831, total=   0.0s\n",
      "[CV] bootstrap=True, max_depth=11, min_samples_leaf=3, min_samples_split=2, n_estimators=20 \n",
      "[CV]  bootstrap=True, max_depth=11, min_samples_leaf=3, min_samples_split=2, n_estimators=20, score=0.807, total=   0.0s\n",
      "[CV] bootstrap=True, max_depth=11, min_samples_leaf=3, min_samples_split=2, n_estimators=20 \n",
      "[CV]  bootstrap=True, max_depth=11, min_samples_leaf=3, min_samples_split=2, n_estimators=20, score=0.839, total=   0.0s\n",
      "[CV] bootstrap=True, max_depth=11, min_samples_leaf=3, min_samples_split=2, n_estimators=20 \n",
      "[CV]  bootstrap=True, max_depth=11, min_samples_leaf=3, min_samples_split=2, n_estimators=20, score=0.827, total=   0.0s\n",
      "[CV] bootstrap=True, max_depth=11, min_samples_leaf=3, min_samples_split=2, n_estimators=20 \n",
      "[CV]  bootstrap=True, max_depth=11, min_samples_leaf=3, min_samples_split=2, n_estimators=20, score=0.784, total=   0.0s\n",
      "[CV] bootstrap=True, max_depth=11, min_samples_leaf=5, min_samples_split=2, n_estimators=20 \n",
      "[CV]  bootstrap=True, max_depth=11, min_samples_leaf=5, min_samples_split=2, n_estimators=20, score=0.833, total=   0.0s\n",
      "[CV] bootstrap=True, max_depth=11, min_samples_leaf=5, min_samples_split=2, n_estimators=20 \n",
      "[CV]  bootstrap=True, max_depth=11, min_samples_leaf=5, min_samples_split=2, n_estimators=20, score=0.816, total=   0.0s\n",
      "[CV] bootstrap=True, max_depth=11, min_samples_leaf=5, min_samples_split=2, n_estimators=20 \n",
      "[CV]  bootstrap=True, max_depth=11, min_samples_leaf=5, min_samples_split=2, n_estimators=20, score=0.850, total=   0.0s\n",
      "[CV] bootstrap=True, max_depth=11, min_samples_leaf=5, min_samples_split=2, n_estimators=20 \n",
      "[CV]  bootstrap=True, max_depth=11, min_samples_leaf=5, min_samples_split=2, n_estimators=20, score=0.834, total=   0.1s\n",
      "[CV] bootstrap=True, max_depth=11, min_samples_leaf=5, min_samples_split=2, n_estimators=20 \n",
      "[CV]  bootstrap=True, max_depth=11, min_samples_leaf=5, min_samples_split=2, n_estimators=20, score=0.794, total=   0.0s\n",
      "[CV] bootstrap=True, max_depth=11, min_samples_leaf=7, min_samples_split=2, n_estimators=20 \n",
      "[CV]  bootstrap=True, max_depth=11, min_samples_leaf=7, min_samples_split=2, n_estimators=20, score=0.838, total=   0.0s\n",
      "[CV] bootstrap=True, max_depth=11, min_samples_leaf=7, min_samples_split=2, n_estimators=20 \n",
      "[CV]  bootstrap=True, max_depth=11, min_samples_leaf=7, min_samples_split=2, n_estimators=20, score=0.819, total=   0.0s\n",
      "[CV] bootstrap=True, max_depth=11, min_samples_leaf=7, min_samples_split=2, n_estimators=20 \n",
      "[CV]  bootstrap=True, max_depth=11, min_samples_leaf=7, min_samples_split=2, n_estimators=20, score=0.854, total=   0.0s\n",
      "[CV] bootstrap=True, max_depth=11, min_samples_leaf=7, min_samples_split=2, n_estimators=20 \n",
      "[CV]  bootstrap=True, max_depth=11, min_samples_leaf=7, min_samples_split=2, n_estimators=20, score=0.835, total=   0.0s\n",
      "[CV] bootstrap=True, max_depth=11, min_samples_leaf=7, min_samples_split=2, n_estimators=20 \n",
      "[CV]  bootstrap=True, max_depth=11, min_samples_leaf=7, min_samples_split=2, n_estimators=20, score=0.796, total=   0.0s\n",
      "[CV] bootstrap=True, max_depth=11, min_samples_leaf=9, min_samples_split=2, n_estimators=20 \n",
      "[CV]  bootstrap=True, max_depth=11, min_samples_leaf=9, min_samples_split=2, n_estimators=20, score=0.842, total=   0.0s\n",
      "[CV] bootstrap=True, max_depth=11, min_samples_leaf=9, min_samples_split=2, n_estimators=20 \n",
      "[CV]  bootstrap=True, max_depth=11, min_samples_leaf=9, min_samples_split=2, n_estimators=20, score=0.815, total=   0.0s\n",
      "[CV] bootstrap=True, max_depth=11, min_samples_leaf=9, min_samples_split=2, n_estimators=20 \n",
      "[CV]  bootstrap=True, max_depth=11, min_samples_leaf=9, min_samples_split=2, n_estimators=20, score=0.855, total=   0.0s\n",
      "[CV] bootstrap=True, max_depth=11, min_samples_leaf=9, min_samples_split=2, n_estimators=20 \n",
      "[CV]  bootstrap=True, max_depth=11, min_samples_leaf=9, min_samples_split=2, n_estimators=20, score=0.833, total=   0.0s\n",
      "[CV] bootstrap=True, max_depth=11, min_samples_leaf=9, min_samples_split=2, n_estimators=20 \n",
      "[CV]  bootstrap=True, max_depth=11, min_samples_leaf=9, min_samples_split=2, n_estimators=20, score=0.797, total=   0.0s\n",
      "[CV] bootstrap=True, max_depth=11, min_samples_leaf=11, min_samples_split=2, n_estimators=20 \n",
      "[CV]  bootstrap=True, max_depth=11, min_samples_leaf=11, min_samples_split=2, n_estimators=20, score=0.844, total=   0.0s\n",
      "[CV] bootstrap=True, max_depth=11, min_samples_leaf=11, min_samples_split=2, n_estimators=20 \n",
      "[CV]  bootstrap=True, max_depth=11, min_samples_leaf=11, min_samples_split=2, n_estimators=20, score=0.814, total=   0.0s\n",
      "[CV] bootstrap=True, max_depth=11, min_samples_leaf=11, min_samples_split=2, n_estimators=20 \n",
      "[CV]  bootstrap=True, max_depth=11, min_samples_leaf=11, min_samples_split=2, n_estimators=20, score=0.855, total=   0.0s\n",
      "[CV] bootstrap=True, max_depth=11, min_samples_leaf=11, min_samples_split=2, n_estimators=20 \n",
      "[CV]  bootstrap=True, max_depth=11, min_samples_leaf=11, min_samples_split=2, n_estimators=20, score=0.834, total=   0.0s\n",
      "[CV] bootstrap=True, max_depth=11, min_samples_leaf=11, min_samples_split=2, n_estimators=20 \n",
      "[CV]  bootstrap=True, max_depth=11, min_samples_leaf=11, min_samples_split=2, n_estimators=20, score=0.796, total=   0.0s\n",
      "[CV] bootstrap=True, max_depth=11, min_samples_leaf=13, min_samples_split=2, n_estimators=20 \n",
      "[CV]  bootstrap=True, max_depth=11, min_samples_leaf=13, min_samples_split=2, n_estimators=20, score=0.842, total=   0.0s\n",
      "[CV] bootstrap=True, max_depth=11, min_samples_leaf=13, min_samples_split=2, n_estimators=20 \n",
      "[CV]  bootstrap=True, max_depth=11, min_samples_leaf=13, min_samples_split=2, n_estimators=20, score=0.810, total=   0.0s\n",
      "[CV] bootstrap=True, max_depth=11, min_samples_leaf=13, min_samples_split=2, n_estimators=20 \n",
      "[CV]  bootstrap=True, max_depth=11, min_samples_leaf=13, min_samples_split=2, n_estimators=20, score=0.852, total=   0.0s\n",
      "[CV] bootstrap=True, max_depth=11, min_samples_leaf=13, min_samples_split=2, n_estimators=20 \n",
      "[CV]  bootstrap=True, max_depth=11, min_samples_leaf=13, min_samples_split=2, n_estimators=20, score=0.835, total=   0.0s\n",
      "[CV] bootstrap=True, max_depth=11, min_samples_leaf=13, min_samples_split=2, n_estimators=20 \n",
      "[CV]  bootstrap=True, max_depth=11, min_samples_leaf=13, min_samples_split=2, n_estimators=20, score=0.793, total=   0.0s\n",
      "[CV] bootstrap=False, max_depth=1, min_samples_leaf=1, min_samples_split=2, n_estimators=20 \n",
      "[CV]  bootstrap=False, max_depth=1, min_samples_leaf=1, min_samples_split=2, n_estimators=20, score=0.616, total=   0.0s\n",
      "[CV] bootstrap=False, max_depth=1, min_samples_leaf=1, min_samples_split=2, n_estimators=20 \n",
      "[CV]  bootstrap=False, max_depth=1, min_samples_leaf=1, min_samples_split=2, n_estimators=20, score=0.451, total=   0.0s\n",
      "[CV] bootstrap=False, max_depth=1, min_samples_leaf=1, min_samples_split=2, n_estimators=20 \n",
      "[CV]  bootstrap=False, max_depth=1, min_samples_leaf=1, min_samples_split=2, n_estimators=20, score=0.647, total=   0.0s\n",
      "[CV] bootstrap=False, max_depth=1, min_samples_leaf=1, min_samples_split=2, n_estimators=20 \n",
      "[CV]  bootstrap=False, max_depth=1, min_samples_leaf=1, min_samples_split=2, n_estimators=20, score=0.595, total=   0.0s\n",
      "[CV] bootstrap=False, max_depth=1, min_samples_leaf=1, min_samples_split=2, n_estimators=20 \n"
     ]
    },
    {
     "name": "stdout",
     "output_type": "stream",
     "text": [
      "[CV]  bootstrap=False, max_depth=1, min_samples_leaf=1, min_samples_split=2, n_estimators=20, score=0.584, total=   0.0s\n",
      "[CV] bootstrap=False, max_depth=1, min_samples_leaf=3, min_samples_split=2, n_estimators=20 \n",
      "[CV]  bootstrap=False, max_depth=1, min_samples_leaf=3, min_samples_split=2, n_estimators=20, score=0.616, total=   0.0s\n",
      "[CV] bootstrap=False, max_depth=1, min_samples_leaf=3, min_samples_split=2, n_estimators=20 \n",
      "[CV]  bootstrap=False, max_depth=1, min_samples_leaf=3, min_samples_split=2, n_estimators=20, score=0.451, total=   0.0s\n",
      "[CV] bootstrap=False, max_depth=1, min_samples_leaf=3, min_samples_split=2, n_estimators=20 \n",
      "[CV]  bootstrap=False, max_depth=1, min_samples_leaf=3, min_samples_split=2, n_estimators=20, score=0.647, total=   0.0s\n",
      "[CV] bootstrap=False, max_depth=1, min_samples_leaf=3, min_samples_split=2, n_estimators=20 \n",
      "[CV]  bootstrap=False, max_depth=1, min_samples_leaf=3, min_samples_split=2, n_estimators=20, score=0.595, total=   0.0s\n",
      "[CV] bootstrap=False, max_depth=1, min_samples_leaf=3, min_samples_split=2, n_estimators=20 \n",
      "[CV]  bootstrap=False, max_depth=1, min_samples_leaf=3, min_samples_split=2, n_estimators=20, score=0.584, total=   0.0s\n",
      "[CV] bootstrap=False, max_depth=1, min_samples_leaf=5, min_samples_split=2, n_estimators=20 \n",
      "[CV]  bootstrap=False, max_depth=1, min_samples_leaf=5, min_samples_split=2, n_estimators=20, score=0.616, total=   0.0s\n",
      "[CV] bootstrap=False, max_depth=1, min_samples_leaf=5, min_samples_split=2, n_estimators=20 \n",
      "[CV]  bootstrap=False, max_depth=1, min_samples_leaf=5, min_samples_split=2, n_estimators=20, score=0.451, total=   0.0s\n",
      "[CV] bootstrap=False, max_depth=1, min_samples_leaf=5, min_samples_split=2, n_estimators=20 \n",
      "[CV]  bootstrap=False, max_depth=1, min_samples_leaf=5, min_samples_split=2, n_estimators=20, score=0.647, total=   0.0s\n",
      "[CV] bootstrap=False, max_depth=1, min_samples_leaf=5, min_samples_split=2, n_estimators=20 \n",
      "[CV]  bootstrap=False, max_depth=1, min_samples_leaf=5, min_samples_split=2, n_estimators=20, score=0.595, total=   0.0s\n",
      "[CV] bootstrap=False, max_depth=1, min_samples_leaf=5, min_samples_split=2, n_estimators=20 \n",
      "[CV]  bootstrap=False, max_depth=1, min_samples_leaf=5, min_samples_split=2, n_estimators=20, score=0.584, total=   0.0s\n",
      "[CV] bootstrap=False, max_depth=1, min_samples_leaf=7, min_samples_split=2, n_estimators=20 \n",
      "[CV]  bootstrap=False, max_depth=1, min_samples_leaf=7, min_samples_split=2, n_estimators=20, score=0.616, total=   0.0s\n",
      "[CV] bootstrap=False, max_depth=1, min_samples_leaf=7, min_samples_split=2, n_estimators=20 \n",
      "[CV]  bootstrap=False, max_depth=1, min_samples_leaf=7, min_samples_split=2, n_estimators=20, score=0.451, total=   0.0s\n",
      "[CV] bootstrap=False, max_depth=1, min_samples_leaf=7, min_samples_split=2, n_estimators=20 \n",
      "[CV]  bootstrap=False, max_depth=1, min_samples_leaf=7, min_samples_split=2, n_estimators=20, score=0.647, total=   0.0s\n",
      "[CV] bootstrap=False, max_depth=1, min_samples_leaf=7, min_samples_split=2, n_estimators=20 \n",
      "[CV]  bootstrap=False, max_depth=1, min_samples_leaf=7, min_samples_split=2, n_estimators=20, score=0.595, total=   0.0s\n",
      "[CV] bootstrap=False, max_depth=1, min_samples_leaf=7, min_samples_split=2, n_estimators=20 \n",
      "[CV]  bootstrap=False, max_depth=1, min_samples_leaf=7, min_samples_split=2, n_estimators=20, score=0.584, total=   0.0s\n",
      "[CV] bootstrap=False, max_depth=1, min_samples_leaf=9, min_samples_split=2, n_estimators=20 \n",
      "[CV]  bootstrap=False, max_depth=1, min_samples_leaf=9, min_samples_split=2, n_estimators=20, score=0.616, total=   0.0s\n",
      "[CV] bootstrap=False, max_depth=1, min_samples_leaf=9, min_samples_split=2, n_estimators=20 \n",
      "[CV]  bootstrap=False, max_depth=1, min_samples_leaf=9, min_samples_split=2, n_estimators=20, score=0.451, total=   0.0s\n",
      "[CV] bootstrap=False, max_depth=1, min_samples_leaf=9, min_samples_split=2, n_estimators=20 \n",
      "[CV]  bootstrap=False, max_depth=1, min_samples_leaf=9, min_samples_split=2, n_estimators=20, score=0.647, total=   0.0s\n",
      "[CV] bootstrap=False, max_depth=1, min_samples_leaf=9, min_samples_split=2, n_estimators=20 \n",
      "[CV]  bootstrap=False, max_depth=1, min_samples_leaf=9, min_samples_split=2, n_estimators=20, score=0.595, total=   0.0s\n",
      "[CV] bootstrap=False, max_depth=1, min_samples_leaf=9, min_samples_split=2, n_estimators=20 \n",
      "[CV]  bootstrap=False, max_depth=1, min_samples_leaf=9, min_samples_split=2, n_estimators=20, score=0.584, total=   0.0s\n",
      "[CV] bootstrap=False, max_depth=1, min_samples_leaf=11, min_samples_split=2, n_estimators=20 \n",
      "[CV]  bootstrap=False, max_depth=1, min_samples_leaf=11, min_samples_split=2, n_estimators=20, score=0.616, total=   0.0s\n",
      "[CV] bootstrap=False, max_depth=1, min_samples_leaf=11, min_samples_split=2, n_estimators=20 \n",
      "[CV]  bootstrap=False, max_depth=1, min_samples_leaf=11, min_samples_split=2, n_estimators=20, score=0.451, total=   0.0s\n",
      "[CV] bootstrap=False, max_depth=1, min_samples_leaf=11, min_samples_split=2, n_estimators=20 \n",
      "[CV]  bootstrap=False, max_depth=1, min_samples_leaf=11, min_samples_split=2, n_estimators=20, score=0.647, total=   0.0s\n",
      "[CV] bootstrap=False, max_depth=1, min_samples_leaf=11, min_samples_split=2, n_estimators=20 \n",
      "[CV]  bootstrap=False, max_depth=1, min_samples_leaf=11, min_samples_split=2, n_estimators=20, score=0.595, total=   0.0s\n",
      "[CV] bootstrap=False, max_depth=1, min_samples_leaf=11, min_samples_split=2, n_estimators=20 \n",
      "[CV]  bootstrap=False, max_depth=1, min_samples_leaf=11, min_samples_split=2, n_estimators=20, score=0.584, total=   0.0s\n",
      "[CV] bootstrap=False, max_depth=1, min_samples_leaf=13, min_samples_split=2, n_estimators=20 \n",
      "[CV]  bootstrap=False, max_depth=1, min_samples_leaf=13, min_samples_split=2, n_estimators=20, score=0.616, total=   0.0s\n",
      "[CV] bootstrap=False, max_depth=1, min_samples_leaf=13, min_samples_split=2, n_estimators=20 \n",
      "[CV]  bootstrap=False, max_depth=1, min_samples_leaf=13, min_samples_split=2, n_estimators=20, score=0.451, total=   0.0s\n",
      "[CV] bootstrap=False, max_depth=1, min_samples_leaf=13, min_samples_split=2, n_estimators=20 \n",
      "[CV]  bootstrap=False, max_depth=1, min_samples_leaf=13, min_samples_split=2, n_estimators=20, score=0.647, total=   0.0s\n",
      "[CV] bootstrap=False, max_depth=1, min_samples_leaf=13, min_samples_split=2, n_estimators=20 \n",
      "[CV]  bootstrap=False, max_depth=1, min_samples_leaf=13, min_samples_split=2, n_estimators=20, score=0.595, total=   0.0s\n",
      "[CV] bootstrap=False, max_depth=1, min_samples_leaf=13, min_samples_split=2, n_estimators=20 \n",
      "[CV]  bootstrap=False, max_depth=1, min_samples_leaf=13, min_samples_split=2, n_estimators=20, score=0.584, total=   0.0s\n",
      "[CV] bootstrap=False, max_depth=3, min_samples_leaf=1, min_samples_split=2, n_estimators=20 \n",
      "[CV]  bootstrap=False, max_depth=3, min_samples_leaf=1, min_samples_split=2, n_estimators=20, score=0.819, total=   0.0s\n",
      "[CV] bootstrap=False, max_depth=3, min_samples_leaf=1, min_samples_split=2, n_estimators=20 \n",
      "[CV]  bootstrap=False, max_depth=3, min_samples_leaf=1, min_samples_split=2, n_estimators=20, score=0.806, total=   0.0s\n",
      "[CV] bootstrap=False, max_depth=3, min_samples_leaf=1, min_samples_split=2, n_estimators=20 \n",
      "[CV]  bootstrap=False, max_depth=3, min_samples_leaf=1, min_samples_split=2, n_estimators=20, score=0.843, total=   0.0s\n",
      "[CV] bootstrap=False, max_depth=3, min_samples_leaf=1, min_samples_split=2, n_estimators=20 \n",
      "[CV]  bootstrap=False, max_depth=3, min_samples_leaf=1, min_samples_split=2, n_estimators=20, score=0.804, total=   0.0s\n",
      "[CV] bootstrap=False, max_depth=3, min_samples_leaf=1, min_samples_split=2, n_estimators=20 \n",
      "[CV]  bootstrap=False, max_depth=3, min_samples_leaf=1, min_samples_split=2, n_estimators=20, score=0.787, total=   0.0s\n",
      "[CV] bootstrap=False, max_depth=3, min_samples_leaf=3, min_samples_split=2, n_estimators=20 \n",
      "[CV]  bootstrap=False, max_depth=3, min_samples_leaf=3, min_samples_split=2, n_estimators=20, score=0.819, total=   0.0s\n",
      "[CV] bootstrap=False, max_depth=3, min_samples_leaf=3, min_samples_split=2, n_estimators=20 \n",
      "[CV]  bootstrap=False, max_depth=3, min_samples_leaf=3, min_samples_split=2, n_estimators=20, score=0.806, total=   0.0s\n",
      "[CV] bootstrap=False, max_depth=3, min_samples_leaf=3, min_samples_split=2, n_estimators=20 \n",
      "[CV]  bootstrap=False, max_depth=3, min_samples_leaf=3, min_samples_split=2, n_estimators=20, score=0.843, total=   0.0s\n",
      "[CV] bootstrap=False, max_depth=3, min_samples_leaf=3, min_samples_split=2, n_estimators=20 \n",
      "[CV]  bootstrap=False, max_depth=3, min_samples_leaf=3, min_samples_split=2, n_estimators=20, score=0.804, total=   0.0s\n",
      "[CV] bootstrap=False, max_depth=3, min_samples_leaf=3, min_samples_split=2, n_estimators=20 \n",
      "[CV]  bootstrap=False, max_depth=3, min_samples_leaf=3, min_samples_split=2, n_estimators=20, score=0.787, total=   0.0s\n",
      "[CV] bootstrap=False, max_depth=3, min_samples_leaf=5, min_samples_split=2, n_estimators=20 \n",
      "[CV]  bootstrap=False, max_depth=3, min_samples_leaf=5, min_samples_split=2, n_estimators=20, score=0.819, total=   0.0s\n",
      "[CV] bootstrap=False, max_depth=3, min_samples_leaf=5, min_samples_split=2, n_estimators=20 \n",
      "[CV]  bootstrap=False, max_depth=3, min_samples_leaf=5, min_samples_split=2, n_estimators=20, score=0.806, total=   0.0s\n",
      "[CV] bootstrap=False, max_depth=3, min_samples_leaf=5, min_samples_split=2, n_estimators=20 \n"
     ]
    },
    {
     "name": "stdout",
     "output_type": "stream",
     "text": [
      "[CV]  bootstrap=False, max_depth=3, min_samples_leaf=5, min_samples_split=2, n_estimators=20, score=0.843, total=   0.0s\n",
      "[CV] bootstrap=False, max_depth=3, min_samples_leaf=5, min_samples_split=2, n_estimators=20 \n",
      "[CV]  bootstrap=False, max_depth=3, min_samples_leaf=5, min_samples_split=2, n_estimators=20, score=0.804, total=   0.0s\n",
      "[CV] bootstrap=False, max_depth=3, min_samples_leaf=5, min_samples_split=2, n_estimators=20 \n",
      "[CV]  bootstrap=False, max_depth=3, min_samples_leaf=5, min_samples_split=2, n_estimators=20, score=0.787, total=   0.0s\n",
      "[CV] bootstrap=False, max_depth=3, min_samples_leaf=7, min_samples_split=2, n_estimators=20 \n",
      "[CV]  bootstrap=False, max_depth=3, min_samples_leaf=7, min_samples_split=2, n_estimators=20, score=0.819, total=   0.0s\n",
      "[CV] bootstrap=False, max_depth=3, min_samples_leaf=7, min_samples_split=2, n_estimators=20 \n",
      "[CV]  bootstrap=False, max_depth=3, min_samples_leaf=7, min_samples_split=2, n_estimators=20, score=0.806, total=   0.0s\n",
      "[CV] bootstrap=False, max_depth=3, min_samples_leaf=7, min_samples_split=2, n_estimators=20 \n",
      "[CV]  bootstrap=False, max_depth=3, min_samples_leaf=7, min_samples_split=2, n_estimators=20, score=0.843, total=   0.0s\n",
      "[CV] bootstrap=False, max_depth=3, min_samples_leaf=7, min_samples_split=2, n_estimators=20 \n",
      "[CV]  bootstrap=False, max_depth=3, min_samples_leaf=7, min_samples_split=2, n_estimators=20, score=0.804, total=   0.0s\n",
      "[CV] bootstrap=False, max_depth=3, min_samples_leaf=7, min_samples_split=2, n_estimators=20 \n",
      "[CV]  bootstrap=False, max_depth=3, min_samples_leaf=7, min_samples_split=2, n_estimators=20, score=0.787, total=   0.0s\n",
      "[CV] bootstrap=False, max_depth=3, min_samples_leaf=9, min_samples_split=2, n_estimators=20 \n",
      "[CV]  bootstrap=False, max_depth=3, min_samples_leaf=9, min_samples_split=2, n_estimators=20, score=0.819, total=   0.0s\n",
      "[CV] bootstrap=False, max_depth=3, min_samples_leaf=9, min_samples_split=2, n_estimators=20 \n",
      "[CV]  bootstrap=False, max_depth=3, min_samples_leaf=9, min_samples_split=2, n_estimators=20, score=0.806, total=   0.0s\n",
      "[CV] bootstrap=False, max_depth=3, min_samples_leaf=9, min_samples_split=2, n_estimators=20 \n",
      "[CV]  bootstrap=False, max_depth=3, min_samples_leaf=9, min_samples_split=2, n_estimators=20, score=0.843, total=   0.0s\n",
      "[CV] bootstrap=False, max_depth=3, min_samples_leaf=9, min_samples_split=2, n_estimators=20 \n",
      "[CV]  bootstrap=False, max_depth=3, min_samples_leaf=9, min_samples_split=2, n_estimators=20, score=0.804, total=   0.0s\n",
      "[CV] bootstrap=False, max_depth=3, min_samples_leaf=9, min_samples_split=2, n_estimators=20 \n",
      "[CV]  bootstrap=False, max_depth=3, min_samples_leaf=9, min_samples_split=2, n_estimators=20, score=0.787, total=   0.0s\n",
      "[CV] bootstrap=False, max_depth=3, min_samples_leaf=11, min_samples_split=2, n_estimators=20 \n",
      "[CV]  bootstrap=False, max_depth=3, min_samples_leaf=11, min_samples_split=2, n_estimators=20, score=0.819, total=   0.0s\n",
      "[CV] bootstrap=False, max_depth=3, min_samples_leaf=11, min_samples_split=2, n_estimators=20 \n",
      "[CV]  bootstrap=False, max_depth=3, min_samples_leaf=11, min_samples_split=2, n_estimators=20, score=0.806, total=   0.0s\n",
      "[CV] bootstrap=False, max_depth=3, min_samples_leaf=11, min_samples_split=2, n_estimators=20 \n",
      "[CV]  bootstrap=False, max_depth=3, min_samples_leaf=11, min_samples_split=2, n_estimators=20, score=0.843, total=   0.0s\n",
      "[CV] bootstrap=False, max_depth=3, min_samples_leaf=11, min_samples_split=2, n_estimators=20 \n",
      "[CV]  bootstrap=False, max_depth=3, min_samples_leaf=11, min_samples_split=2, n_estimators=20, score=0.804, total=   0.0s\n",
      "[CV] bootstrap=False, max_depth=3, min_samples_leaf=11, min_samples_split=2, n_estimators=20 \n",
      "[CV]  bootstrap=False, max_depth=3, min_samples_leaf=11, min_samples_split=2, n_estimators=20, score=0.787, total=   0.0s\n",
      "[CV] bootstrap=False, max_depth=3, min_samples_leaf=13, min_samples_split=2, n_estimators=20 \n",
      "[CV]  bootstrap=False, max_depth=3, min_samples_leaf=13, min_samples_split=2, n_estimators=20, score=0.819, total=   0.0s\n",
      "[CV] bootstrap=False, max_depth=3, min_samples_leaf=13, min_samples_split=2, n_estimators=20 \n",
      "[CV]  bootstrap=False, max_depth=3, min_samples_leaf=13, min_samples_split=2, n_estimators=20, score=0.806, total=   0.0s\n",
      "[CV] bootstrap=False, max_depth=3, min_samples_leaf=13, min_samples_split=2, n_estimators=20 \n",
      "[CV]  bootstrap=False, max_depth=3, min_samples_leaf=13, min_samples_split=2, n_estimators=20, score=0.843, total=   0.0s\n",
      "[CV] bootstrap=False, max_depth=3, min_samples_leaf=13, min_samples_split=2, n_estimators=20 \n",
      "[CV]  bootstrap=False, max_depth=3, min_samples_leaf=13, min_samples_split=2, n_estimators=20, score=0.804, total=   0.0s\n",
      "[CV] bootstrap=False, max_depth=3, min_samples_leaf=13, min_samples_split=2, n_estimators=20 \n",
      "[CV]  bootstrap=False, max_depth=3, min_samples_leaf=13, min_samples_split=2, n_estimators=20, score=0.787, total=   0.0s\n",
      "[CV] bootstrap=False, max_depth=5, min_samples_leaf=1, min_samples_split=2, n_estimators=20 \n",
      "[CV]  bootstrap=False, max_depth=5, min_samples_leaf=1, min_samples_split=2, n_estimators=20, score=0.792, total=   0.0s\n",
      "[CV] bootstrap=False, max_depth=5, min_samples_leaf=1, min_samples_split=2, n_estimators=20 \n",
      "[CV]  bootstrap=False, max_depth=5, min_samples_leaf=1, min_samples_split=2, n_estimators=20, score=0.763, total=   0.0s\n",
      "[CV] bootstrap=False, max_depth=5, min_samples_leaf=1, min_samples_split=2, n_estimators=20 \n",
      "[CV]  bootstrap=False, max_depth=5, min_samples_leaf=1, min_samples_split=2, n_estimators=20, score=0.825, total=   0.0s\n",
      "[CV] bootstrap=False, max_depth=5, min_samples_leaf=1, min_samples_split=2, n_estimators=20 \n",
      "[CV]  bootstrap=False, max_depth=5, min_samples_leaf=1, min_samples_split=2, n_estimators=20, score=0.727, total=   0.0s\n",
      "[CV] bootstrap=False, max_depth=5, min_samples_leaf=1, min_samples_split=2, n_estimators=20 \n",
      "[CV]  bootstrap=False, max_depth=5, min_samples_leaf=1, min_samples_split=2, n_estimators=20, score=0.775, total=   0.0s\n",
      "[CV] bootstrap=False, max_depth=5, min_samples_leaf=3, min_samples_split=2, n_estimators=20 \n",
      "[CV]  bootstrap=False, max_depth=5, min_samples_leaf=3, min_samples_split=2, n_estimators=20, score=0.828, total=   0.0s\n",
      "[CV] bootstrap=False, max_depth=5, min_samples_leaf=3, min_samples_split=2, n_estimators=20 \n",
      "[CV]  bootstrap=False, max_depth=5, min_samples_leaf=3, min_samples_split=2, n_estimators=20, score=0.798, total=   0.0s\n",
      "[CV] bootstrap=False, max_depth=5, min_samples_leaf=3, min_samples_split=2, n_estimators=20 \n",
      "[CV]  bootstrap=False, max_depth=5, min_samples_leaf=3, min_samples_split=2, n_estimators=20, score=0.839, total=   0.0s\n",
      "[CV] bootstrap=False, max_depth=5, min_samples_leaf=3, min_samples_split=2, n_estimators=20 \n",
      "[CV]  bootstrap=False, max_depth=5, min_samples_leaf=3, min_samples_split=2, n_estimators=20, score=0.800, total=   0.0s\n",
      "[CV] bootstrap=False, max_depth=5, min_samples_leaf=3, min_samples_split=2, n_estimators=20 \n",
      "[CV]  bootstrap=False, max_depth=5, min_samples_leaf=3, min_samples_split=2, n_estimators=20, score=0.775, total=   0.0s\n",
      "[CV] bootstrap=False, max_depth=5, min_samples_leaf=5, min_samples_split=2, n_estimators=20 \n",
      "[CV]  bootstrap=False, max_depth=5, min_samples_leaf=5, min_samples_split=2, n_estimators=20, score=0.827, total=   0.0s\n",
      "[CV] bootstrap=False, max_depth=5, min_samples_leaf=5, min_samples_split=2, n_estimators=20 \n",
      "[CV]  bootstrap=False, max_depth=5, min_samples_leaf=5, min_samples_split=2, n_estimators=20, score=0.797, total=   0.0s\n",
      "[CV] bootstrap=False, max_depth=5, min_samples_leaf=5, min_samples_split=2, n_estimators=20 \n",
      "[CV]  bootstrap=False, max_depth=5, min_samples_leaf=5, min_samples_split=2, n_estimators=20, score=0.836, total=   0.0s\n",
      "[CV] bootstrap=False, max_depth=5, min_samples_leaf=5, min_samples_split=2, n_estimators=20 \n",
      "[CV]  bootstrap=False, max_depth=5, min_samples_leaf=5, min_samples_split=2, n_estimators=20, score=0.810, total=   0.0s\n",
      "[CV] bootstrap=False, max_depth=5, min_samples_leaf=5, min_samples_split=2, n_estimators=20 \n",
      "[CV]  bootstrap=False, max_depth=5, min_samples_leaf=5, min_samples_split=2, n_estimators=20, score=0.780, total=   0.0s\n",
      "[CV] bootstrap=False, max_depth=5, min_samples_leaf=7, min_samples_split=2, n_estimators=20 \n",
      "[CV]  bootstrap=False, max_depth=5, min_samples_leaf=7, min_samples_split=2, n_estimators=20, score=0.827, total=   0.0s\n",
      "[CV] bootstrap=False, max_depth=5, min_samples_leaf=7, min_samples_split=2, n_estimators=20 \n",
      "[CV]  bootstrap=False, max_depth=5, min_samples_leaf=7, min_samples_split=2, n_estimators=20, score=0.797, total=   0.0s\n",
      "[CV] bootstrap=False, max_depth=5, min_samples_leaf=7, min_samples_split=2, n_estimators=20 \n",
      "[CV]  bootstrap=False, max_depth=5, min_samples_leaf=7, min_samples_split=2, n_estimators=20, score=0.849, total=   0.0s\n",
      "[CV] bootstrap=False, max_depth=5, min_samples_leaf=7, min_samples_split=2, n_estimators=20 \n",
      "[CV]  bootstrap=False, max_depth=5, min_samples_leaf=7, min_samples_split=2, n_estimators=20, score=0.822, total=   0.0s\n",
      "[CV] bootstrap=False, max_depth=5, min_samples_leaf=7, min_samples_split=2, n_estimators=20 \n"
     ]
    },
    {
     "name": "stdout",
     "output_type": "stream",
     "text": [
      "[CV]  bootstrap=False, max_depth=5, min_samples_leaf=7, min_samples_split=2, n_estimators=20, score=0.788, total=   0.0s\n",
      "[CV] bootstrap=False, max_depth=5, min_samples_leaf=9, min_samples_split=2, n_estimators=20 \n",
      "[CV]  bootstrap=False, max_depth=5, min_samples_leaf=9, min_samples_split=2, n_estimators=20, score=0.827, total=   0.0s\n",
      "[CV] bootstrap=False, max_depth=5, min_samples_leaf=9, min_samples_split=2, n_estimators=20 \n",
      "[CV]  bootstrap=False, max_depth=5, min_samples_leaf=9, min_samples_split=2, n_estimators=20, score=0.807, total=   0.0s\n",
      "[CV] bootstrap=False, max_depth=5, min_samples_leaf=9, min_samples_split=2, n_estimators=20 \n",
      "[CV]  bootstrap=False, max_depth=5, min_samples_leaf=9, min_samples_split=2, n_estimators=20, score=0.853, total=   0.0s\n",
      "[CV] bootstrap=False, max_depth=5, min_samples_leaf=9, min_samples_split=2, n_estimators=20 \n",
      "[CV]  bootstrap=False, max_depth=5, min_samples_leaf=9, min_samples_split=2, n_estimators=20, score=0.821, total=   0.0s\n",
      "[CV] bootstrap=False, max_depth=5, min_samples_leaf=9, min_samples_split=2, n_estimators=20 \n",
      "[CV]  bootstrap=False, max_depth=5, min_samples_leaf=9, min_samples_split=2, n_estimators=20, score=0.787, total=   0.0s\n",
      "[CV] bootstrap=False, max_depth=5, min_samples_leaf=11, min_samples_split=2, n_estimators=20 \n",
      "[CV]  bootstrap=False, max_depth=5, min_samples_leaf=11, min_samples_split=2, n_estimators=20, score=0.826, total=   0.0s\n",
      "[CV] bootstrap=False, max_depth=5, min_samples_leaf=11, min_samples_split=2, n_estimators=20 \n",
      "[CV]  bootstrap=False, max_depth=5, min_samples_leaf=11, min_samples_split=2, n_estimators=20, score=0.819, total=   0.0s\n",
      "[CV] bootstrap=False, max_depth=5, min_samples_leaf=11, min_samples_split=2, n_estimators=20 \n",
      "[CV]  bootstrap=False, max_depth=5, min_samples_leaf=11, min_samples_split=2, n_estimators=20, score=0.851, total=   0.0s\n",
      "[CV] bootstrap=False, max_depth=5, min_samples_leaf=11, min_samples_split=2, n_estimators=20 \n",
      "[CV]  bootstrap=False, max_depth=5, min_samples_leaf=11, min_samples_split=2, n_estimators=20, score=0.816, total=   0.0s\n",
      "[CV] bootstrap=False, max_depth=5, min_samples_leaf=11, min_samples_split=2, n_estimators=20 \n",
      "[CV]  bootstrap=False, max_depth=5, min_samples_leaf=11, min_samples_split=2, n_estimators=20, score=0.787, total=   0.0s\n",
      "[CV] bootstrap=False, max_depth=5, min_samples_leaf=13, min_samples_split=2, n_estimators=20 \n",
      "[CV]  bootstrap=False, max_depth=5, min_samples_leaf=13, min_samples_split=2, n_estimators=20, score=0.827, total=   0.0s\n",
      "[CV] bootstrap=False, max_depth=5, min_samples_leaf=13, min_samples_split=2, n_estimators=20 \n",
      "[CV]  bootstrap=False, max_depth=5, min_samples_leaf=13, min_samples_split=2, n_estimators=20, score=0.820, total=   0.0s\n",
      "[CV] bootstrap=False, max_depth=5, min_samples_leaf=13, min_samples_split=2, n_estimators=20 \n",
      "[CV]  bootstrap=False, max_depth=5, min_samples_leaf=13, min_samples_split=2, n_estimators=20, score=0.848, total=   0.0s\n",
      "[CV] bootstrap=False, max_depth=5, min_samples_leaf=13, min_samples_split=2, n_estimators=20 \n",
      "[CV]  bootstrap=False, max_depth=5, min_samples_leaf=13, min_samples_split=2, n_estimators=20, score=0.814, total=   0.0s\n",
      "[CV] bootstrap=False, max_depth=5, min_samples_leaf=13, min_samples_split=2, n_estimators=20 \n",
      "[CV]  bootstrap=False, max_depth=5, min_samples_leaf=13, min_samples_split=2, n_estimators=20, score=0.787, total=   0.0s\n",
      "[CV] bootstrap=False, max_depth=7, min_samples_leaf=1, min_samples_split=2, n_estimators=20 \n",
      "[CV]  bootstrap=False, max_depth=7, min_samples_leaf=1, min_samples_split=2, n_estimators=20, score=0.776, total=   0.0s\n",
      "[CV] bootstrap=False, max_depth=7, min_samples_leaf=1, min_samples_split=2, n_estimators=20 \n",
      "[CV]  bootstrap=False, max_depth=7, min_samples_leaf=1, min_samples_split=2, n_estimators=20, score=0.697, total=   0.0s\n",
      "[CV] bootstrap=False, max_depth=7, min_samples_leaf=1, min_samples_split=2, n_estimators=20 \n",
      "[CV]  bootstrap=False, max_depth=7, min_samples_leaf=1, min_samples_split=2, n_estimators=20, score=0.768, total=   0.0s\n",
      "[CV] bootstrap=False, max_depth=7, min_samples_leaf=1, min_samples_split=2, n_estimators=20 \n",
      "[CV]  bootstrap=False, max_depth=7, min_samples_leaf=1, min_samples_split=2, n_estimators=20, score=0.657, total=   0.0s\n",
      "[CV] bootstrap=False, max_depth=7, min_samples_leaf=1, min_samples_split=2, n_estimators=20 \n",
      "[CV]  bootstrap=False, max_depth=7, min_samples_leaf=1, min_samples_split=2, n_estimators=20, score=0.769, total=   0.0s\n",
      "[CV] bootstrap=False, max_depth=7, min_samples_leaf=3, min_samples_split=2, n_estimators=20 \n",
      "[CV]  bootstrap=False, max_depth=7, min_samples_leaf=3, min_samples_split=2, n_estimators=20, score=0.789, total=   0.0s\n",
      "[CV] bootstrap=False, max_depth=7, min_samples_leaf=3, min_samples_split=2, n_estimators=20 \n",
      "[CV]  bootstrap=False, max_depth=7, min_samples_leaf=3, min_samples_split=2, n_estimators=20, score=0.760, total=   0.0s\n",
      "[CV] bootstrap=False, max_depth=7, min_samples_leaf=3, min_samples_split=2, n_estimators=20 \n",
      "[CV]  bootstrap=False, max_depth=7, min_samples_leaf=3, min_samples_split=2, n_estimators=20, score=0.802, total=   0.0s\n",
      "[CV] bootstrap=False, max_depth=7, min_samples_leaf=3, min_samples_split=2, n_estimators=20 \n",
      "[CV]  bootstrap=False, max_depth=7, min_samples_leaf=3, min_samples_split=2, n_estimators=20, score=0.775, total=   0.0s\n",
      "[CV] bootstrap=False, max_depth=7, min_samples_leaf=3, min_samples_split=2, n_estimators=20 \n",
      "[CV]  bootstrap=False, max_depth=7, min_samples_leaf=3, min_samples_split=2, n_estimators=20, score=0.757, total=   0.0s\n",
      "[CV] bootstrap=False, max_depth=7, min_samples_leaf=5, min_samples_split=2, n_estimators=20 \n",
      "[CV]  bootstrap=False, max_depth=7, min_samples_leaf=5, min_samples_split=2, n_estimators=20, score=0.797, total=   0.0s\n",
      "[CV] bootstrap=False, max_depth=7, min_samples_leaf=5, min_samples_split=2, n_estimators=20 \n",
      "[CV]  bootstrap=False, max_depth=7, min_samples_leaf=5, min_samples_split=2, n_estimators=20, score=0.771, total=   0.0s\n",
      "[CV] bootstrap=False, max_depth=7, min_samples_leaf=5, min_samples_split=2, n_estimators=20 \n",
      "[CV]  bootstrap=False, max_depth=7, min_samples_leaf=5, min_samples_split=2, n_estimators=20, score=0.814, total=   0.0s\n",
      "[CV] bootstrap=False, max_depth=7, min_samples_leaf=5, min_samples_split=2, n_estimators=20 \n",
      "[CV]  bootstrap=False, max_depth=7, min_samples_leaf=5, min_samples_split=2, n_estimators=20, score=0.789, total=   0.0s\n",
      "[CV] bootstrap=False, max_depth=7, min_samples_leaf=5, min_samples_split=2, n_estimators=20 \n",
      "[CV]  bootstrap=False, max_depth=7, min_samples_leaf=5, min_samples_split=2, n_estimators=20, score=0.762, total=   0.0s\n",
      "[CV] bootstrap=False, max_depth=7, min_samples_leaf=7, min_samples_split=2, n_estimators=20 \n",
      "[CV]  bootstrap=False, max_depth=7, min_samples_leaf=7, min_samples_split=2, n_estimators=20, score=0.799, total=   0.0s\n",
      "[CV] bootstrap=False, max_depth=7, min_samples_leaf=7, min_samples_split=2, n_estimators=20 \n",
      "[CV]  bootstrap=False, max_depth=7, min_samples_leaf=7, min_samples_split=2, n_estimators=20, score=0.760, total=   0.0s\n",
      "[CV] bootstrap=False, max_depth=7, min_samples_leaf=7, min_samples_split=2, n_estimators=20 \n",
      "[CV]  bootstrap=False, max_depth=7, min_samples_leaf=7, min_samples_split=2, n_estimators=20, score=0.826, total=   0.0s\n",
      "[CV] bootstrap=False, max_depth=7, min_samples_leaf=7, min_samples_split=2, n_estimators=20 \n",
      "[CV]  bootstrap=False, max_depth=7, min_samples_leaf=7, min_samples_split=2, n_estimators=20, score=0.808, total=   0.0s\n",
      "[CV] bootstrap=False, max_depth=7, min_samples_leaf=7, min_samples_split=2, n_estimators=20 \n",
      "[CV]  bootstrap=False, max_depth=7, min_samples_leaf=7, min_samples_split=2, n_estimators=20, score=0.781, total=   0.0s\n",
      "[CV] bootstrap=False, max_depth=7, min_samples_leaf=9, min_samples_split=2, n_estimators=20 \n",
      "[CV]  bootstrap=False, max_depth=7, min_samples_leaf=9, min_samples_split=2, n_estimators=20, score=0.806, total=   0.0s\n",
      "[CV] bootstrap=False, max_depth=7, min_samples_leaf=9, min_samples_split=2, n_estimators=20 \n",
      "[CV]  bootstrap=False, max_depth=7, min_samples_leaf=9, min_samples_split=2, n_estimators=20, score=0.781, total=   0.0s\n",
      "[CV] bootstrap=False, max_depth=7, min_samples_leaf=9, min_samples_split=2, n_estimators=20 \n",
      "[CV]  bootstrap=False, max_depth=7, min_samples_leaf=9, min_samples_split=2, n_estimators=20, score=0.847, total=   0.0s\n",
      "[CV] bootstrap=False, max_depth=7, min_samples_leaf=9, min_samples_split=2, n_estimators=20 \n",
      "[CV]  bootstrap=False, max_depth=7, min_samples_leaf=9, min_samples_split=2, n_estimators=20, score=0.808, total=   0.0s\n",
      "[CV] bootstrap=False, max_depth=7, min_samples_leaf=9, min_samples_split=2, n_estimators=20 \n",
      "[CV]  bootstrap=False, max_depth=7, min_samples_leaf=9, min_samples_split=2, n_estimators=20, score=0.782, total=   0.0s\n",
      "[CV] bootstrap=False, max_depth=7, min_samples_leaf=11, min_samples_split=2, n_estimators=20 \n"
     ]
    },
    {
     "name": "stdout",
     "output_type": "stream",
     "text": [
      "[CV]  bootstrap=False, max_depth=7, min_samples_leaf=11, min_samples_split=2, n_estimators=20, score=0.811, total=   0.0s\n",
      "[CV] bootstrap=False, max_depth=7, min_samples_leaf=11, min_samples_split=2, n_estimators=20 \n",
      "[CV]  bootstrap=False, max_depth=7, min_samples_leaf=11, min_samples_split=2, n_estimators=20, score=0.802, total=   0.0s\n",
      "[CV] bootstrap=False, max_depth=7, min_samples_leaf=11, min_samples_split=2, n_estimators=20 \n",
      "[CV]  bootstrap=False, max_depth=7, min_samples_leaf=11, min_samples_split=2, n_estimators=20, score=0.831, total=   0.0s\n",
      "[CV] bootstrap=False, max_depth=7, min_samples_leaf=11, min_samples_split=2, n_estimators=20 \n",
      "[CV]  bootstrap=False, max_depth=7, min_samples_leaf=11, min_samples_split=2, n_estimators=20, score=0.805, total=   0.0s\n",
      "[CV] bootstrap=False, max_depth=7, min_samples_leaf=11, min_samples_split=2, n_estimators=20 \n",
      "[CV]  bootstrap=False, max_depth=7, min_samples_leaf=11, min_samples_split=2, n_estimators=20, score=0.782, total=   0.0s\n",
      "[CV] bootstrap=False, max_depth=7, min_samples_leaf=13, min_samples_split=2, n_estimators=20 \n",
      "[CV]  bootstrap=False, max_depth=7, min_samples_leaf=13, min_samples_split=2, n_estimators=20, score=0.819, total=   0.0s\n",
      "[CV] bootstrap=False, max_depth=7, min_samples_leaf=13, min_samples_split=2, n_estimators=20 \n",
      "[CV]  bootstrap=False, max_depth=7, min_samples_leaf=13, min_samples_split=2, n_estimators=20, score=0.810, total=   0.0s\n",
      "[CV] bootstrap=False, max_depth=7, min_samples_leaf=13, min_samples_split=2, n_estimators=20 \n",
      "[CV]  bootstrap=False, max_depth=7, min_samples_leaf=13, min_samples_split=2, n_estimators=20, score=0.844, total=   0.0s\n",
      "[CV] bootstrap=False, max_depth=7, min_samples_leaf=13, min_samples_split=2, n_estimators=20 \n",
      "[CV]  bootstrap=False, max_depth=7, min_samples_leaf=13, min_samples_split=2, n_estimators=20, score=0.799, total=   0.0s\n",
      "[CV] bootstrap=False, max_depth=7, min_samples_leaf=13, min_samples_split=2, n_estimators=20 \n",
      "[CV]  bootstrap=False, max_depth=7, min_samples_leaf=13, min_samples_split=2, n_estimators=20, score=0.782, total=   0.0s\n",
      "[CV] bootstrap=False, max_depth=9, min_samples_leaf=1, min_samples_split=2, n_estimators=20 \n",
      "[CV]  bootstrap=False, max_depth=9, min_samples_leaf=1, min_samples_split=2, n_estimators=20, score=0.714, total=   0.1s\n",
      "[CV] bootstrap=False, max_depth=9, min_samples_leaf=1, min_samples_split=2, n_estimators=20 \n",
      "[CV]  bootstrap=False, max_depth=9, min_samples_leaf=1, min_samples_split=2, n_estimators=20, score=0.530, total=   0.0s\n",
      "[CV] bootstrap=False, max_depth=9, min_samples_leaf=1, min_samples_split=2, n_estimators=20 \n",
      "[CV]  bootstrap=False, max_depth=9, min_samples_leaf=1, min_samples_split=2, n_estimators=20, score=0.741, total=   0.1s\n",
      "[CV] bootstrap=False, max_depth=9, min_samples_leaf=1, min_samples_split=2, n_estimators=20 \n",
      "[CV]  bootstrap=False, max_depth=9, min_samples_leaf=1, min_samples_split=2, n_estimators=20, score=0.616, total=   0.1s\n",
      "[CV] bootstrap=False, max_depth=9, min_samples_leaf=1, min_samples_split=2, n_estimators=20 \n",
      "[CV]  bootstrap=False, max_depth=9, min_samples_leaf=1, min_samples_split=2, n_estimators=20, score=0.745, total=   0.1s\n",
      "[CV] bootstrap=False, max_depth=9, min_samples_leaf=3, min_samples_split=2, n_estimators=20 \n",
      "[CV]  bootstrap=False, max_depth=9, min_samples_leaf=3, min_samples_split=2, n_estimators=20, score=0.764, total=   0.0s\n",
      "[CV] bootstrap=False, max_depth=9, min_samples_leaf=3, min_samples_split=2, n_estimators=20 \n",
      "[CV]  bootstrap=False, max_depth=9, min_samples_leaf=3, min_samples_split=2, n_estimators=20, score=0.710, total=   0.0s\n",
      "[CV] bootstrap=False, max_depth=9, min_samples_leaf=3, min_samples_split=2, n_estimators=20 \n",
      "[CV]  bootstrap=False, max_depth=9, min_samples_leaf=3, min_samples_split=2, n_estimators=20, score=0.776, total=   0.1s\n",
      "[CV] bootstrap=False, max_depth=9, min_samples_leaf=3, min_samples_split=2, n_estimators=20 \n",
      "[CV]  bootstrap=False, max_depth=9, min_samples_leaf=3, min_samples_split=2, n_estimators=20, score=0.769, total=   0.0s\n",
      "[CV] bootstrap=False, max_depth=9, min_samples_leaf=3, min_samples_split=2, n_estimators=20 \n",
      "[CV]  bootstrap=False, max_depth=9, min_samples_leaf=3, min_samples_split=2, n_estimators=20, score=0.757, total=   0.0s\n",
      "[CV] bootstrap=False, max_depth=9, min_samples_leaf=5, min_samples_split=2, n_estimators=20 \n",
      "[CV]  bootstrap=False, max_depth=9, min_samples_leaf=5, min_samples_split=2, n_estimators=20, score=0.784, total=   0.0s\n",
      "[CV] bootstrap=False, max_depth=9, min_samples_leaf=5, min_samples_split=2, n_estimators=20 \n",
      "[CV]  bootstrap=False, max_depth=9, min_samples_leaf=5, min_samples_split=2, n_estimators=20, score=0.744, total=   0.1s\n",
      "[CV] bootstrap=False, max_depth=9, min_samples_leaf=5, min_samples_split=2, n_estimators=20 \n",
      "[CV]  bootstrap=False, max_depth=9, min_samples_leaf=5, min_samples_split=2, n_estimators=20, score=0.805, total=   0.0s\n",
      "[CV] bootstrap=False, max_depth=9, min_samples_leaf=5, min_samples_split=2, n_estimators=20 \n",
      "[CV]  bootstrap=False, max_depth=9, min_samples_leaf=5, min_samples_split=2, n_estimators=20, score=0.768, total=   0.0s\n",
      "[CV] bootstrap=False, max_depth=9, min_samples_leaf=5, min_samples_split=2, n_estimators=20 \n",
      "[CV]  bootstrap=False, max_depth=9, min_samples_leaf=5, min_samples_split=2, n_estimators=20, score=0.753, total=   0.0s\n",
      "[CV] bootstrap=False, max_depth=9, min_samples_leaf=7, min_samples_split=2, n_estimators=20 \n",
      "[CV]  bootstrap=False, max_depth=9, min_samples_leaf=7, min_samples_split=2, n_estimators=20, score=0.792, total=   0.0s\n",
      "[CV] bootstrap=False, max_depth=9, min_samples_leaf=7, min_samples_split=2, n_estimators=20 \n",
      "[CV]  bootstrap=False, max_depth=9, min_samples_leaf=7, min_samples_split=2, n_estimators=20, score=0.747, total=   0.0s\n",
      "[CV] bootstrap=False, max_depth=9, min_samples_leaf=7, min_samples_split=2, n_estimators=20 \n",
      "[CV]  bootstrap=False, max_depth=9, min_samples_leaf=7, min_samples_split=2, n_estimators=20, score=0.828, total=   0.0s\n",
      "[CV] bootstrap=False, max_depth=9, min_samples_leaf=7, min_samples_split=2, n_estimators=20 \n",
      "[CV]  bootstrap=False, max_depth=9, min_samples_leaf=7, min_samples_split=2, n_estimators=20, score=0.802, total=   0.0s\n",
      "[CV] bootstrap=False, max_depth=9, min_samples_leaf=7, min_samples_split=2, n_estimators=20 \n",
      "[CV]  bootstrap=False, max_depth=9, min_samples_leaf=7, min_samples_split=2, n_estimators=20, score=0.783, total=   0.0s\n",
      "[CV] bootstrap=False, max_depth=9, min_samples_leaf=9, min_samples_split=2, n_estimators=20 \n",
      "[CV]  bootstrap=False, max_depth=9, min_samples_leaf=9, min_samples_split=2, n_estimators=20, score=0.807, total=   0.0s\n",
      "[CV] bootstrap=False, max_depth=9, min_samples_leaf=9, min_samples_split=2, n_estimators=20 \n",
      "[CV]  bootstrap=False, max_depth=9, min_samples_leaf=9, min_samples_split=2, n_estimators=20, score=0.775, total=   0.0s\n",
      "[CV] bootstrap=False, max_depth=9, min_samples_leaf=9, min_samples_split=2, n_estimators=20 \n",
      "[CV]  bootstrap=False, max_depth=9, min_samples_leaf=9, min_samples_split=2, n_estimators=20, score=0.847, total=   0.0s\n",
      "[CV] bootstrap=False, max_depth=9, min_samples_leaf=9, min_samples_split=2, n_estimators=20 \n",
      "[CV]  bootstrap=False, max_depth=9, min_samples_leaf=9, min_samples_split=2, n_estimators=20, score=0.801, total=   0.0s\n",
      "[CV] bootstrap=False, max_depth=9, min_samples_leaf=9, min_samples_split=2, n_estimators=20 \n",
      "[CV]  bootstrap=False, max_depth=9, min_samples_leaf=9, min_samples_split=2, n_estimators=20, score=0.781, total=   0.0s\n",
      "[CV] bootstrap=False, max_depth=9, min_samples_leaf=11, min_samples_split=2, n_estimators=20 \n",
      "[CV]  bootstrap=False, max_depth=9, min_samples_leaf=11, min_samples_split=2, n_estimators=20, score=0.813, total=   0.0s\n",
      "[CV] bootstrap=False, max_depth=9, min_samples_leaf=11, min_samples_split=2, n_estimators=20 \n",
      "[CV]  bootstrap=False, max_depth=9, min_samples_leaf=11, min_samples_split=2, n_estimators=20, score=0.798, total=   0.0s\n",
      "[CV] bootstrap=False, max_depth=9, min_samples_leaf=11, min_samples_split=2, n_estimators=20 \n",
      "[CV]  bootstrap=False, max_depth=9, min_samples_leaf=11, min_samples_split=2, n_estimators=20, score=0.830, total=   0.0s\n",
      "[CV] bootstrap=False, max_depth=9, min_samples_leaf=11, min_samples_split=2, n_estimators=20 \n",
      "[CV]  bootstrap=False, max_depth=9, min_samples_leaf=11, min_samples_split=2, n_estimators=20, score=0.799, total=   0.0s\n",
      "[CV] bootstrap=False, max_depth=9, min_samples_leaf=11, min_samples_split=2, n_estimators=20 \n",
      "[CV]  bootstrap=False, max_depth=9, min_samples_leaf=11, min_samples_split=2, n_estimators=20, score=0.784, total=   0.0s\n",
      "[CV] bootstrap=False, max_depth=9, min_samples_leaf=13, min_samples_split=2, n_estimators=20 \n",
      "[CV]  bootstrap=False, max_depth=9, min_samples_leaf=13, min_samples_split=2, n_estimators=20, score=0.819, total=   0.0s\n",
      "[CV] bootstrap=False, max_depth=9, min_samples_leaf=13, min_samples_split=2, n_estimators=20 \n"
     ]
    },
    {
     "name": "stdout",
     "output_type": "stream",
     "text": [
      "[CV]  bootstrap=False, max_depth=9, min_samples_leaf=13, min_samples_split=2, n_estimators=20, score=0.808, total=   0.0s\n",
      "[CV] bootstrap=False, max_depth=9, min_samples_leaf=13, min_samples_split=2, n_estimators=20 \n",
      "[CV]  bootstrap=False, max_depth=9, min_samples_leaf=13, min_samples_split=2, n_estimators=20, score=0.843, total=   0.0s\n",
      "[CV] bootstrap=False, max_depth=9, min_samples_leaf=13, min_samples_split=2, n_estimators=20 \n",
      "[CV]  bootstrap=False, max_depth=9, min_samples_leaf=13, min_samples_split=2, n_estimators=20, score=0.798, total=   0.0s\n",
      "[CV] bootstrap=False, max_depth=9, min_samples_leaf=13, min_samples_split=2, n_estimators=20 \n",
      "[CV]  bootstrap=False, max_depth=9, min_samples_leaf=13, min_samples_split=2, n_estimators=20, score=0.781, total=   0.0s\n",
      "[CV] bootstrap=False, max_depth=11, min_samples_leaf=1, min_samples_split=2, n_estimators=20 \n",
      "[CV]  bootstrap=False, max_depth=11, min_samples_leaf=1, min_samples_split=2, n_estimators=20, score=0.690, total=   0.0s\n",
      "[CV] bootstrap=False, max_depth=11, min_samples_leaf=1, min_samples_split=2, n_estimators=20 \n",
      "[CV]  bootstrap=False, max_depth=11, min_samples_leaf=1, min_samples_split=2, n_estimators=20, score=0.485, total=   0.0s\n",
      "[CV] bootstrap=False, max_depth=11, min_samples_leaf=1, min_samples_split=2, n_estimators=20 \n",
      "[CV]  bootstrap=False, max_depth=11, min_samples_leaf=1, min_samples_split=2, n_estimators=20, score=0.720, total=   0.0s\n",
      "[CV] bootstrap=False, max_depth=11, min_samples_leaf=1, min_samples_split=2, n_estimators=20 \n",
      "[CV]  bootstrap=False, max_depth=11, min_samples_leaf=1, min_samples_split=2, n_estimators=20, score=0.580, total=   0.1s\n",
      "[CV] bootstrap=False, max_depth=11, min_samples_leaf=1, min_samples_split=2, n_estimators=20 \n",
      "[CV]  bootstrap=False, max_depth=11, min_samples_leaf=1, min_samples_split=2, n_estimators=20, score=0.734, total=   0.0s\n",
      "[CV] bootstrap=False, max_depth=11, min_samples_leaf=3, min_samples_split=2, n_estimators=20 \n",
      "[CV]  bootstrap=False, max_depth=11, min_samples_leaf=3, min_samples_split=2, n_estimators=20, score=0.754, total=   0.1s\n",
      "[CV] bootstrap=False, max_depth=11, min_samples_leaf=3, min_samples_split=2, n_estimators=20 \n",
      "[CV]  bootstrap=False, max_depth=11, min_samples_leaf=3, min_samples_split=2, n_estimators=20, score=0.700, total=   0.1s\n",
      "[CV] bootstrap=False, max_depth=11, min_samples_leaf=3, min_samples_split=2, n_estimators=20 \n",
      "[CV]  bootstrap=False, max_depth=11, min_samples_leaf=3, min_samples_split=2, n_estimators=20, score=0.775, total=   0.1s\n",
      "[CV] bootstrap=False, max_depth=11, min_samples_leaf=3, min_samples_split=2, n_estimators=20 \n",
      "[CV]  bootstrap=False, max_depth=11, min_samples_leaf=3, min_samples_split=2, n_estimators=20, score=0.770, total=   0.1s\n",
      "[CV] bootstrap=False, max_depth=11, min_samples_leaf=3, min_samples_split=2, n_estimators=20 \n",
      "[CV]  bootstrap=False, max_depth=11, min_samples_leaf=3, min_samples_split=2, n_estimators=20, score=0.751, total=   0.0s\n",
      "[CV] bootstrap=False, max_depth=11, min_samples_leaf=5, min_samples_split=2, n_estimators=20 \n",
      "[CV]  bootstrap=False, max_depth=11, min_samples_leaf=5, min_samples_split=2, n_estimators=20, score=0.782, total=   0.1s\n",
      "[CV] bootstrap=False, max_depth=11, min_samples_leaf=5, min_samples_split=2, n_estimators=20 \n",
      "[CV]  bootstrap=False, max_depth=11, min_samples_leaf=5, min_samples_split=2, n_estimators=20, score=0.738, total=   0.1s\n",
      "[CV] bootstrap=False, max_depth=11, min_samples_leaf=5, min_samples_split=2, n_estimators=20 \n",
      "[CV]  bootstrap=False, max_depth=11, min_samples_leaf=5, min_samples_split=2, n_estimators=20, score=0.801, total=   0.0s\n",
      "[CV] bootstrap=False, max_depth=11, min_samples_leaf=5, min_samples_split=2, n_estimators=20 \n",
      "[CV]  bootstrap=False, max_depth=11, min_samples_leaf=5, min_samples_split=2, n_estimators=20, score=0.770, total=   0.0s\n",
      "[CV] bootstrap=False, max_depth=11, min_samples_leaf=5, min_samples_split=2, n_estimators=20 \n",
      "[CV]  bootstrap=False, max_depth=11, min_samples_leaf=5, min_samples_split=2, n_estimators=20, score=0.751, total=   0.0s\n",
      "[CV] bootstrap=False, max_depth=11, min_samples_leaf=7, min_samples_split=2, n_estimators=20 \n",
      "[CV]  bootstrap=False, max_depth=11, min_samples_leaf=7, min_samples_split=2, n_estimators=20, score=0.791, total=   0.1s\n",
      "[CV] bootstrap=False, max_depth=11, min_samples_leaf=7, min_samples_split=2, n_estimators=20 \n",
      "[CV]  bootstrap=False, max_depth=11, min_samples_leaf=7, min_samples_split=2, n_estimators=20, score=0.746, total=   0.0s\n",
      "[CV] bootstrap=False, max_depth=11, min_samples_leaf=7, min_samples_split=2, n_estimators=20 \n",
      "[CV]  bootstrap=False, max_depth=11, min_samples_leaf=7, min_samples_split=2, n_estimators=20, score=0.828, total=   0.0s\n",
      "[CV] bootstrap=False, max_depth=11, min_samples_leaf=7, min_samples_split=2, n_estimators=20 \n",
      "[CV]  bootstrap=False, max_depth=11, min_samples_leaf=7, min_samples_split=2, n_estimators=20, score=0.803, total=   0.0s\n",
      "[CV] bootstrap=False, max_depth=11, min_samples_leaf=7, min_samples_split=2, n_estimators=20 \n",
      "[CV]  bootstrap=False, max_depth=11, min_samples_leaf=7, min_samples_split=2, n_estimators=20, score=0.782, total=   0.0s\n",
      "[CV] bootstrap=False, max_depth=11, min_samples_leaf=9, min_samples_split=2, n_estimators=20 \n",
      "[CV]  bootstrap=False, max_depth=11, min_samples_leaf=9, min_samples_split=2, n_estimators=20, score=0.805, total=   0.0s\n",
      "[CV] bootstrap=False, max_depth=11, min_samples_leaf=9, min_samples_split=2, n_estimators=20 \n",
      "[CV]  bootstrap=False, max_depth=11, min_samples_leaf=9, min_samples_split=2, n_estimators=20, score=0.775, total=   0.0s\n",
      "[CV] bootstrap=False, max_depth=11, min_samples_leaf=9, min_samples_split=2, n_estimators=20 \n",
      "[CV]  bootstrap=False, max_depth=11, min_samples_leaf=9, min_samples_split=2, n_estimators=20, score=0.847, total=   0.1s\n",
      "[CV] bootstrap=False, max_depth=11, min_samples_leaf=9, min_samples_split=2, n_estimators=20 \n",
      "[CV]  bootstrap=False, max_depth=11, min_samples_leaf=9, min_samples_split=2, n_estimators=20, score=0.803, total=   0.0s\n",
      "[CV] bootstrap=False, max_depth=11, min_samples_leaf=9, min_samples_split=2, n_estimators=20 \n",
      "[CV]  bootstrap=False, max_depth=11, min_samples_leaf=9, min_samples_split=2, n_estimators=20, score=0.780, total=   0.0s\n",
      "[CV] bootstrap=False, max_depth=11, min_samples_leaf=11, min_samples_split=2, n_estimators=20 \n",
      "[CV]  bootstrap=False, max_depth=11, min_samples_leaf=11, min_samples_split=2, n_estimators=20, score=0.812, total=   0.0s\n",
      "[CV] bootstrap=False, max_depth=11, min_samples_leaf=11, min_samples_split=2, n_estimators=20 \n",
      "[CV]  bootstrap=False, max_depth=11, min_samples_leaf=11, min_samples_split=2, n_estimators=20, score=0.798, total=   0.0s\n",
      "[CV] bootstrap=False, max_depth=11, min_samples_leaf=11, min_samples_split=2, n_estimators=20 \n",
      "[CV]  bootstrap=False, max_depth=11, min_samples_leaf=11, min_samples_split=2, n_estimators=20, score=0.830, total=   0.0s\n",
      "[CV] bootstrap=False, max_depth=11, min_samples_leaf=11, min_samples_split=2, n_estimators=20 \n",
      "[CV]  bootstrap=False, max_depth=11, min_samples_leaf=11, min_samples_split=2, n_estimators=20, score=0.799, total=   0.0s\n",
      "[CV] bootstrap=False, max_depth=11, min_samples_leaf=11, min_samples_split=2, n_estimators=20 \n",
      "[CV]  bootstrap=False, max_depth=11, min_samples_leaf=11, min_samples_split=2, n_estimators=20, score=0.784, total=   0.0s\n",
      "[CV] bootstrap=False, max_depth=11, min_samples_leaf=13, min_samples_split=2, n_estimators=20 \n",
      "[CV]  bootstrap=False, max_depth=11, min_samples_leaf=13, min_samples_split=2, n_estimators=20, score=0.819, total=   0.0s\n",
      "[CV] bootstrap=False, max_depth=11, min_samples_leaf=13, min_samples_split=2, n_estimators=20 \n",
      "[CV]  bootstrap=False, max_depth=11, min_samples_leaf=13, min_samples_split=2, n_estimators=20, score=0.808, total=   0.0s\n",
      "[CV] bootstrap=False, max_depth=11, min_samples_leaf=13, min_samples_split=2, n_estimators=20 \n",
      "[CV]  bootstrap=False, max_depth=11, min_samples_leaf=13, min_samples_split=2, n_estimators=20, score=0.843, total=   0.0s\n",
      "[CV] bootstrap=False, max_depth=11, min_samples_leaf=13, min_samples_split=2, n_estimators=20 \n",
      "[CV]  bootstrap=False, max_depth=11, min_samples_leaf=13, min_samples_split=2, n_estimators=20, score=0.798, total=   0.0s\n",
      "[CV] bootstrap=False, max_depth=11, min_samples_leaf=13, min_samples_split=2, n_estimators=20 \n",
      "[CV]  bootstrap=False, max_depth=11, min_samples_leaf=13, min_samples_split=2, n_estimators=20, score=0.781, total=   0.0s\n"
     ]
    },
    {
     "name": "stderr",
     "output_type": "stream",
     "text": [
      "[Parallel(n_jobs=1)]: Done 420 out of 420 | elapsed:   15.0s finished\n"
     ]
    }
   ],
   "source": [
    "parameter_grid_rf = {\n",
    "    'n_estimators' : [20], # Number of Trees in the Forest \n",
    "    'max_depth' : np.arange(1,13,2), # Maximum Depth of Each Tree\n",
    "    'min_samples_split' : [2], # Minimum Number of Samples Required to Split Internal Node\n",
    "    'min_samples_leaf' : np.arange(1,15,2, dtype=int), # Minimum Number of Samples Required in Leaf Node\n",
    "    'bootstrap' : [True, False] # Bootstap Sample (Sampling with Replacement) True of False\n",
    "}\n",
    "\n",
    "gscv = GridSearchCV(RandomForestRegressor(random_state=0), \n",
    "                    param_grid = parameter_grid_rf, \n",
    "                    cv = 5, \n",
    "                    verbose = 3)\n",
    "\n",
    "model = gscv.fit(X_train, y_train.values.ravel())"
   ]
  },
  {
   "cell_type": "code",
   "execution_count": 62,
   "metadata": {},
   "outputs": [
    {
     "name": "stdout",
     "output_type": "stream",
     "text": [
      "Best Parameter : \n",
      "{'bootstrap': True, 'max_depth': 5, 'min_samples_leaf': 7, 'min_samples_split': 2, 'n_estimators': 20}\n"
     ]
    }
   ],
   "source": [
    "print(f'Best Parameter : \\n{model.best_params_}')"
   ]
  },
  {
   "cell_type": "code",
   "execution_count": 63,
   "metadata": {},
   "outputs": [
    {
     "name": "stdout",
     "output_type": "stream",
     "text": [
      "Train Score : 86.35% and Test Score : 89.15% using Random Forest with Best Parameters.\n"
     ]
    }
   ],
   "source": [
    "print(f'Train Score : {model.score(X_train, y_train)*100:.2f}% and Test Score : {model.score(X_test, y_test)*100:.2f}% using Random Forest with Best Parameters.')"
   ]
  },
  {
   "cell_type": "markdown",
   "metadata": {},
   "source": [
    "### Conclusion\n",
    "\n",
    "**Random Forest** is Better then other Models for this Data Set."
   ]
  }
 ],
 "metadata": {
  "kernelspec": {
   "display_name": "Python 3",
   "language": "python",
   "name": "python3"
  },
  "language_info": {
   "codemirror_mode": {
    "name": "ipython",
    "version": 3
   },
   "file_extension": ".py",
   "mimetype": "text/x-python",
   "name": "python",
   "nbconvert_exporter": "python",
   "pygments_lexer": "ipython3",
   "version": "3.8.5"
  }
 },
 "nbformat": 4,
 "nbformat_minor": 4
}
